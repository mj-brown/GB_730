{
  "cells": [
    {
      "cell_type": "markdown",
      "metadata": {},
      "source": [
        "# Basic Model Wrapped in a function"
      ]
    },
    {
      "cell_type": "code",
      "execution_count": 16,
      "metadata": {},
      "outputs": [],
      "source": [
        "# Creating a function that outputs net earnings\n",
        "def net_earnings(unit_price = 125,\n",
        "        volume = 8400,\n",
        "        unit_cost = 62,\n",
        "        sales_com_factor = .03):\n",
        "    # Gross profit calculations\n",
        "    gross_sales = unit_price*volume\n",
        "    cogs = unit_cost*volume\n",
        "    gross_profit = gross_sales - cogs\n",
        "    \n",
        "    #Expenses Calculations\n",
        "    sales_com = sales_com_factor*gross_sales\n",
        "    \n",
        "    #Net earnings output\n",
        "    net_earnings = gross_profit - sales_com\n",
        "    return net_earnings"
      ]
    },
    {
      "cell_type": "code",
      "execution_count": 18,
      "metadata": {},
      "outputs": [
        {
          "data": {
            "text/plain": [
              "676956.0"
            ]
          },
          "execution_count": 18,
          "metadata": {},
          "output_type": "execute_result"
        }
      ],
      "source": [
        "# Call function\n",
        "net_earnings(unit_price = 147)"
      ]
    }
  ],
  "metadata": {
    "colab": {
      "provenance": []
    },
    "kernelspec": {
      "display_name": "Python 3",
      "name": "python3"
    },
    "language_info": {
      "codemirror_mode": {
        "name": "ipython",
        "version": 3
      },
      "file_extension": ".py",
      "mimetype": "text/x-python",
      "name": "python",
      "nbconvert_exporter": "python",
      "pygments_lexer": "ipython3",
      "version": "3.13.6"
    }
  },
  "nbformat": 4,
  "nbformat_minor": 0
}
