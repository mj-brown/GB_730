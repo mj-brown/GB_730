{
 "cells": [
  {
   "cell_type": "markdown",
   "id": "f1d8a114",
   "metadata": {},
   "source": [
    "# From Excel to Python Lab\n",
    "\n",
    "Course: Gen Bus 730\\\n",
    "Author: Matthew Brown\\\n",
    "Date: 9/10/2025"
   ]
  },
  {
   "cell_type": "markdown",
   "id": "88c7a2f9",
   "metadata": {},
   "source": [
    "## Instructions\n",
    "Recall the Advertising Budget Problem.  Build the Advertising Budget model in Python, following best practices."
   ]
  },
  {
   "cell_type": "markdown",
   "id": "662acb7c",
   "metadata": {},
   "source": [
    "## Model"
   ]
  },
  {
   "cell_type": "markdown",
   "id": "e623c2d8",
   "metadata": {},
   "source": [
    "### Input Parameters"
   ]
  },
  {
   "cell_type": "code",
   "execution_count": 3,
   "id": "9a41a7ec",
   "metadata": {},
   "outputs": [],
   "source": [
    "# Input Parameters\n",
    "unit_cost = 25\n",
    "sale_price = 40 # per unit\n",
    "seasonality_factor = [0.9, 1.1, 0.8, 1.2] # Quarterly seasonality. Q1, Q2, Q3, Q4 respectively\n",
    "salesforce_cost = [8000, 8000, 9000, 9000] # Quarterly salesforce cost\n",
    "overhead_rate = 0.15 # 15% of total revenue\n",
    "units_sold = []\n",
    "num_quarters = 4\n",
    "\n",
    "# Advertising effectiveness formula constants\n",
    "k = 35\n",
    "b = 3000 "
   ]
  },
  {
   "cell_type": "markdown",
   "id": "69ecf17d",
   "metadata": {},
   "source": [
    "### Decision Variables: Advertising Spend"
   ]
  },
  {
   "cell_type": "code",
   "execution_count": 2,
   "id": "24ba913b",
   "metadata": {},
   "outputs": [],
   "source": [
    "# Decision Variables\n",
    "advertising_spend = [10000, 10000, 10000, 10000] # Quarterly advertising spend"
   ]
  },
  {
   "cell_type": "markdown",
   "id": "536c3838",
   "metadata": {},
   "source": [
    "### Gross Profit Calculations"
   ]
  },
  {
   "cell_type": "code",
   "execution_count": null,
   "id": "ddf0a1c7",
   "metadata": {},
   "outputs": [
    {
     "name": "stdout",
     "output_type": "stream",
     "text": [
      "Quarterly Gross Profit: ['$53,873.29', '$65,845.13', '$47,887.37', '$71,831.05']\n",
      "Annual Gross Profit: $239,436.84\n"
     ]
    }
   ],
   "source": [
    "# Gross profit calculations\n",
    "sales_quantity = []\n",
    "cogs = []\n",
    "gross_revenue = []\n",
    "gross_profit = []\n",
    "\n",
    "# Calculate quarterly sales, COGS, gross revenue, and gross profit\n",
    "for i in range(num_quarters):\n",
    "    # Calculate units sold based on advertising spend and seasonality\n",
    "    sales_quantity.append(k * seasonality_factor[i]* ((b + advertising_spend[i]) **0.5))\n",
    "    \n",
    "    # Calulate Cost of Goods Sold (COGS)\n",
    "    cogs.append(sales_quantity[i] * unit_cost)\n",
    "    \n",
    "    # Calculate Gross Revenue\n",
    "    gross_revenue.append(sales_quantity[i] * sale_price)\n",
    "    \n",
    "    # Calculate Gross Profit\n",
    "    gross_profit.append(gross_revenue[i] - cogs[i])\n",
    "\n",
    "# Print the Quarterly and Annual Gross Profit\n",
    "print(f\"Quarterly Gross Profit: {[f'${gp:,.2f}' for gp in gross_profit]}\")\n",
    "print(f\"Annual Gross Profit: ${sum(gross_profit):,.2f}\")"
   ]
  },
  {
   "cell_type": "markdown",
   "id": "fa69e999",
   "metadata": {},
   "source": [
    "### Operating Expenses Calculations"
   ]
  },
  {
   "cell_type": "code",
   "execution_count": 7,
   "id": "9c1f1da8",
   "metadata": {},
   "outputs": [
    {
     "name": "stdout",
     "output_type": "stream",
     "text": [
      "Quarterly Operating Expenses: ['$39,549.32', '$44,338.05', '$38,154.95', '$47,732.42']\n",
      "Annual Operating Expenses: $169,774.74\n"
     ]
    }
   ],
   "source": [
    "# Operating Expenses Calculations\n",
    "overhead = []\n",
    "operating_expenses = []\n",
    "\n",
    "# Calculate quarterly overhead and total operating expenses\n",
    "for i in range(num_quarters):\n",
    "    # Calculate Overhead\n",
    "    overhead.append(overhead_rate * gross_revenue[i])\n",
    "\n",
    "    # Calculate Total Operating Expenses\n",
    "    operating_expenses.append(overhead[i] + salesforce_cost[i] + advertising_spend[i])\n",
    "\n",
    "# Print the Quarterly and Annual Operating Expenses\n",
    "print(f\"Quarterly Operating Expenses: {[f'${oe:,.2f}' for oe in operating_expenses]}\")\n",
    "print(f\"Annual Operating Expenses: ${sum(operating_expenses):,.2f}\")"
   ]
  },
  {
   "cell_type": "markdown",
   "id": "42485687",
   "metadata": {},
   "source": [
    "### Annual Operating Profit"
   ]
  },
  {
   "cell_type": "code",
   "execution_count": 8,
   "id": "4b990d4d",
   "metadata": {},
   "outputs": [
    {
     "name": "stdout",
     "output_type": "stream",
     "text": [
      "Annual Net Profit: $69,662.10\n"
     ]
    }
   ],
   "source": [
    "# Calculate the Net Profit\n",
    "net_profit = [gross_profit[i] - operating_expenses[i] for i in range(num_quarters)]\n",
    "\n",
    "# Print the Annual Net Profit\n",
    "print(f\"Annual Net Profit: ${sum(net_profit):,.2f}\")"
   ]
  },
  {
   "cell_type": "markdown",
   "id": "5b1579e2",
   "metadata": {},
   "source": [
    "### Model Results"
   ]
  },
  {
   "cell_type": "code",
   "execution_count": 10,
   "id": "2059316d",
   "metadata": {},
   "outputs": [
    {
     "name": "stdout",
     "output_type": "stream",
     "text": [
      "Q1 - Gross Profit: $53,873.29, Operating Expenses: $39,549.32, Net Profit: $14,323.97\n",
      "Q2 - Gross Profit: $65,845.13, Operating Expenses: $44,338.05, Net Profit: $21,507.08\n",
      "Q3 - Gross Profit: $47,887.37, Operating Expenses: $38,154.95, Net Profit: $9,732.42\n",
      "Q4 - Gross Profit: $71,831.05, Operating Expenses: $47,732.42, Net Profit: $24,098.63\n",
      "Annual Summary - Gross Profit: $239,436.84, Operating Expenses: $169,774.74, Net Profit: $69,662.10\n"
     ]
    }
   ],
   "source": [
    "# Print the quarterly Gross Profit, Operating Expenses, and Net Profit\n",
    "for i in range(num_quarters):\n",
    "    print(f\"Q{i+1} - Gross Profit: ${gross_profit[i]:,.2f}, Operating Expenses: ${operating_expenses[i]:,.2f}, Net Profit: ${net_profit[i]:,.2f}\")\n",
    "\n",
    "# Print the Annual Summary\n",
    "print(f\"Annual Summary - Gross Profit: ${sum(gross_profit):,.2f}, Operating Expenses: ${sum(operating_expenses):,.2f}, Net Profit: ${sum(net_profit):,.2f}\")\n"
   ]
  }
 ],
 "metadata": {
  "kernelspec": {
   "display_name": "Python 3",
   "language": "python",
   "name": "python3"
  },
  "language_info": {
   "codemirror_mode": {
    "name": "ipython",
    "version": 3
   },
   "file_extension": ".py",
   "mimetype": "text/x-python",
   "name": "python",
   "nbconvert_exporter": "python",
   "pygments_lexer": "ipython3",
   "version": "3.13.6"
  }
 },
 "nbformat": 4,
 "nbformat_minor": 5
}
