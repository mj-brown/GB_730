{
 "cells": [
  {
   "cell_type": "markdown",
   "metadata": {
    "id": "hL77L3Uei59o"
   },
   "source": [
    "#Set-Up"
   ]
  },
  {
   "cell_type": "code",
   "execution_count": 1,
   "metadata": {},
   "outputs": [
    {
     "name": "stdout",
     "output_type": "stream",
     "text": [
      "Defaulting to user installation because normal site-packages is not writeable\n",
      "Collecting highspy\n",
      "  Downloading highspy-1.11.0-cp313-cp313-win_amd64.whl.metadata (11 kB)\n",
      "Requirement already satisfied: numpy in c:\\users\\brown\\appdata\\roaming\\python\\python313\\site-packages (from highspy) (2.3.2)\n",
      "Downloading highspy-1.11.0-cp313-cp313-win_amd64.whl (2.0 MB)\n",
      "   ---------------------------------------- 0.0/2.0 MB ? eta -:--:--\n",
      "   ------------------------------- -------- 1.6/2.0 MB 8.3 MB/s eta 0:00:01\n",
      "   ---------------------------------------- 2.0/2.0 MB 9.5 MB/s  0:00:00\n",
      "Installing collected packages: highspy\n",
      "Successfully installed highspy-1.11.0\n",
      "Note: you may need to restart the kernel to use updated packages.\n"
     ]
    }
   ],
   "source": [
    "# Install necessary packages\n",
    "%pip install highspy"
   ]
  },
  {
   "cell_type": "code",
   "execution_count": 3,
   "metadata": {
    "executionInfo": {
     "elapsed": 21302,
     "status": "ok",
     "timestamp": 1759588784420,
     "user": {
      "displayName": "matt brown",
      "userId": "13036983511980257141"
     },
     "user_tz": 600
    },
    "id": "T3OEUrcJgiSR"
   },
   "outputs": [
    {
     "name": "stdout",
     "output_type": "stream",
     "text": [
      "Solver is available:  FullLicense\n"
     ]
    }
   ],
   "source": [
    "#Copy-and-paste the code below to use as \"set-up\" when your optimization model uses Pyomo and Coin-OR solvers.\n",
    "#for reference, see https://jckantor.github.io/ND-Pyomo-Cookbook/notebooks/01.02-Running-Pyomo-on-Google-Colab.html#installing-pyomo-and-solvers\n",
    "\n",
    "#%%capture\n",
    "import sys\n",
    "import os\n",
    "\n",
    "\n",
    "if 'google.colab' in sys.modules:\n",
    "    !pip install idaes-pse --pre\n",
    "    !idaes get-extensions --to ./bin\n",
    "    os.environ['PATH'] += ':bin'\n",
    "\n",
    "from pyomo.environ import *\n",
    "from pyomo.contrib.appsi.solvers import Highs\n",
    "# Quick check that the solver is available\n",
    "solver = Highs()\n",
    "print(\"Solver is available: \", solver.available())"
   ]
  },
  {
   "cell_type": "markdown",
   "metadata": {
    "id": "A8gzMJrpGX6y"
   },
   "source": [
    "#Problem A: Practice writing an optimizing problem\n",
    "A rectangular box must have volume 500 in^3 (Recall: a box's volume is defined by its $length*width*height$).\n",
    "\n",
    "Find the shape that has the smallest \"mailing length\" where the mailing length is defined as the sum of the three edge lengths.\n",
    "\n",
    "What is the optimal shape of the box that meets this volume requirement with the smallest mailing length possible? (Use ipopt since this is a nonlinear problem)."
   ]
  },
  {
   "cell_type": "code",
   "execution_count": 7,
   "metadata": {
    "colab": {
     "base_uri": "https://localhost:8080/"
    },
    "collapsed": true,
    "executionInfo": {
     "elapsed": 10,
     "status": "ok",
     "timestamp": 1759589487321,
     "user": {
      "displayName": "matt brown",
      "userId": "13036983511980257141"
     },
     "user_tz": 600
    },
    "id": "g-j-_509n3uv",
    "outputId": "a334f268-12b4-4145-b9d7-2fbe2696b46e"
   },
   "outputs": [
    {
     "name": "stdout",
     "output_type": "stream",
     "text": [
      "1 Var Declarations\n",
      "    x : Size=3, Index={0, 1, 2}\n",
      "        Key : Lower : Value : Upper : Fixed : Stale : Domain\n",
      "          0 :     0 :  None :  None : False :  True : NonNegativeReals\n",
      "          1 :     0 :  None :  None : False :  True : NonNegativeReals\n",
      "          2 :     0 :  None :  None : False :  True : NonNegativeReals\n",
      "\n",
      "1 Objective Declarations\n",
      "    obj : Size=1, Index=None, Active=True\n",
      "        Key  : Active : Sense    : Expression\n",
      "        None :   True : minimize : x[0] + x[1] + x[2]\n",
      "\n",
      "4 Constraint Declarations\n",
      "    constraint1 : Size=1, Index=None, Active=True\n",
      "        Key  : Lower : Body           : Upper : Active\n",
      "        None : 500.0 : x[0]*x[1]*x[2] : 500.0 :   True\n",
      "    constraint2 : Size=1, Index=None, Active=True\n",
      "        Key  : Lower : Body : Upper : Active\n",
      "        None :   0.0 : x[0] :  +Inf :   True\n",
      "    constraint3 : Size=1, Index=None, Active=True\n",
      "        Key  : Lower : Body : Upper : Active\n",
      "        None :   0.0 : x[1] :  +Inf :   True\n",
      "    constraint4 : Size=1, Index=None, Active=True\n",
      "        Key  : Lower : Body : Upper : Active\n",
      "        None :   0.0 : x[2] :  +Inf :   True\n",
      "\n",
      "6 Declarations: x obj constraint1 constraint2 constraint3 constraint4\n"
     ]
    }
   ],
   "source": [
    "# Setup Model\n",
    "# Minimize x1 + x2 + x3\n",
    "# S.T. x1 * x2 * x3 = 500 in^3\n",
    "#     x1, x2, x3, > 0\n",
    "num_dv = 3\n",
    "\n",
    "#initialize a \"Concrete Model\"\n",
    "modelA = ConcreteModel()\n",
    "\n",
    "#initialize DVs\n",
    "modelA.x = Var(range(num_dv), domain = NonNegativeReals)\n",
    "\n",
    "#define the objective\n",
    "modelA.obj = Objective(expr = sum(modelA.x[i] for i in range(num_dv)), sense = minimize)\n",
    "#define the constraint\n",
    "modelA.constraint1 = Constraint(expr = modelA.x[0]*modelA.x[1]*modelA.x[2] == 500)\n",
    "modelA.constraint2 = Constraint(expr = modelA.x[0] >= 0)\n",
    "modelA.constraint3 = Constraint(expr = modelA.x[1] >= 0)\n",
    "modelA.constraint4 = Constraint(expr = modelA.x[2] >= 0)\n",
    "\n",
    "#(Optional) You can use model.pprint() to see what you've done so far\n",
    "modelA.pprint()"
   ]
  },
  {
   "cell_type": "code",
   "execution_count": 8,
   "metadata": {
    "executionInfo": {
     "elapsed": 25,
     "status": "ok",
     "timestamp": 1759589489449,
     "user": {
      "displayName": "matt brown",
      "userId": "13036983511980257141"
     },
     "user_tz": 600
    },
    "id": "VY1xAAi9pNQF"
   },
   "outputs": [],
   "source": [
    "#solve model (Note: you should use \"ipopt\" because this is a nonlinear problem)\n",
    "opt = SolverFactory('ipopt')\n",
    "results = opt.solve(modelA, tee = False) #setting tee = False hides the diagnostic outputs\n"
   ]
  },
  {
   "cell_type": "code",
   "execution_count": 11,
   "metadata": {
    "colab": {
     "base_uri": "https://localhost:8080/"
    },
    "executionInfo": {
     "elapsed": 5,
     "status": "ok",
     "timestamp": 1759589536377,
     "user": {
      "displayName": "matt brown",
      "userId": "13036983511980257141"
     },
     "user_tz": 600
    },
    "id": "iB33prMPpoXZ",
    "outputId": "4687b9b3-dfb1-4596-8305-22912d36f49b"
   },
   "outputs": [
    {
     "name": "stdout",
     "output_type": "stream",
     "text": [
      "x1 = 7.94\n",
      "x2 = 7.94\n",
      "x3 = 7.94\n",
      "optimal mailing length = 23.81\n"
     ]
    }
   ],
   "source": [
    "#print optimal solution and the smallest mailing length it achieves\n",
    "for i in range(num_dv):\n",
    "  print(f'x{i+1} = {round(modelA.x[i].value, 2)}')\n",
    "print(f'optimal mailing length = {round(modelA.x[0].value + modelA.x[1].value + modelA.x[2].value,2)}')"
   ]
  },
  {
   "cell_type": "markdown",
   "metadata": {
    "id": "UTp7i-5iSgHA"
   },
   "source": [
    "#Problem B: Optimizing an Existing Function (office building)\n",
    "Below, I've included a completed \"office building\" model as a function. Use Pyomo to solve for the price per square foot in each year that maximizes the total earnings after tax. Use ipopt (since this is a nonlinear problem)."
   ]
  },
  {
   "cell_type": "code",
   "execution_count": 4,
   "metadata": {
    "executionInfo": {
     "elapsed": 5,
     "status": "ok",
     "timestamp": 1759589726055,
     "user": {
      "displayName": "matt brown",
      "userId": "13036983511980257141"
     },
     "user_tz": 600
    },
    "id": "1AbscQhnSkS3"
   },
   "outputs": [],
   "source": [
    "def office_earnings(total_sqft = 180000,\n",
    "           m = -0.05,\n",
    "           b = 1.5,\n",
    "           op_expense_per_sqft = 1.20,\n",
    "           heating_surcharge_per_sqft = .2,\n",
    "           op_exp_annual_growth = .12,\n",
    "           annual_mortgage = 1500000,\n",
    "           tax_rate = .34,\n",
    "           price_per_sqft = [15, 15, 15, 15, 15],\n",
    "           num_years = 5):\n",
    "  #rev calc\n",
    "  perc_occ = [m*price_per_sqft[i] + b for i in range(num_years)]\n",
    "  sqft_occ = [perc_occ[i]*total_sqft for i in range(num_years)]\n",
    "  revenue = [sqft_occ[i]*price_per_sqft[i] for i in range(num_years)]\n",
    "  #operating expense calculations\n",
    "  base_op_cost_as_percY1 = [(1+op_exp_annual_growth)**i for i in range(num_years)] #note that range(num_years) = range(5) = [0,1,2,3,4] and (1+op_exp_annual_growth)**0 = 1.\n",
    "  base_op_cost = [op_expense_per_sqft*total_sqft*base_op_cost_as_percY1[i] for i in range(num_years)]\n",
    "  heating_surcharge = [perc_occ[i]*base_op_cost[i]*heating_surcharge_per_sqft for i in range(num_years)]\n",
    "  mortgage = [annual_mortgage for i in range(num_years)]\n",
    "  operating_costs = [base_op_cost[i] + heating_surcharge[i] + mortgage[i] for i in range(num_years)]\n",
    "  #before and after-tax earnings\n",
    "  ebt = [revenue[i] - operating_costs[i] for i in range(num_years)]\n",
    "  taxes = [ebt[i]*tax_rate for i in range(num_years)]\n",
    "  earnings_after_tax = [ebt[i] - taxes[i] for i in range(num_years)]\n",
    "  total_earnings_after_tax = sum(earnings_after_tax)\n",
    "  return total_earnings_after_tax"
   ]
  },
  {
   "cell_type": "code",
   "execution_count": 5,
   "metadata": {
    "colab": {
     "base_uri": "https://localhost:8080/"
    },
    "executionInfo": {
     "elapsed": 46,
     "status": "ok",
     "timestamp": 1759589868952,
     "user": {
      "displayName": "matt brown",
      "userId": "13036983511980257141"
     },
     "user_tz": 600
    },
    "id": "Jq_uSiR9SnAn",
    "outputId": "24770633-9a61-401d-9d98-3dea4ef2a15c"
   },
   "outputs": [
    {
     "name": "stdout",
     "output_type": "stream",
     "text": [
      "1 Var Declarations\n",
      "    price_per_sqft_dv : Size=5, Index={0, 1, 2, 3, 4}\n",
      "        Key : Lower : Value : Upper : Fixed : Stale : Domain\n",
      "          0 :     0 :  None :  None : False :  True : NonNegativeReals\n",
      "          1 :     0 :  None :  None : False :  True : NonNegativeReals\n",
      "          2 :     0 :  None :  None : False :  True : NonNegativeReals\n",
      "          3 :     0 :  None :  None : False :  True : NonNegativeReals\n",
      "          4 :     0 :  None :  None : False :  True : NonNegativeReals\n",
      "\n",
      "1 Objective Declarations\n",
      "    obj : Size=1, Index=None, Active=True\n",
      "        Key  : Active : Sense    : Expression\n",
      "        None :   True : maximize : (-0.05*price_per_sqft_dv[0] + 1.5)*180000*price_per_sqft_dv[0] - (216000.0 + (-0.05*price_per_sqft_dv[0] + 1.5)*216000.0*0.2 + 1500000) - ((-0.05*price_per_sqft_dv[0] + 1.5)*180000*price_per_sqft_dv[0] - (216000.0 + (-0.05*price_per_sqft_dv[0] + 1.5)*216000.0*0.2 + 1500000))*0.34 + (-0.05*price_per_sqft_dv[1] + 1.5)*180000*price_per_sqft_dv[1] - (241920.00000000003 + (-0.05*price_per_sqft_dv[1] + 1.5)*241920.00000000003*0.2 + 1500000) - ((-0.05*price_per_sqft_dv[1] + 1.5)*180000*price_per_sqft_dv[1] - (241920.00000000003 + (-0.05*price_per_sqft_dv[1] + 1.5)*241920.00000000003*0.2 + 1500000))*0.34 + (-0.05*price_per_sqft_dv[2] + 1.5)*180000*price_per_sqft_dv[2] - (270950.4 + (-0.05*price_per_sqft_dv[2] + 1.5)*270950.4*0.2 + 1500000) - ((-0.05*price_per_sqft_dv[2] + 1.5)*180000*price_per_sqft_dv[2] - (270950.4 + (-0.05*price_per_sqft_dv[2] + 1.5)*270950.4*0.2 + 1500000))*0.34 + (-0.05*price_per_sqft_dv[3] + 1.5)*180000*price_per_sqft_dv[3] - (303464.4480000001 + (-0.05*price_per_sqft_dv[3] + 1.5)*303464.4480000001*0.2 + 1500000) - ((-0.05*price_per_sqft_dv[3] + 1.5)*180000*price_per_sqft_dv[3] - (303464.4480000001 + (-0.05*price_per_sqft_dv[3] + 1.5)*303464.4480000001*0.2 + 1500000))*0.34 + (-0.05*price_per_sqft_dv[4] + 1.5)*180000*price_per_sqft_dv[4] - (339880.1817600001 + (-0.05*price_per_sqft_dv[4] + 1.5)*339880.1817600001*0.2 + 1500000) - ((-0.05*price_per_sqft_dv[4] + 1.5)*180000*price_per_sqft_dv[4] - (339880.1817600001 + (-0.05*price_per_sqft_dv[4] + 1.5)*339880.1817600001*0.2 + 1500000))*0.34\n",
      "\n",
      "2 Declarations: price_per_sqft_dv obj\n"
     ]
    }
   ],
   "source": [
    "#initialize a \"Concrete Model\"\n",
    "modelB = ConcreteModel()\n",
    "\n",
    "#initialize DVs\n",
    "modelB.price_per_sqft_dv = Var(range(5), domain = NonNegativeReals)\n",
    "\n",
    "#define the objective\n",
    "modelB.obj = Objective(expr = office_earnings(price_per_sqft = modelB.price_per_sqft_dv), sense = maximize)\n",
    "\n",
    "#(Optional) You can use model.pprint() to see what you've done so far\n",
    "modelB.pprint()"
   ]
  },
  {
   "cell_type": "code",
   "execution_count": 18,
   "metadata": {
    "executionInfo": {
     "elapsed": 20,
     "status": "ok",
     "timestamp": 1759589904705,
     "user": {
      "displayName": "matt brown",
      "userId": "13036983511980257141"
     },
     "user_tz": 600
    },
    "id": "EqTdCSrip1CM"
   },
   "outputs": [],
   "source": [
    "#solve model (Note: you should use \"ipopt\" because this is a nonlinear problem)\n",
    "opt = SolverFactory('ipopt')\n",
    "results = opt.solve(modelB, tee = False) #setting tee = False hides the diagnostic outputs\n"
   ]
  },
  {
   "cell_type": "code",
   "execution_count": 20,
   "metadata": {
    "colab": {
     "base_uri": "https://localhost:8080/"
    },
    "executionInfo": {
     "elapsed": 5,
     "status": "ok",
     "timestamp": 1759589995887,
     "user": {
      "displayName": "matt brown",
      "userId": "13036983511980257141"
     },
     "user_tz": 600
    },
    "id": "bAUa0LWvp2gk",
    "outputId": "ae918a32-d718-4421-999b-8e5a092ca999"
   },
   "outputs": [
    {
     "name": "stdout",
     "output_type": "stream",
     "text": [
      "price per sqft in year 1 = 15.12\n",
      "earnings after tax in year 1 = 691696.7\n",
      "price per sqft in year 2 = 15.13\n",
      "earnings after tax in year 2 = 691696.7\n",
      "price per sqft in year 3 = 15.15\n",
      "earnings after tax in year 3 = 691696.7\n",
      "price per sqft in year 4 = 15.17\n",
      "earnings after tax in year 4 = 691696.7\n",
      "price per sqft in year 5 = 15.19\n",
      "earnings after tax in year 5 = 691696.7\n",
      "Total earnings after tax = 691696.83\n"
     ]
    }
   ],
   "source": [
    "#print optimal solution and the largest earnings it achieves\n",
    "for i in range(5):\n",
    "  print(f'price per sqft in year {i+1} = {round(modelB.price_per_sqft_dv[i].value, 2)}')\n",
    "  print(f'earnings after tax in year {i+1} = {round(office_earnings(price_per_sqft = [round(modelB.price_per_sqft_dv[i].value, 2) for i in range(5)]), 2)}')\n",
    "print(f\"Total earnings after tax = {round(modelB.obj(), 2)}\")"
   ]
  },
  {
   "cell_type": "markdown",
   "metadata": {
    "id": "bw-F0zCwfYQq"
   },
   "source": [
    "#Problem C: Coding with Lists of Lists and Constraint Lists\n",
    "Solve this small version of the Stigler problem shown below using lists, `ConstraintLists`, and `for` loops. This version only has **4 decision variables (DVs)** and **3 constraints** but please code in a way that would be scalable for larger problems by following the structure I've started for you below. Print out the optimal \\(x\\)'s and the total optimal cost.\n",
    "\n",
    "**Minimize cost =**  \n",
    "$0.36*x_{\\text{wheat}} + 0.141*x_{\\text{mac}} + 0.242*x_{\\text{cereal}} + 0.300*x_{\\text{milk}}$\n",
    "\n",
    "**Subject to:**  \n",
    "$\n",
    "16.1*x_{\\text{wheat}} + 1.6*x_{\\text{mac}} + 2.9*x_{\\text{cereal}} + 12.5*x_{\\text{milk}} \\geq 3 \\quad (\\text{Calories Daily Min Constraint})\n",
    "$\n",
    "$\n",
    "7.9*x_{\\text{wheat}} + 58.9*x_{\\text{mac}} + 91.2*x_{\\text{cereal}} + 42.3*x_{\\text{milk}} \\geq 1.8 \\quad (\\text{Protein Daily Min Constraint})\n",
    "$\n",
    "$\n",
    "80.5*x_{\\text{wheat}} + 3.0*x_{\\text{mac}} + 7.2*x_{\\text{cereal}} + 15.4*x_{\\text{milk}} \\geq 2.5 \\quad (\\text{Fiber Daily Min Constraint})\n",
    "$\n",
    "\n",
    "$\n",
    "x_{\\text{wheat}}, x_{\\text{mac}}, x_{\\text{cereal}}, x_{\\text{milk}} \\geq 0\n",
    "$\n"
   ]
  },
  {
   "cell_type": "code",
   "execution_count": 6,
   "metadata": {
    "executionInfo": {
     "elapsed": 3,
     "status": "ok",
     "timestamp": 1759590075169,
     "user": {
      "displayName": "matt brown",
      "userId": "13036983511980257141"
     },
     "user_tz": 600
    },
    "id": "Dl-mFuL0gCya"
   },
   "outputs": [],
   "source": [
    "#I've put in these input parameters for you\n",
    "num_commodities = 4    #this is how many food commodities to decide on\n",
    "num_nutrients = 3      #this is how many nutrient constraints there are\n",
    "cost_coef = [.36, 0.141, 0.242, 0.300]   #this is a list of the cost coefficients in the objective\n",
    "constraint_coef = [[16.1, 1.6, 2.9, 12.5],\n",
    "                   [7.9, 58.9, 91.2, 42.3],\n",
    "                   [80.5, 3.0, 7.2, 15.4]]     #this is the list of lists of all the constraint coefficients\n",
    "daily_mins = [3, 1.8, 2.5]        #these are the right hand sides"
   ]
  },
  {
   "cell_type": "code",
   "execution_count": 7,
   "metadata": {
    "colab": {
     "base_uri": "https://localhost:8080/"
    },
    "collapsed": true,
    "executionInfo": {
     "elapsed": 45,
     "status": "ok",
     "timestamp": 1759590221775,
     "user": {
      "displayName": "matt brown",
      "userId": "13036983511980257141"
     },
     "user_tz": 600
    },
    "id": "dcd2UuqvgEOi",
    "outputId": "ed101452-5427-4204-8e23-1f114cb7bf32"
   },
   "outputs": [
    {
     "name": "stdout",
     "output_type": "stream",
     "text": [
      "1 Var Declarations\n",
      "    x : Size=4, Index={0, 1, 2, 3}\n",
      "        Key : Lower : Value : Upper : Fixed : Stale : Domain\n",
      "          0 :     0 :  None :  None : False :  True : NonNegativeReals\n",
      "          1 :     0 :  None :  None : False :  True : NonNegativeReals\n",
      "          2 :     0 :  None :  None : False :  True : NonNegativeReals\n",
      "          3 :     0 :  None :  None : False :  True : NonNegativeReals\n",
      "\n",
      "1 Objective Declarations\n",
      "    Objective : Size=1, Index=None, Active=True\n",
      "        Key  : Active : Sense    : Expression\n",
      "        None :   True : minimize : 0.36*x[0] + 0.141*x[1] + 0.242*x[2] + 0.3*x[3]\n",
      "\n",
      "1 Constraint Declarations\n",
      "    nutrient_constraints : Size=3, Index={1, 2, 3}, Active=True\n",
      "        Key : Lower : Body                                         : Upper : Active\n",
      "          1 :   3.0 :  16.1*x[0] + 1.6*x[1] + 2.9*x[2] + 12.5*x[3] :  +Inf :   True\n",
      "          2 :   1.8 : 7.9*x[0] + 58.9*x[1] + 91.2*x[2] + 42.3*x[3] :  +Inf :   True\n",
      "          3 :   2.5 :  80.5*x[0] + 3.0*x[1] + 7.2*x[2] + 15.4*x[3] :  +Inf :   True\n",
      "\n",
      "3 Declarations: x Objective nutrient_constraints\n"
     ]
    }
   ],
   "source": [
    "#Fill in the ??? to complete this code\n",
    "modelC = ConcreteModel()\n",
    "\n",
    "#dvs\n",
    "modelC.x = Var(range(num_commodities), domain = NonNegativeReals)\n",
    "\n",
    "#objective\n",
    "modelC.Objective = Objective(expr = sum(cost_coef[i] * modelC.x[i] for i in range(num_commodities)), sense = minimize)\n",
    "\n",
    "#constraints\n",
    "modelC.nutrient_constraints = ConstraintList()\n",
    "for i in range(num_nutrients):\n",
    "  modelC.nutrient_constraints.add(expr = sum(constraint_coef[i][j] * modelC.x[j] for j in range(num_commodities)) >= daily_mins[i])\n",
    "\n",
    "#model pprint()\n",
    "modelC.pprint()"
   ]
  },
  {
   "cell_type": "code",
   "execution_count": 11,
   "metadata": {
    "colab": {
     "base_uri": "https://localhost:8080/"
    },
    "collapsed": true,
    "executionInfo": {
     "elapsed": 34,
     "status": "ok",
     "timestamp": 1759590226526,
     "user": {
      "displayName": "matt brown",
      "userId": "13036983511980257141"
     },
     "user_tz": 600
    },
    "id": "Ps6n6rNMgFgx",
    "outputId": "839e14b2-6358-4bc6-a666-473b2cb40593"
   },
   "outputs": [],
   "source": [
    "#solve model with cbc because this is a linear program\n",
    "opt = Highs()\n",
    "results = opt.solve(modelC)"
   ]
  },
  {
   "cell_type": "code",
   "execution_count": 13,
   "metadata": {
    "colab": {
     "base_uri": "https://localhost:8080/"
    },
    "executionInfo": {
     "elapsed": 4,
     "status": "ok",
     "timestamp": 1759590242777,
     "user": {
      "displayName": "matt brown",
      "userId": "13036983511980257141"
     },
     "user_tz": 600
    },
    "id": "3t8QehZsgHEx",
    "outputId": "2842f093-2079-42f2-f37c-a3c180202126"
   },
   "outputs": [
    {
     "name": "stdout",
     "output_type": "stream",
     "text": [
      "x1 = 0.18\n",
      "x2 = 0.0\n",
      "x3 = 0.0\n",
      "x4 = 0.01\n",
      "optimal cost = 0.07\n"
     ]
    }
   ],
   "source": [
    "# print solver status and optimal results\n",
    "#print(\"Solver Status:\", results.solver.status)\n",
    "#print(\"Termination Condition:\", results.solver.termination_condition)\n",
    "#print(\"----------------------------------------------------\")\n",
    "\n",
    "#print optimal amounts of each food and the optimal cost it achieves\n",
    "for i in range(num_commodities):\n",
    "  print(f'x{i+1} = {round(modelC.x[i].value, 2)}')\n",
    "print(f'optimal cost = {round(modelC.Objective(), 2)}')\n"
   ]
  }
 ],
 "metadata": {
  "colab": {
   "collapsed_sections": [
    "hL77L3Uei59o"
   ],
   "provenance": []
  },
  "kernelspec": {
   "display_name": "Python 3",
   "name": "python3"
  },
  "language_info": {
   "codemirror_mode": {
    "name": "ipython",
    "version": 3
   },
   "file_extension": ".py",
   "mimetype": "text/x-python",
   "name": "python",
   "nbconvert_exporter": "python",
   "pygments_lexer": "ipython3",
   "version": "3.13.6"
  }
 },
 "nbformat": 4,
 "nbformat_minor": 0
}
