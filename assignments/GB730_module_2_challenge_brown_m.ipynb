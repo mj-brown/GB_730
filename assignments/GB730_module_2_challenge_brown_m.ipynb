{
 "cells": [
  {
   "cell_type": "markdown",
   "id": "fc2cbbfd",
   "metadata": {},
   "source": [
    "# Module 2 Optional Challenge Quesiton: A Service Product Profit Projection Model\n",
    "\n",
    "Course: Gen Bus 730\\\n",
    "Author: Matthew Brown\\\n",
    "Date: 9/11/2025"
   ]
  },
  {
   "cell_type": "markdown",
   "id": "ea05225c",
   "metadata": {},
   "source": [
    "## Business Scenario\n",
    "\n",
    "Your boss is asking you to build a model that helps them project the total profit they'll earn for a service product over the next 6 months. The company plans to price the product at $120/unit each month, except sales will be offered in month 3 for $100/unit and in month 6 for $80/unit.\n",
    "\n",
    "To help predict the sales in a given month, the analytics team collected some basic elasticity data to be used in the linear regression model to predict how price affects sales in a given month.\n",
    "\n",
    "Your boss also provided some cost figures. The current best guess for the first month is a fixed cost of about $500/month and a variable cost of $60/unit each month.  The fixed cost is expected to grow at a rate of 2%/month."
   ]
  },
  {
   "cell_type": "markdown",
   "id": "b22b5ef5",
   "metadata": {},
   "source": [
    "## Analysis"
   ]
  },
  {
   "cell_type": "markdown",
   "id": "d8a909c2",
   "metadata": {},
   "source": [
    "### Install and Import Libraries"
   ]
  },
  {
   "cell_type": "code",
   "execution_count": 9,
   "id": "4845bd94",
   "metadata": {},
   "outputs": [],
   "source": [
    "# Import necessary libraries\n",
    "import pandas as pd\n",
    "import numpy as np\n",
    "import matplotlib.pyplot as plt\n",
    "from sklearn.linear_model import LinearRegression"
   ]
  },
  {
   "cell_type": "markdown",
   "id": "d700565b",
   "metadata": {},
   "source": [
    "### Setup Input Parameters"
   ]
  },
  {
   "cell_type": "code",
   "execution_count": 4,
   "id": "021e085a",
   "metadata": {},
   "outputs": [],
   "source": [
    "# Setup input parameters\n",
    "\n",
    "# Elasticity (training) data\n",
    "elasticity_data = pd.DataFrame({\n",
    "    'price': [70, 80, 90, 100, 110, 120, 130, 140], # price points in USD\n",
    "    \"units_sold\": [205, 184, 147, 125, 109, 105, 75, 55] # corresponding units sold\n",
    "})\n",
    "\n",
    "# Set forecast horizon and planned pricing strategy\n",
    "num_months = 6 # number of months to forecast\n",
    "monthly_price = [120, 120, 100, 120, 120, 80] # planned price for each month, must match length of num_months\n",
    "\n",
    " # Cost Assumptions\n",
    "\n",
    "fixed_cost = 500 # fixed cost in USD per month\n",
    "fixed_cost_growth_rate = 0.02 # fixed cost growth rate per month\n",
    "variable_cost = 60 # variable cost per unit in USD per month\n",
    "\n",
    "# Quick validation of inputs\n",
    "if len(monthly_price) != num_months:\n",
    "    raise ValueError(\"Length of monthly_price must match num_months\")"
   ]
  },
  {
   "cell_type": "markdown",
   "id": "d49cc005",
   "metadata": {},
   "source": [
    "### Profit Calculations (Fit Regression and Predict Sales)"
   ]
  },
  {
   "cell_type": "code",
   "execution_count": 12,
   "id": "8485fdff",
   "metadata": {},
   "outputs": [
    {
     "name": "stdout",
     "output_type": "stream",
     "text": [
      "Regression Intercept:  342.75\n",
      "Regression Coefficient (Units per $):  -2.067857142857143\n",
      "Predicted Units:  [95, 95, 136, 95, 95, 177]\n"
     ]
    },
    {
     "name": "stderr",
     "output_type": "stream",
     "text": [
      "C:\\Users\\brown\\AppData\\Roaming\\Python\\Python313\\site-packages\\sklearn\\utils\\validation.py:2749: UserWarning: X does not have valid feature names, but LinearRegression was fitted with feature names\n",
      "  warnings.warn(\n"
     ]
    }
   ],
   "source": [
    "# Profit calculations using linear regression\n",
    "\n",
    "# Train linear regression model on elasticity data\n",
    "x = elasticity_data[['price']]\n",
    "y = elasticity_data['units_sold']\n",
    "\n",
    "# Create and fit the model\n",
    "model = LinearRegression()\n",
    "model.fit(x, y)\n",
    "\n",
    "# Predict units for each month based on planned pricing\n",
    "predicted_units = model.predict(np.array(monthly_price).reshape(-1, 1))\n",
    "\n",
    "# Limit for negative predictions\n",
    "predicted_units = np.maximum(predicted_units, 0)\n",
    "\n",
    "# Clean the predictions\n",
    "predicted = pd.Series(predicted_units, index = np.arange(1, num_months + 1), name = 'predicted_units')\n",
    "\n",
    "# Profit results\n",
    "print(\"Regression Intercept: \", model.intercept_)\n",
    "print(\"Regression Coefficient (Units per $): \", model.coef_[0])\n",
    "print(\"Predicted Units: \", predicted.round().astype(\"int64\").tolist())"
   ]
  },
  {
   "cell_type": "markdown",
   "id": "6be3c3d5",
   "metadata": {},
   "source": [
    "### Expense Calculations"
   ]
  },
  {
   "cell_type": "code",
   "execution_count": 13,
   "id": "31bfd305",
   "metadata": {},
   "outputs": [],
   "source": [
    "# Expense Calculations\n",
    "\n",
    "# Set up lists to hold monthly profit and expenses\n",
    "fixed_costs = []\n",
    "variable_costs = []\n",
    "revenues = []\n",
    "profits = []\n",
    "\n",
    "# Set fixed cost for the first month\n",
    "fixed_cost = fixed_cost\n",
    "\n",
    "# For loop to calculate monthly expenses and profits\n",
    "for i in range(num_months):\n",
    "    # Calculate the monthly price and units sold\n",
    "    price = monthly_price[i]\n",
    "    units = predicted.iloc[i]\n",
    "\n",
    "    # Calculate profit for each month\n",
    "    revenue = price * units\n",
    "    var_cost = variable_cost * units\n",
    "    profit = revenue - var_cost - fixed_cost\n",
    "\n",
    "    # Append results to lists\n",
    "    revenues.append(revenue)\n",
    "    variable_costs.append(var_cost)\n",
    "    fixed_costs.append(fixed_cost)\n",
    "    profits.append(profit)\n",
    "\n",
    "    # Grow fixed cost for next month\n",
    "    fixed_cost *= (1 + fixed_cost_growth_rate)"
   ]
  },
  {
   "cell_type": "markdown",
   "id": "8f92656f",
   "metadata": {},
   "source": [
    "### Model Results (Table)"
   ]
  },
  {
   "cell_type": "code",
   "execution_count": 14,
   "id": "987e3eae",
   "metadata": {},
   "outputs": [
    {
     "data": {
      "text/html": [
       "<div>\n",
       "<style scoped>\n",
       "    .dataframe tbody tr th:only-of-type {\n",
       "        vertical-align: middle;\n",
       "    }\n",
       "\n",
       "    .dataframe tbody tr th {\n",
       "        vertical-align: top;\n",
       "    }\n",
       "\n",
       "    .dataframe thead th {\n",
       "        text-align: right;\n",
       "    }\n",
       "</style>\n",
       "<table border=\"1\" class=\"dataframe\">\n",
       "  <thead>\n",
       "    <tr style=\"text-align: right;\">\n",
       "      <th></th>\n",
       "      <th>Month</th>\n",
       "      <th>Planned_Price</th>\n",
       "      <th>Predicted_Units_Sold</th>\n",
       "      <th>Revenue</th>\n",
       "      <th>Variable_Cost</th>\n",
       "      <th>Fixed_Cost</th>\n",
       "      <th>Profit</th>\n",
       "    </tr>\n",
       "  </thead>\n",
       "  <tbody>\n",
       "    <tr>\n",
       "      <th>0</th>\n",
       "      <td>1</td>\n",
       "      <td>120</td>\n",
       "      <td>95</td>\n",
       "      <td>11352.86</td>\n",
       "      <td>5676.43</td>\n",
       "      <td>500.00</td>\n",
       "      <td>5176.43</td>\n",
       "    </tr>\n",
       "    <tr>\n",
       "      <th>1</th>\n",
       "      <td>2</td>\n",
       "      <td>120</td>\n",
       "      <td>95</td>\n",
       "      <td>11352.86</td>\n",
       "      <td>5676.43</td>\n",
       "      <td>510.00</td>\n",
       "      <td>5166.43</td>\n",
       "    </tr>\n",
       "    <tr>\n",
       "      <th>2</th>\n",
       "      <td>3</td>\n",
       "      <td>100</td>\n",
       "      <td>136</td>\n",
       "      <td>13596.43</td>\n",
       "      <td>8157.86</td>\n",
       "      <td>520.20</td>\n",
       "      <td>4918.37</td>\n",
       "    </tr>\n",
       "    <tr>\n",
       "      <th>3</th>\n",
       "      <td>4</td>\n",
       "      <td>120</td>\n",
       "      <td>95</td>\n",
       "      <td>11352.86</td>\n",
       "      <td>5676.43</td>\n",
       "      <td>530.60</td>\n",
       "      <td>5145.82</td>\n",
       "    </tr>\n",
       "    <tr>\n",
       "      <th>4</th>\n",
       "      <td>5</td>\n",
       "      <td>120</td>\n",
       "      <td>95</td>\n",
       "      <td>11352.86</td>\n",
       "      <td>5676.43</td>\n",
       "      <td>541.22</td>\n",
       "      <td>5135.21</td>\n",
       "    </tr>\n",
       "    <tr>\n",
       "      <th>5</th>\n",
       "      <td>6</td>\n",
       "      <td>80</td>\n",
       "      <td>177</td>\n",
       "      <td>14185.71</td>\n",
       "      <td>10639.29</td>\n",
       "      <td>552.04</td>\n",
       "      <td>2994.39</td>\n",
       "    </tr>\n",
       "  </tbody>\n",
       "</table>\n",
       "</div>"
      ],
      "text/plain": [
       "   Month  Planned_Price  Predicted_Units_Sold   Revenue  Variable_Cost  \\\n",
       "0      1            120                    95  11352.86        5676.43   \n",
       "1      2            120                    95  11352.86        5676.43   \n",
       "2      3            100                   136  13596.43        8157.86   \n",
       "3      4            120                    95  11352.86        5676.43   \n",
       "4      5            120                    95  11352.86        5676.43   \n",
       "5      6             80                   177  14185.71       10639.29   \n",
       "\n",
       "   Fixed_Cost   Profit  \n",
       "0      500.00  5176.43  \n",
       "1      510.00  5166.43  \n",
       "2      520.20  4918.37  \n",
       "3      530.60  5145.82  \n",
       "4      541.22  5135.21  \n",
       "5      552.04  2994.39  "
      ]
     },
     "execution_count": 14,
     "metadata": {},
     "output_type": "execute_result"
    }
   ],
   "source": [
    "# Model the results\n",
    "results = pd.DataFrame({\n",
    "    'Month': np.arange(1, num_months + 1),\n",
    "    'Planned_Price': monthly_price,\n",
    "    'Predicted_Units_Sold': predicted.round().astype(\"int64\").tolist(),\n",
    "    'Revenue': np.round(revenues, 2),\n",
    "    'Variable_Cost': np.round(variable_costs, 2),\n",
    "    'Fixed_Cost': np.round(fixed_costs, 2),\n",
    "    'Profit': np.round(profits, 2)\n",
    "})\n",
    "\n",
    "results"
   ]
  },
  {
   "cell_type": "markdown",
   "id": "7af6d145",
   "metadata": {},
   "source": [
    "### Profit Trend (Chart)"
   ]
  },
  {
   "cell_type": "code",
   "execution_count": 15,
   "id": "e4f942b3",
   "metadata": {},
   "outputs": [
    {
     "data": {
      "image/png": "[encoded data removed]",
      "text/plain": [
       "<Figure size 1000x600 with 1 Axes>"
      ]
     },
     "metadata": {},
     "output_type": "display_data"
    }
   ],
   "source": [
    "# Create a plot to show profit over time\n",
    "plt.figure(figsize = (10, 6))\n",
    "plt.plot(results['Month'], results['Profit'], marker = 'o', linestyle = '-', color = 'b', label = 'Profit')\n",
    "plt.axhline(0, color = 'red', linestyle = '--')\n",
    "plt.title(\"Projected Monthly Profit (6 months)\")\n",
    "plt.xlabel(\"Month\")\n",
    "plt.ylabel(\"Profit (USD)\")\n",
    "plt.legend()\n",
    "plt.show()"
   ]
  }
 ],
 "metadata": {
  "kernelspec": {
   "display_name": "Python 3",
   "language": "python",
   "name": "python3"
  },
  "language_info": {
   "codemirror_mode": {
    "name": "ipython",
    "version": 3
   },
   "file_extension": ".py",
   "mimetype": "text/x-python",
   "name": "python",
   "nbconvert_exporter": "python",
   "pygments_lexer": "ipython3",
   "version": "3.13.6"
  }
 },
 "nbformat": 4,
 "nbformat_minor": 5
}
