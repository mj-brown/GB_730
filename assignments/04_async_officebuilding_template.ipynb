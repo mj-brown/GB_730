{
  "cells": [
    {
      "cell_type": "markdown",
      "id": "sKPPoieqzbd1",
      "metadata": {
        "id": "sKPPoieqzbd1"
      },
      "source": [
        "#Base Model that Prints Output\n"
      ]
    },
    {
      "cell_type": "code",
      "execution_count": 1,
      "id": "5c718a5e",
      "metadata": {
        "id": "5c718a5e"
      },
      "outputs": [],
      "source": [
        "#inputs\n",
        "total_sqft = 180000\n",
        "\n",
        "m = -0.05\n",
        "b = 1.5\n",
        "\n",
        "op_expense_per_sqft = 1.20\n",
        "heating_surcharge_per_sqft = .2\n",
        "op_exp_annual_growth = .12\n",
        "annual_mortgage = 1500000\n",
        "tax_rate = .34\n",
        "\n",
        "price_per_sqft = [15, 15, 15, 15, 15]\n",
        "\n",
        "num_years = 5\n"
      ]
    },
    {
      "cell_type": "code",
      "execution_count": 2,
      "id": "Z7vhvVfEjX2L",
      "metadata": {
        "colab": {
          "base_uri": "https://localhost:8080/"
        },
        "id": "Z7vhvVfEjX2L",
        "outputId": "7585468d-fda8-497c-b5db-03b2cbece30f"
      },
      "outputs": [
        {
          "name": "stdout",
          "output_type": "stream",
          "text": [
            "revenue:  [2025000.0, 2025000.0, 2025000.0, 2025000.0, 2025000.0]\n"
          ]
        }
      ],
      "source": [
        "#rev calc\n",
        "perc_occ = [m*price_per_sqft[i] + b for i in range(num_years)]\n",
        "sqft_occ = [perc_occ[i]*total_sqft for i in range(num_years)]\n",
        "revenue = [sqft_occ[i]*price_per_sqft[i] for i in range(num_years)]\n",
        "print(\"revenue: \", revenue)"
      ]
    },
    {
      "cell_type": "code",
      "execution_count": 3,
      "id": "Gnz1cjM-wb_h",
      "metadata": {
        "colab": {
          "base_uri": "https://localhost:8080/"
        },
        "id": "Gnz1cjM-wb_h",
        "outputId": "8c89d3c5-eeb2-47cb-e6e6-2c28b5b8a262"
      },
      "outputs": [
        {
          "name": "stdout",
          "output_type": "stream",
          "text": [
            "operating costs: [1748400.0, 1778208.0, 1811592.96, 1848984.1152000001, 1890862.2090240002]\n"
          ]
        }
      ],
      "source": [
        "#operating expense calculations\n",
        "base_op_cost_as_percY1 = [(1+op_exp_annual_growth)**i for i in range(num_years)] #note that range(num_years) = range(5) = [0,1,2,3,4] and (1+op_exp_annual_growth)**0 = 1.\n",
        "base_op_cost = [op_expense_per_sqft*total_sqft*base_op_cost_as_percY1[i] for i in range(num_years)]\n",
        "heating_surcharge = [perc_occ[i]*base_op_cost[i]*heating_surcharge_per_sqft for i in range(num_years)]\n",
        "mortgage = [annual_mortgage for i in range(num_years)]\n",
        "operating_costs = [base_op_cost[i] + heating_surcharge[i] + mortgage[i] for i in range(num_years)]\n",
        "print(\"operating costs:\", operating_costs)"
      ]
    },
    {
      "cell_type": "code",
      "execution_count": 4,
      "id": "HnEvDiqzx4uw",
      "metadata": {
        "colab": {
          "base_uri": "https://localhost:8080/"
        },
        "id": "HnEvDiqzx4uw",
        "outputId": "38b7dc34-fd75-48f1-9f76-8b750237351d"
      },
      "outputs": [
        {
          "name": "stdout",
          "output_type": "stream",
          "text": [
            "earnings after tax:  [182556.0, 162882.72, 140848.64640000003, 116170.48396799993, 88530.94204415986]\n",
            "total earnings after tax:  690988.7924121598\n"
          ]
        }
      ],
      "source": [
        "#before and after-tax earnings\n",
        "ebt = [revenue[i] - operating_costs[i] for i in range(num_years)]\n",
        "taxes = [ebt[i]*tax_rate for i in range(num_years)]\n",
        "earnings_after_tax = [ebt[i] - taxes[i] for i in range(num_years)]\n",
        "print(\"earnings after tax: \", earnings_after_tax)\n",
        "\n",
        "total_earnings_after_tax = sum(earnings_after_tax)\n",
        "print(\"total earnings after tax: \", total_earnings_after_tax)"
      ]
    },
    {
      "cell_type": "markdown",
      "id": "OzErNJz6Xxvh",
      "metadata": {
        "id": "OzErNJz6Xxvh"
      },
      "source": [
        "#Model as Function\n",
        "\n"
      ]
    },
    {
      "cell_type": "code",
      "execution_count": 5,
      "id": "gNS3TlV1X2T3",
      "metadata": {
        "id": "gNS3TlV1X2T3"
      },
      "outputs": [],
      "source": [
        "def office_earnings(total_sqft = 180000,\n",
        "           m = -0.05,\n",
        "           b = 1.5,\n",
        "           op_expense_per_sqft = 1.20,\n",
        "           heating_surcharge_per_sqft = .2,\n",
        "           op_exp_annual_growth = .12,\n",
        "           annual_mortgage = 1500000,\n",
        "           tax_rate = .34,\n",
        "           price_per_sqft = [15, 15, 15, 15, 15],\n",
        "           num_years = 5):\n",
        "  #rev calc\n",
        "  perc_occ = [m*price_per_sqft[i] + b for i in range(num_years)]\n",
        "  sqft_occ = [perc_occ[i]*total_sqft for i in range(num_years)]\n",
        "  revenue = [sqft_occ[i]*price_per_sqft[i] for i in range(num_years)]\n",
        "  \n",
        "  #operating expense calculations\n",
        "  base_op_cost_as_percY1 = [(1+op_exp_annual_growth)**i for i in range(num_years)] #note that range(num_years) = range(5) = [0,1,2,3,4] and (1+op_exp_annual_growth)**0 = 1.\n",
        "  base_op_cost = [op_expense_per_sqft*total_sqft*base_op_cost_as_percY1[i] for i in range(num_years)]\n",
        "  heating_surcharge = [perc_occ[i]*base_op_cost[i]*heating_surcharge_per_sqft for i in range(num_years)]\n",
        "  mortgage = [annual_mortgage for i in range(num_years)]\n",
        "  operating_costs = [base_op_cost[i] + heating_surcharge[i] + mortgage[i] for i in range(num_years)]\n",
        "  \n",
        "  #before and after-tax earnings\n",
        "  ebt = [revenue[i] - operating_costs[i] for i in range(num_years)]\n",
        "  taxes = [ebt[i]*tax_rate for i in range(num_years)]\n",
        "  earnings_after_tax = [ebt[i] - taxes[i] for i in range(num_years)]\n",
        "  total_earnings_after_tax = sum(earnings_after_tax)\n",
        "  \n",
        "  return total_earnings_after_tax\n"
      ]
    },
    {
      "cell_type": "code",
      "execution_count": 6,
      "id": "T5KR_UVgYach",
      "metadata": {
        "colab": {
          "base_uri": "https://localhost:8080/"
        },
        "id": "T5KR_UVgYach",
        "outputId": "85e0ce34-07f5-4715-8cb0-c4564ca02fc7"
      },
      "outputs": [
        {
          "data": {
            "text/plain": [
              "690988.7924121598"
            ]
          },
          "execution_count": 6,
          "metadata": {},
          "output_type": "execute_result"
        }
      ],
      "source": [
        "office_earnings()"
      ]
    },
    {
      "cell_type": "markdown",
      "id": "eea7eb71",
      "metadata": {},
      "source": [
        "## Multivariate MC Analysis"
      ]
    },
    {
      "cell_type": "markdown",
      "id": "2a2bdd4c",
      "metadata": {},
      "source": [
        "In the model, assume that each of the first 6 input variables (``total_sqft``, ``m``, ``b``, ``op_expense_per_sqft``, ``heating_surcharge_per_sqft``, ``op_exp_annual_growth``) are uncertain, and we will capture this uncertainty via ``normal distributions`` with ``standard deviations 20%`` of the (absolute value of) the default input value (and means equal to the default input values). You can assume all the other inputs are constant at their default values."
      ]
    },
    {
      "cell_type": "code",
      "execution_count": 22,
      "id": "fc9090b5",
      "metadata": {},
      "outputs": [
        {
          "name": "stdout",
          "output_type": "stream",
          "text": [
            "Defaulting to user installation because normal site-packages is not writeable\n",
            "Requirement already satisfied: statsmodels in c:\\users\\brown\\appdata\\roaming\\python\\python313\\site-packages (0.14.5)\n",
            "Requirement already satisfied: numpy<3,>=1.22.3 in c:\\users\\brown\\appdata\\roaming\\python\\python313\\site-packages (from statsmodels) (2.3.2)\n",
            "Requirement already satisfied: scipy!=1.9.2,>=1.8 in c:\\users\\brown\\appdata\\roaming\\python\\python313\\site-packages (from statsmodels) (1.16.1)\n",
            "Requirement already satisfied: pandas!=2.1.0,>=1.4 in c:\\users\\brown\\appdata\\roaming\\python\\python313\\site-packages (from statsmodels) (2.3.1)\n",
            "Requirement already satisfied: patsy>=0.5.6 in c:\\users\\brown\\appdata\\roaming\\python\\python313\\site-packages (from statsmodels) (1.0.1)\n",
            "Requirement already satisfied: packaging>=21.3 in c:\\users\\brown\\appdata\\roaming\\python\\python313\\site-packages (from statsmodels) (25.0)\n",
            "Requirement already satisfied: python-dateutil>=2.8.2 in c:\\users\\brown\\appdata\\roaming\\python\\python313\\site-packages (from pandas!=2.1.0,>=1.4->statsmodels) (2.9.0.post0)\n",
            "Requirement already satisfied: pytz>=2020.1 in c:\\users\\brown\\appdata\\roaming\\python\\python313\\site-packages (from pandas!=2.1.0,>=1.4->statsmodels) (2025.2)\n",
            "Requirement already satisfied: tzdata>=2022.7 in c:\\users\\brown\\appdata\\roaming\\python\\python313\\site-packages (from pandas!=2.1.0,>=1.4->statsmodels) (2025.2)\n",
            "Requirement already satisfied: six>=1.5 in c:\\users\\brown\\appdata\\roaming\\python\\python313\\site-packages (from python-dateutil>=2.8.2->pandas!=2.1.0,>=1.4->statsmodels) (1.17.0)\n",
            "Note: you may need to restart the kernel to use updated packages.\n"
          ]
        }
      ],
      "source": [
        "# Install necessary libraries\n",
        "%pip install statsmodels"
      ]
    },
    {
      "cell_type": "code",
      "execution_count": 23,
      "id": "ac1199a1",
      "metadata": {},
      "outputs": [],
      "source": [
        "# Import libraries\n",
        "import numpy as np\n",
        "import matplotlib.pyplot as plt\n",
        "import pandas as pd\n",
        "import statsmodels.api as sm\n"
      ]
    },
    {
      "cell_type": "code",
      "execution_count": 10,
      "id": "b1133e42",
      "metadata": {},
      "outputs": [],
      "source": [
        "# Calculate Standard Deviations for uncertain inputs\n",
        "total_sqft_std = abs(total_sqft) * 0.2\n",
        "m_std = abs(m) * 0.2\n",
        "b_std = abs(b) * 0.2\n",
        "op_expense_per_sqft_std = abs(op_expense_per_sqft) * 0.2\n",
        "heating_surcharge_per_sqft_std = abs(heating_surcharge_per_sqft) * 0.2\n",
        "op_exp_annual_growth_std = abs(op_exp_annual_growth) * 0.2\n",
        "\n",
        "# Set the number of simulations\n",
        "num_sims = 10000"
      ]
    },
    {
      "cell_type": "code",
      "execution_count": 11,
      "id": "4a58d854",
      "metadata": {},
      "outputs": [],
      "source": [
        "# Determine the list of simulated inputs for each uncertain input\n",
        "total_sqft_sim = np.random.normal(total_sqft, total_sqft_std, num_sims)\n",
        "m_sim = np.random.normal(m, m_std, num_sims)\n",
        "b_sim = np.random.normal(b, b_std, num_sims)\n",
        "op_expense_per_sqft_sim = np.random.normal(op_expense_per_sqft, op_expense_per_sqft_std, num_sims)\n",
        "heating_surcharge_per_sqft_sim = np.random.normal(heating_surcharge_per_sqft, heating_surcharge_per_sqft_std, num_sims)\n",
        "op_exp_annual_growth_sim = np.random.normal(op_exp_annual_growth, op_exp_annual_growth_std, num_sims)"
      ]
    },
    {
      "cell_type": "code",
      "execution_count": 12,
      "id": "18b718a4",
      "metadata": {},
      "outputs": [],
      "source": [
        "# Evaluate the profit outcome for each scenario\n",
        "earnings_sim = [office_earnings(total_sqft = total_sqft_sim[i],\n",
        "                               m = m_sim[i],\n",
        "                               b = b_sim[i],\n",
        "                               op_expense_per_sqft = op_expense_per_sqft_sim[i],\n",
        "                               heating_surcharge_per_sqft = heating_surcharge_per_sqft_sim[i],\n",
        "                               op_exp_annual_growth = op_exp_annual_growth_sim[i]) for i in range(num_sims)]"
      ]
    },
    {
      "cell_type": "code",
      "execution_count": 14,
      "id": "75b753f1",
      "metadata": {},
      "outputs": [],
      "source": [
        "# Calculate the IQR for the earnings results\n",
        "q1 = np.percentile(earnings_sim, 25)\n",
        "q3 = np.percentile(earnings_sim, 75)\n",
        "mean = np.mean(earnings_sim)\n",
        "median = np.median(earnings_sim)"
      ]
    },
    {
      "cell_type": "code",
      "execution_count": 16,
      "id": "f260ae34",
      "metadata": {},
      "outputs": [
        {
          "data": {
            "image/png": "[encoded data removed]",
            "text/plain": [
              "<Figure size 640x480 with 1 Axes>"
            ]
          },
          "metadata": {},
          "output_type": "display_data"
        }
      ],
      "source": [
        "# Plot a histogram of the simulated earnings results\n",
        "\n",
        "plt.hist(earnings_sim, bins=50, color='skyblue', edgecolor='black')\n",
        "plt.xlabel('Earnings After Tax ($)')\n",
        "plt.ylabel('Frequency')\n",
        "plt.title('Histogram of Simulated Earnings After Tax')\n",
        "# Add lines for Q1, Q3, Mean, and Median\n",
        "plt.axvline(q1, color='red', linestyle='dashed', linewidth=2, label=f'Q1 = {q1:,.0f}')\n",
        "plt.axvline(q3, color='green', linestyle='dashed', linewidth=2, label=f'Q3 = {q3:,.0f}')\n",
        "plt.axvline(mean, color='blue', linestyle='dashed', linewidth=2, label=f'Mean = {mean:,.0f}')\n",
        "plt.axvline(median, color='orange', linestyle='dashed', linewidth=2, label=f'Median = {median:,.0f}')\n",
        "plt.legend()\n",
        "plt.show()"
      ]
    },
    {
      "cell_type": "code",
      "execution_count": 18,
      "id": "19c6a06e",
      "metadata": {},
      "outputs": [
        {
          "data": {
            "text/html": [
              "<div>\n",
              "<style scoped>\n",
              "    .dataframe tbody tr th:only-of-type {\n",
              "        vertical-align: middle;\n",
              "    }\n",
              "\n",
              "    .dataframe tbody tr th {\n",
              "        vertical-align: top;\n",
              "    }\n",
              "\n",
              "    .dataframe thead th {\n",
              "        text-align: right;\n",
              "    }\n",
              "</style>\n",
              "<table border=\"1\" class=\"dataframe\">\n",
              "  <thead>\n",
              "    <tr style=\"text-align: right;\">\n",
              "      <th></th>\n",
              "      <th>Total_Sqft</th>\n",
              "      <th>m</th>\n",
              "      <th>b</th>\n",
              "      <th>Op_Expense_per_Sqft</th>\n",
              "      <th>Heating_Surcharge_per_Sqft</th>\n",
              "      <th>Op_Exp_Annual_Growth</th>\n",
              "      <th>Earnings_After_Tax</th>\n",
              "    </tr>\n",
              "  </thead>\n",
              "  <tbody>\n",
              "    <tr>\n",
              "      <th>0</th>\n",
              "      <td>202704.254082</td>\n",
              "      <td>-0.049709</td>\n",
              "      <td>1.931241</td>\n",
              "      <td>0.901360</td>\n",
              "      <td>0.154260</td>\n",
              "      <td>0.136511</td>\n",
              "      <td>6.009769e+06</td>\n",
              "    </tr>\n",
              "    <tr>\n",
              "      <th>1</th>\n",
              "      <td>209730.543779</td>\n",
              "      <td>-0.058368</td>\n",
              "      <td>1.603185</td>\n",
              "      <td>1.718614</td>\n",
              "      <td>0.163745</td>\n",
              "      <td>0.128171</td>\n",
              "      <td>8.852790e+05</td>\n",
              "    </tr>\n",
              "    <tr>\n",
              "      <th>2</th>\n",
              "      <td>207703.728231</td>\n",
              "      <td>-0.058595</td>\n",
              "      <td>1.402023</td>\n",
              "      <td>0.851620</td>\n",
              "      <td>0.238626</td>\n",
              "      <td>0.079037</td>\n",
              "      <td>-3.407250e+05</td>\n",
              "    </tr>\n",
              "    <tr>\n",
              "      <th>3</th>\n",
              "      <td>151598.209435</td>\n",
              "      <td>-0.053872</td>\n",
              "      <td>1.246845</td>\n",
              "      <td>1.304253</td>\n",
              "      <td>0.159561</td>\n",
              "      <td>0.122834</td>\n",
              "      <td>-2.549489e+06</td>\n",
              "    </tr>\n",
              "    <tr>\n",
              "      <th>4</th>\n",
              "      <td>163400.886626</td>\n",
              "      <td>-0.045872</td>\n",
              "      <td>1.631747</td>\n",
              "      <td>1.170792</td>\n",
              "      <td>0.188295</td>\n",
              "      <td>0.107695</td>\n",
              "      <td>1.760818e+06</td>\n",
              "    </tr>\n",
              "    <tr>\n",
              "      <th>...</th>\n",
              "      <td>...</td>\n",
              "      <td>...</td>\n",
              "      <td>...</td>\n",
              "      <td>...</td>\n",
              "      <td>...</td>\n",
              "      <td>...</td>\n",
              "      <td>...</td>\n",
              "    </tr>\n",
              "    <tr>\n",
              "      <th>9995</th>\n",
              "      <td>216978.703174</td>\n",
              "      <td>-0.048640</td>\n",
              "      <td>1.148735</td>\n",
              "      <td>1.490658</td>\n",
              "      <td>0.158287</td>\n",
              "      <td>0.122533</td>\n",
              "      <td>-1.901700e+06</td>\n",
              "    </tr>\n",
              "    <tr>\n",
              "      <th>9996</th>\n",
              "      <td>196181.212894</td>\n",
              "      <td>-0.028202</td>\n",
              "      <td>1.952997</td>\n",
              "      <td>1.290272</td>\n",
              "      <td>0.263222</td>\n",
              "      <td>0.135801</td>\n",
              "      <td>8.371313e+06</td>\n",
              "    </tr>\n",
              "    <tr>\n",
              "      <th>9997</th>\n",
              "      <td>229079.410510</td>\n",
              "      <td>-0.061808</td>\n",
              "      <td>1.786816</td>\n",
              "      <td>1.300902</td>\n",
              "      <td>0.253707</td>\n",
              "      <td>0.099695</td>\n",
              "      <td>3.336612e+06</td>\n",
              "    </tr>\n",
              "    <tr>\n",
              "      <th>9998</th>\n",
              "      <td>203249.826547</td>\n",
              "      <td>-0.057333</td>\n",
              "      <td>1.436750</td>\n",
              "      <td>1.431287</td>\n",
              "      <td>0.168098</td>\n",
              "      <td>0.128325</td>\n",
              "      <td>-5.077283e+05</td>\n",
              "    </tr>\n",
              "    <tr>\n",
              "      <th>9999</th>\n",
              "      <td>176742.790829</td>\n",
              "      <td>-0.046483</td>\n",
              "      <td>1.514025</td>\n",
              "      <td>1.493246</td>\n",
              "      <td>0.169655</td>\n",
              "      <td>0.138928</td>\n",
              "      <td>8.876413e+05</td>\n",
              "    </tr>\n",
              "  </tbody>\n",
              "</table>\n",
              "<p>10000 rows × 7 columns</p>\n",
              "</div>"
            ],
            "text/plain": [
              "         Total_Sqft         m         b  Op_Expense_per_Sqft  \\\n",
              "0     202704.254082 -0.049709  1.931241             0.901360   \n",
              "1     209730.543779 -0.058368  1.603185             1.718614   \n",
              "2     207703.728231 -0.058595  1.402023             0.851620   \n",
              "3     151598.209435 -0.053872  1.246845             1.304253   \n",
              "4     163400.886626 -0.045872  1.631747             1.170792   \n",
              "...             ...       ...       ...                  ...   \n",
              "9995  216978.703174 -0.048640  1.148735             1.490658   \n",
              "9996  196181.212894 -0.028202  1.952997             1.290272   \n",
              "9997  229079.410510 -0.061808  1.786816             1.300902   \n",
              "9998  203249.826547 -0.057333  1.436750             1.431287   \n",
              "9999  176742.790829 -0.046483  1.514025             1.493246   \n",
              "\n",
              "      Heating_Surcharge_per_Sqft  Op_Exp_Annual_Growth  Earnings_After_Tax  \n",
              "0                       0.154260              0.136511        6.009769e+06  \n",
              "1                       0.163745              0.128171        8.852790e+05  \n",
              "2                       0.238626              0.079037       -3.407250e+05  \n",
              "3                       0.159561              0.122834       -2.549489e+06  \n",
              "4                       0.188295              0.107695        1.760818e+06  \n",
              "...                          ...                   ...                 ...  \n",
              "9995                    0.158287              0.122533       -1.901700e+06  \n",
              "9996                    0.263222              0.135801        8.371313e+06  \n",
              "9997                    0.253707              0.099695        3.336612e+06  \n",
              "9998                    0.168098              0.128325       -5.077283e+05  \n",
              "9999                    0.169655              0.138928        8.876413e+05  \n",
              "\n",
              "[10000 rows x 7 columns]"
            ]
          },
          "execution_count": 18,
          "metadata": {},
          "output_type": "execute_result"
        }
      ],
      "source": [
        "# Import the results of the uncertain imputs and earnings outcomes into a DataFrame\n",
        "data_df = pd.DataFrame({\n",
        "    'Total_Sqft': total_sqft_sim,\n",
        "    'm': m_sim,\n",
        "    'b': b_sim,\n",
        "    'Op_Expense_per_Sqft': op_expense_per_sqft_sim,\n",
        "    'Heating_Surcharge_per_Sqft': heating_surcharge_per_sqft_sim,\n",
        "    'Op_Exp_Annual_Growth': op_exp_annual_growth_sim,\n",
        "    'Earnings_After_Tax': earnings_sim\n",
        "})\n",
        "\n",
        "data_df"
      ]
    },
    {
      "cell_type": "code",
      "execution_count": 25,
      "id": "9eb2725f",
      "metadata": {},
      "outputs": [
        {
          "data": {
            "text/html": [
              "<table class=\"simpletable\">\n",
              "<caption>OLS Regression Results</caption>\n",
              "<tr>\n",
              "  <th>Dep. Variable:</th>    <td>Earnings_After_Tax</td> <th>  R-squared:         </th>  <td>   0.966</td>  \n",
              "</tr>\n",
              "<tr>\n",
              "  <th>Model:</th>                    <td>OLS</td>        <th>  Adj. R-squared:    </th>  <td>   0.966</td>  \n",
              "</tr>\n",
              "<tr>\n",
              "  <th>Method:</th>              <td>Least Squares</td>   <th>  F-statistic:       </th>  <td>4.759e+04</td> \n",
              "</tr>\n",
              "<tr>\n",
              "  <th>Date:</th>              <td>Fri, 19 Sep 2025</td>  <th>  Prob (F-statistic):</th>   <td>  0.00</td>   \n",
              "</tr>\n",
              "<tr>\n",
              "  <th>Time:</th>                  <td>07:14:36</td>      <th>  Log-Likelihood:    </th> <td>-1.4697e+05</td>\n",
              "</tr>\n",
              "<tr>\n",
              "  <th>No. Observations:</th>       <td> 10000</td>       <th>  AIC:               </th>  <td>2.940e+05</td> \n",
              "</tr>\n",
              "<tr>\n",
              "  <th>Df Residuals:</th>           <td>  9993</td>       <th>  BIC:               </th>  <td>2.940e+05</td> \n",
              "</tr>\n",
              "<tr>\n",
              "  <th>Df Model:</th>               <td>     6</td>       <th>                     </th>      <td> </td>     \n",
              "</tr>\n",
              "<tr>\n",
              "  <th>Covariance Type:</th>       <td>nonrobust</td>     <th>                     </th>      <td> </td>     \n",
              "</tr>\n",
              "</table>\n",
              "<table class=\"simpletable\">\n",
              "<tr>\n",
              "               <td></td>                 <th>coef</th>     <th>std err</th>      <th>t</th>      <th>P>|t|</th>  <th>[0.025</th>    <th>0.975]</th>  \n",
              "</tr>\n",
              "<tr>\n",
              "  <th>const</th>                      <td>-1.007e+07</td> <td> 7.28e+04</td> <td> -138.427</td> <td> 0.000</td> <td>-1.02e+07</td> <td>-9.93e+06</td>\n",
              "</tr>\n",
              "<tr>\n",
              "  <th>Total_Sqft</th>                 <td>   31.6724</td> <td>    0.161</td> <td>  196.542</td> <td> 0.000</td> <td>   31.357</td> <td>   31.988</td>\n",
              "</tr>\n",
              "<tr>\n",
              "  <th>m</th>                          <td> 1.304e+08</td> <td> 5.87e+05</td> <td>  222.272</td> <td> 0.000</td> <td> 1.29e+08</td> <td> 1.32e+08</td>\n",
              "</tr>\n",
              "<tr>\n",
              "  <th>b</th>                          <td>  8.71e+06</td> <td> 1.97e+04</td> <td>  441.755</td> <td> 0.000</td> <td> 8.67e+06</td> <td> 8.75e+06</td>\n",
              "</tr>\n",
              "<tr>\n",
              "  <th>Op_Expense_per_Sqft</th>        <td>-9.325e+05</td> <td> 2.44e+04</td> <td>  -38.220</td> <td> 0.000</td> <td> -9.8e+05</td> <td>-8.85e+05</td>\n",
              "</tr>\n",
              "<tr>\n",
              "  <th>Heating_Surcharge_per_Sqft</th> <td>-7.673e+05</td> <td> 1.46e+05</td> <td>   -5.253</td> <td> 0.000</td> <td>-1.05e+06</td> <td>-4.81e+05</td>\n",
              "</tr>\n",
              "<tr>\n",
              "  <th>Op_Exp_Annual_Growth</th>       <td>-1.773e+06</td> <td> 2.44e+05</td> <td>   -7.259</td> <td> 0.000</td> <td>-2.25e+06</td> <td>-1.29e+06</td>\n",
              "</tr>\n",
              "</table>\n",
              "<table class=\"simpletable\">\n",
              "<tr>\n",
              "  <th>Omnibus:</th>       <td>1250.919</td> <th>  Durbin-Watson:     </th> <td>   1.998</td> \n",
              "</tr>\n",
              "<tr>\n",
              "  <th>Prob(Omnibus):</th>  <td> 0.000</td>  <th>  Jarque-Bera (JB):  </th> <td>13316.324</td>\n",
              "</tr>\n",
              "<tr>\n",
              "  <th>Skew:</th>           <td> 0.163</td>  <th>  Prob(JB):          </th> <td>    0.00</td> \n",
              "</tr>\n",
              "<tr>\n",
              "  <th>Kurtosis:</th>       <td> 8.644</td>  <th>  Cond. No.          </th> <td>1.84e+07</td> \n",
              "</tr>\n",
              "</table><br/><br/>Notes:<br/>[1] Standard Errors assume that the covariance matrix of the errors is correctly specified.<br/>[2] The condition number is large, 1.84e+07. This might indicate that there are<br/>strong multicollinearity or other numerical problems."
            ],
            "text/latex": [
              "\\begin{center}\n",
              "\\begin{tabular}{lclc}\n",
              "\\toprule\n",
              "\\textbf{Dep. Variable:}                & Earnings\\_After\\_Tax & \\textbf{  R-squared:         } &      0.966   \\\\\n",
              "\\textbf{Model:}                        &         OLS          & \\textbf{  Adj. R-squared:    } &      0.966   \\\\\n",
              "\\textbf{Method:}                       &    Least Squares     & \\textbf{  F-statistic:       } &  4.759e+04   \\\\\n",
              "\\textbf{Date:}                         &   Fri, 19 Sep 2025   & \\textbf{  Prob (F-statistic):} &      0.00    \\\\\n",
              "\\textbf{Time:}                         &       07:14:36       & \\textbf{  Log-Likelihood:    } & -1.4697e+05  \\\\\n",
              "\\textbf{No. Observations:}             &         10000        & \\textbf{  AIC:               } &  2.940e+05   \\\\\n",
              "\\textbf{Df Residuals:}                 &          9993        & \\textbf{  BIC:               } &  2.940e+05   \\\\\n",
              "\\textbf{Df Model:}                     &             6        & \\textbf{                     } &              \\\\\n",
              "\\textbf{Covariance Type:}              &      nonrobust       & \\textbf{                     } &              \\\\\n",
              "\\bottomrule\n",
              "\\end{tabular}\n",
              "\\begin{tabular}{lcccccc}\n",
              "                                       & \\textbf{coef} & \\textbf{std err} & \\textbf{t} & \\textbf{P$> |$t$|$} & \\textbf{[0.025} & \\textbf{0.975]}  \\\\\n",
              "\\midrule\n",
              "\\textbf{const}                         &   -1.007e+07  &     7.28e+04     &  -138.427  &         0.000        &    -1.02e+07    &    -9.93e+06     \\\\\n",
              "\\textbf{Total\\_Sqft}                   &      31.6724  &        0.161     &   196.542  &         0.000        &       31.357    &       31.988     \\\\\n",
              "\\textbf{m}                             &    1.304e+08  &     5.87e+05     &   222.272  &         0.000        &     1.29e+08    &     1.32e+08     \\\\\n",
              "\\textbf{b}                             &     8.71e+06  &     1.97e+04     &   441.755  &         0.000        &     8.67e+06    &     8.75e+06     \\\\\n",
              "\\textbf{Op\\_Expense\\_per\\_Sqft}        &   -9.325e+05  &     2.44e+04     &   -38.220  &         0.000        &     -9.8e+05    &    -8.85e+05     \\\\\n",
              "\\textbf{Heating\\_Surcharge\\_per\\_Sqft} &   -7.673e+05  &     1.46e+05     &    -5.253  &         0.000        &    -1.05e+06    &    -4.81e+05     \\\\\n",
              "\\textbf{Op\\_Exp\\_Annual\\_Growth}       &   -1.773e+06  &     2.44e+05     &    -7.259  &         0.000        &    -2.25e+06    &    -1.29e+06     \\\\\n",
              "\\bottomrule\n",
              "\\end{tabular}\n",
              "\\begin{tabular}{lclc}\n",
              "\\textbf{Omnibus:}       & 1250.919 & \\textbf{  Durbin-Watson:     } &     1.998  \\\\\n",
              "\\textbf{Prob(Omnibus):} &   0.000  & \\textbf{  Jarque-Bera (JB):  } & 13316.324  \\\\\n",
              "\\textbf{Skew:}          &   0.163  & \\textbf{  Prob(JB):          } &      0.00  \\\\\n",
              "\\textbf{Kurtosis:}      &   8.644  & \\textbf{  Cond. No.          } &  1.84e+07  \\\\\n",
              "\\bottomrule\n",
              "\\end{tabular}\n",
              "%\\caption{OLS Regression Results}\n",
              "\\end{center}\n",
              "\n",
              "Notes: \\newline\n",
              " [1] Standard Errors assume that the covariance matrix of the errors is correctly specified. \\newline\n",
              " [2] The condition number is large, 1.84e+07. This might indicate that there are \\newline\n",
              " strong multicollinearity or other numerical problems."
            ],
            "text/plain": [
              "<class 'statsmodels.iolib.summary.Summary'>\n",
              "\"\"\"\n",
              "                            OLS Regression Results                            \n",
              "==============================================================================\n",
              "Dep. Variable:     Earnings_After_Tax   R-squared:                       0.966\n",
              "Model:                            OLS   Adj. R-squared:                  0.966\n",
              "Method:                 Least Squares   F-statistic:                 4.759e+04\n",
              "Date:                Fri, 19 Sep 2025   Prob (F-statistic):               0.00\n",
              "Time:                        07:14:36   Log-Likelihood:            -1.4697e+05\n",
              "No. Observations:               10000   AIC:                         2.940e+05\n",
              "Df Residuals:                    9993   BIC:                         2.940e+05\n",
              "Df Model:                           6                                         \n",
              "Covariance Type:            nonrobust                                         \n",
              "==============================================================================================\n",
              "                                 coef    std err          t      P>|t|      [0.025      0.975]\n",
              "----------------------------------------------------------------------------------------------\n",
              "const                      -1.007e+07   7.28e+04   -138.427      0.000   -1.02e+07   -9.93e+06\n",
              "Total_Sqft                    31.6724      0.161    196.542      0.000      31.357      31.988\n",
              "m                           1.304e+08   5.87e+05    222.272      0.000    1.29e+08    1.32e+08\n",
              "b                            8.71e+06   1.97e+04    441.755      0.000    8.67e+06    8.75e+06\n",
              "Op_Expense_per_Sqft        -9.325e+05   2.44e+04    -38.220      0.000    -9.8e+05   -8.85e+05\n",
              "Heating_Surcharge_per_Sqft -7.673e+05   1.46e+05     -5.253      0.000   -1.05e+06   -4.81e+05\n",
              "Op_Exp_Annual_Growth       -1.773e+06   2.44e+05     -7.259      0.000   -2.25e+06   -1.29e+06\n",
              "==============================================================================\n",
              "Omnibus:                     1250.919   Durbin-Watson:                   1.998\n",
              "Prob(Omnibus):                  0.000   Jarque-Bera (JB):            13316.324\n",
              "Skew:                           0.163   Prob(JB):                         0.00\n",
              "Kurtosis:                       8.644   Cond. No.                     1.84e+07\n",
              "==============================================================================\n",
              "\n",
              "Notes:\n",
              "[1] Standard Errors assume that the covariance matrix of the errors is correctly specified.\n",
              "[2] The condition number is large, 1.84e+07. This might indicate that there are\n",
              "strong multicollinearity or other numerical problems.\n",
              "\"\"\""
            ]
          },
          "execution_count": 25,
          "metadata": {},
          "output_type": "execute_result"
        }
      ],
      "source": [
        "# Linear regression to determine which uncertain inputs have the most influence on earnings\n",
        "X = data_df[['Total_Sqft', 'm', 'b', 'Op_Expense_per_Sqft', 'Heating_Surcharge_per_Sqft', 'Op_Exp_Annual_Growth']]\n",
        "y = data_df['Earnings_After_Tax']\n",
        "\n",
        "# Add constant to the model\n",
        "X = sm.add_constant(X)\n",
        "\n",
        "mod = sm.OLS(y, X, hasconst = True)\n",
        "result = mod.fit()\n",
        "result.summary()"
      ]
    },
    {
      "cell_type": "code",
      "execution_count": 26,
      "id": "0274e0e6",
      "metadata": {},
      "outputs": [
        {
          "data": {
            "text/plain": [
              "const                        -0.000000e+00\n",
              "Total_Sqft                    1.149438e+06\n",
              "m                             1.299682e+06\n",
              "b                             2.583384e+06\n",
              "Op_Expense_per_Sqft          -2.234879e+05\n",
              "Heating_Surcharge_per_Sqft   -3.072527e+04\n",
              "Op_Exp_Annual_Growth         -4.244816e+04\n",
              "dtype: float64"
            ]
          },
          "execution_count": 26,
          "metadata": {},
          "output_type": "execute_result"
        }
      ],
      "source": [
        "# normalize graph of coefficients\n",
        "result.params * X.std()"
      ]
    },
    {
      "cell_type": "code",
      "execution_count": 27,
      "id": "75ce3615",
      "metadata": {},
      "outputs": [
        {
          "data": {
            "text/plain": [
              "<Axes: >"
            ]
          },
          "execution_count": 27,
          "metadata": {},
          "output_type": "execute_result"
        },
        {
          "data": {
            "image/png": "[encoded data removed]",
            "text/plain": [
              "<Figure size 640x480 with 1 Axes>"
            ]
          },
          "metadata": {},
          "output_type": "display_data"
        }
      ],
      "source": [
        "norm_coefficients = result.params * X.std()\n",
        "\n",
        "norm_coefficients.plot.bar()"
      ]
    }
  ],
  "metadata": {
    "colab": {
      "provenance": []
    },
    "kernelspec": {
      "display_name": "Python 3",
      "language": "python",
      "name": "python3"
    },
    "language_info": {
      "codemirror_mode": {
        "name": "ipython",
        "version": 3
      },
      "file_extension": ".py",
      "mimetype": "text/x-python",
      "name": "python",
      "nbconvert_exporter": "python",
      "pygments_lexer": "ipython3",
      "version": "3.13.6"
    }
  },
  "nbformat": 4,
  "nbformat_minor": 5
}
