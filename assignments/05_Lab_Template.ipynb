{
  "nbformat": 4,
  "nbformat_minor": 0,
  "metadata": {
    "colab": {
      "provenance": [],
      "collapsed_sections": [
        "hL77L3Uei59o"
      ]
    },
    "kernelspec": {
      "name": "python3",
      "display_name": "Python 3"
    },
    "language_info": {
      "name": "python"
    }
  },
  "cells": [
    {
      "cell_type": "markdown",
      "source": [
        "#Set-Up"
      ],
      "metadata": {
        "id": "hL77L3Uei59o"
      }
    },
    {
      "cell_type": "code",
      "source": [
        "#Copy-and-paste the code below to use as \"set-up\" when your optimization model uses Pyomo and Coin-OR solvers.\n",
        "#for reference, see https://jckantor.github.io/ND-Pyomo-Cookbook/notebooks/01.02-Running-Pyomo-on-Google-Colab.html#installing-pyomo-and-solvers\n",
        "\n",
        "%%capture\n",
        "import sys\n",
        "import os\n",
        "\n",
        "if 'google.colab' in sys.modules:\n",
        "    !pip install idaes-pse --pre\n",
        "    !idaes get-extensions --to ./bin\n",
        "    os.environ['PATH'] += ':bin'\n",
        "\n",
        "from pyomo.environ import *"
      ],
      "metadata": {
        "id": "T3OEUrcJgiSR"
      },
      "execution_count": null,
      "outputs": []
    },
    {
      "cell_type": "markdown",
      "source": [
        "#Problem A: Practice writing an optimizing problem\n",
        "A rectangular box must have volume 500 in^3 (Recall: a box's volume is defined by its $length*width*height$).\n",
        "\n",
        "Find the shape that has the smallest \"mailing length\" where the mailing length is defined as the sum of the three edge lengths.\n",
        "\n",
        "What is the optimal shape of the box that meets this volume requirement with the smallest mailing length possible? (Use ipopt since this is a nonlinear problem)."
      ],
      "metadata": {
        "id": "A8gzMJrpGX6y"
      }
    },
    {
      "cell_type": "code",
      "source": [
        "#initialize a \"Concrete Model\"\n",
        "modelA = ConcreteModel()\n",
        "\n",
        "#initialize DVs\n",
        "\n",
        "#define the objective\n",
        "\n",
        "#(Optional) You can use model.pprint() to see what you've done so far\n",
        "modelA.pprint()"
      ],
      "metadata": {
        "id": "g-j-_509n3uv",
        "collapsed": true
      },
      "execution_count": null,
      "outputs": []
    },
    {
      "cell_type": "code",
      "source": [
        "#solve model (Note: you should use \"ipopt\" because this is a nonlinear problem)\n",
        "opt = SolverFactory('ipopt')\n",
        "results = opt.solve(modelA, tee = False) #setting tee = False hides the diagnostic outputs\n"
      ],
      "metadata": {
        "id": "VY1xAAi9pNQF"
      },
      "execution_count": null,
      "outputs": []
    },
    {
      "cell_type": "code",
      "source": [
        "#print optimal solution and the smallest mailing length it achieves"
      ],
      "metadata": {
        "id": "iB33prMPpoXZ"
      },
      "execution_count": null,
      "outputs": []
    },
    {
      "cell_type": "markdown",
      "source": [
        "#Problem B: Optimizing an Existing Function (office building)\n",
        "Below, I've included a completed \"office building\" model as a function. Use Pyomo to solve for the price per square foot in each year that maximizes the total earnings after tax. Use ipopt (since this is a nonlinear problem)."
      ],
      "metadata": {
        "id": "UTp7i-5iSgHA"
      }
    },
    {
      "cell_type": "code",
      "source": [
        "def office_earnings(total_sqft = 180000,\n",
        "           m = -0.05,\n",
        "           b = 1.5,\n",
        "           op_expense_per_sqft = 1.20,\n",
        "           heating_surcharge_per_sqft = .2,\n",
        "           op_exp_annual_growth = .12,\n",
        "           annual_mortgage = 1500000,\n",
        "           tax_rate = .34,\n",
        "           price_per_sqft = [15, 15, 15, 15, 15],\n",
        "           num_years = 5):\n",
        "  #rev calc\n",
        "  perc_occ = [m*price_per_sqft[i] + b for i in range(num_years)]\n",
        "  sqft_occ = [perc_occ[i]*total_sqft for i in range(num_years)]\n",
        "  revenue = [sqft_occ[i]*price_per_sqft[i] for i in range(num_years)]\n",
        "  #operating expense calculations\n",
        "  base_op_cost_as_percY1 = [(1+op_exp_annual_growth)**i for i in range(num_years)] #note that range(num_years) = range(5) = [0,1,2,3,4] and (1+op_exp_annual_growth)**0 = 1.\n",
        "  base_op_cost = [op_expense_per_sqft*total_sqft*base_op_cost_as_percY1[i] for i in range(num_years)]\n",
        "  heating_surcharge = [perc_occ[i]*base_op_cost[i]*heating_surcharge_per_sqft for i in range(num_years)]\n",
        "  mortgage = [annual_mortgage for i in range(num_years)]\n",
        "  operating_costs = [base_op_cost[i] + heating_surcharge[i] + mortgage[i] for i in range(num_years)]\n",
        "  #before and after-tax earnings\n",
        "  ebt = [revenue[i] - operating_costs[i] for i in range(num_years)]\n",
        "  taxes = [ebt[i]*tax_rate for i in range(num_years)]\n",
        "  earnings_after_tax = [ebt[i] - taxes[i] for i in range(num_years)]\n",
        "  total_earnings_after_tax = sum(earnings_after_tax)\n",
        "  return total_earnings_after_tax"
      ],
      "metadata": {
        "id": "1AbscQhnSkS3"
      },
      "execution_count": null,
      "outputs": []
    },
    {
      "cell_type": "code",
      "source": [
        "#initialize a \"Concrete Model\"\n",
        "modelB = ConcreteModel()\n",
        "\n",
        "#initialize DVs\n",
        "\n",
        "#define the objective\n",
        "\n",
        "#(Optional) You can use model.pprint() to see what you've done so far\n",
        "modelB.pprint()"
      ],
      "metadata": {
        "id": "Jq_uSiR9SnAn"
      },
      "execution_count": null,
      "outputs": []
    },
    {
      "cell_type": "code",
      "source": [
        "#solve model (Note: you should use \"ipopt\" because this is a nonlinear problem)\n",
        "opt = SolverFactory('ipopt')\n",
        "results = opt.solve(modelB, tee = False) #setting tee = False hides the diagnostic outputs\n"
      ],
      "metadata": {
        "id": "EqTdCSrip1CM"
      },
      "execution_count": null,
      "outputs": []
    },
    {
      "cell_type": "code",
      "source": [
        "#print optimal solution and the largest earnings it achieves"
      ],
      "metadata": {
        "id": "bAUa0LWvp2gk"
      },
      "execution_count": null,
      "outputs": []
    },
    {
      "cell_type": "markdown",
      "source": [
        "#Problem C: Coding with Lists of Lists and Constraint Lists\n",
        "Solve this small version of the Stigler problem shown below using lists, `ConstraintLists`, and `for` loops. This version only has **4 decision variables (DVs)** and **3 constraints** but please code in a way that would be scalable for larger problems by following the structure I've started for you below. Print out the optimal \\(x\\)'s and the total optimal cost.\n",
        "\n",
        "**Minimize cost =**  \n",
        "$0.36*x_{\\text{wheat}} + 0.141*x_{\\text{mac}} + 0.242*x_{\\text{cereal}} + 0.300*x_{\\text{milk}}$\n",
        "\n",
        "**Subject to:**  \n",
        "$\n",
        "16.1*x_{\\text{wheat}} + 1.6*x_{\\text{mac}} + 2.9*x_{\\text{cereal}} + 12.5*x_{\\text{milk}} \\geq 3 \\quad (\\text{Calories Daily Min Constraint})\n",
        "$\n",
        "$\n",
        "7.9*x_{\\text{wheat}} + 58.9*x_{\\text{mac}} + 91.2*x_{\\text{cereal}} + 42.3*x_{\\text{milk}} \\geq 1.8 \\quad (\\text{Protein Daily Min Constraint})\n",
        "$\n",
        "$\n",
        "80.5*x_{\\text{wheat}} + 3.0*x_{\\text{mac}} + 7.2*x_{\\text{cereal}} + 15.4*x_{\\text{milk}} \\geq 2.5 \\quad (\\text{Fiber Daily Min Constraint})\n",
        "$\n",
        "\n",
        "$\n",
        "x_{\\text{wheat}}, x_{\\text{mac}}, x_{\\text{cereal}}, x_{\\text{milk}} \\geq 0\n",
        "$\n"
      ],
      "metadata": {
        "id": "bw-F0zCwfYQq"
      }
    },
    {
      "cell_type": "code",
      "source": [
        "#I've put in these input parameters for you\n",
        "num_commodities = 4    #this is how many food commodities to decide on\n",
        "num_nutrients = 3      #this is how many nutrient constraints there are\n",
        "cost_coef = [.36, 0.141, 0.242, 0.300]   #this is a list of the cost coefficients in the objective\n",
        "constraint_coef = [[16.1, 1.6, 2.9, 12.5],\n",
        "                   [7.9, 58.9, 91.2, 42.3],\n",
        "                   [80.5, 3.0, 7.2, 15.4]]     #this is the list of lists of all the constraint coefficients\n",
        "daily_mins = [3, 1.8, 2.5]        #these are the right hand sides"
      ],
      "metadata": {
        "id": "Dl-mFuL0gCya"
      },
      "execution_count": null,
      "outputs": []
    },
    {
      "cell_type": "code",
      "source": [
        "#Fill in the ??? to complete this code\n",
        "modelC = ConcreteModel()\n",
        "\n",
        "#dvs\n",
        "modelC.x = Var(range(???), domain = NonNegativeReals)\n",
        "\n",
        "#objective\n",
        "modelC.Objective = Objective(expr = ???, sense = ???)\n",
        "\n",
        "#constraints\n",
        "modelC.nutrient_constraints = ConstraintList()\n",
        "for i in range(???):\n",
        "  modelC.nutrient_constraints.add(???)\n",
        "\n",
        "#model pprint()\n",
        "modelC.pprint()"
      ],
      "metadata": {
        "collapsed": true,
        "id": "dcd2UuqvgEOi"
      },
      "execution_count": null,
      "outputs": []
    },
    {
      "cell_type": "code",
      "source": [
        "#solve model with cbc because this is a linear program\n",
        "opt = SolverFactory('cbc')\n",
        "results = opt.solve(modelC, tee = True)"
      ],
      "metadata": {
        "collapsed": true,
        "id": "Ps6n6rNMgFgx"
      },
      "execution_count": null,
      "outputs": []
    },
    {
      "cell_type": "code",
      "source": [
        "#print optimal amounts of each food and the optimal cost it achieves\n",
        "\n"
      ],
      "metadata": {
        "id": "3t8QehZsgHEx"
      },
      "execution_count": null,
      "outputs": []
    }
  ]
}