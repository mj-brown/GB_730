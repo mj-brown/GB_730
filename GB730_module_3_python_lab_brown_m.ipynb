{
  "cells": [
    {
      "cell_type": "markdown",
      "metadata": {
        "id": "oKTXM4N8mdWs"
      },
      "source": [
        "# Base Model\n",
        "Here is a Python script of a holiday product profit model."
      ]
    },
    {
      "cell_type": "code",
      "execution_count": 1,
      "metadata": {
        "id": "GgqN6_LflUIu"
      },
      "outputs": [],
      "source": [
        "#Inputs\n",
        "fixed_cost = 750\n",
        "variable_cost = 8\n",
        "sales_price = 18\n",
        "salvage_value = 6\n",
        "demand = 1400\n",
        "order = 1600"
      ]
    },
    {
      "cell_type": "code",
      "execution_count": 2,
      "metadata": {
        "id": "-pBsv5z7lt-T"
      },
      "outputs": [
        {
          "name": "stdout",
          "output_type": "stream",
          "text": [
            "1400 200\n"
          ]
        }
      ],
      "source": [
        "#quantity_calcs\n",
        "quantity_sold = min(demand, order)\n",
        "quantity_salvaged = order - quantity_sold\n",
        "print(quantity_sold, quantity_salvaged)"
      ]
    },
    {
      "cell_type": "code",
      "execution_count": 3,
      "metadata": {
        "id": "xm_e9pvsl_OK"
      },
      "outputs": [
        {
          "name": "stdout",
          "output_type": "stream",
          "text": [
            "26400\n"
          ]
        }
      ],
      "source": [
        "#revenue calcs\n",
        "rev_sales = quantity_sold*sales_price\n",
        "rev_salvaged = quantity_salvaged*salvage_value\n",
        "total_rev = rev_sales + rev_salvaged\n",
        "print(total_rev)"
      ]
    },
    {
      "cell_type": "code",
      "execution_count": 4,
      "metadata": {
        "id": "CcFVXAC1mOaC"
      },
      "outputs": [
        {
          "name": "stdout",
          "output_type": "stream",
          "text": [
            "13550\n"
          ]
        }
      ],
      "source": [
        "#cost calculations\n",
        "total_cost = fixed_cost + variable_cost*order\n",
        "print(total_cost)"
      ]
    },
    {
      "cell_type": "code",
      "execution_count": 5,
      "metadata": {
        "id": "kGVZEX3gmXXn"
      },
      "outputs": [
        {
          "name": "stdout",
          "output_type": "stream",
          "text": [
            "12850\n"
          ]
        }
      ],
      "source": [
        "#profit\n",
        "profit = total_rev - total_cost\n",
        "print(profit)"
      ]
    },
    {
      "cell_type": "markdown",
      "metadata": {
        "id": "eja71-WbmhKq"
      },
      "source": [
        "# Model as Function\n",
        "Below, I've wrapped the above model wrapped into a function (with default values)"
      ]
    },
    {
      "cell_type": "code",
      "execution_count": 6,
      "metadata": {
        "id": "rNGXwe_gmiub"
      },
      "outputs": [],
      "source": [
        "def profit(fixed_cost = 750,\n",
        "            sales_price = 18,\n",
        "            variable_cost = 8,\n",
        "            salvage_value = 6,\n",
        "            demand = 1400,\n",
        "            order = 1600):\n",
        "  #quantity_calcs\n",
        "  quantity_sold = min(demand, order)\n",
        "  quantity_salvaged = order - quantity_sold\n",
        "  \n",
        "  #revenue calcs\n",
        "  rev_sales = quantity_sold*sales_price\n",
        "  rev_salvaged = quantity_salvaged*salvage_value\n",
        "  total_rev = rev_sales + rev_salvaged\n",
        "  \n",
        "  #cost calculations\n",
        "  total_cost = fixed_cost + variable_cost*order\n",
        "  \n",
        "  #profit\n",
        "  profit = total_rev - total_cost\n",
        "  return profit"
      ]
    },
    {
      "cell_type": "code",
      "execution_count": 7,
      "metadata": {
        "colab": {
          "base_uri": "https://localhost:8080/"
        },
        "id": "GiyGm1XAuldF",
        "outputId": "bb783dab-1d59-4c25-8a28-fa488e1bfa14"
      },
      "outputs": [
        {
          "data": {
            "text/plain": [
              "12850"
            ]
          },
          "execution_count": 7,
          "metadata": {},
          "output_type": "execute_result"
        }
      ],
      "source": [
        "profit()"
      ]
    },
    {
      "cell_type": "markdown",
      "metadata": {},
      "source": [
        "## Business Scenario\n",
        "Your boss points out that the main uncertain input is the demand quantity. It is hard to forecast. While your analyst’s best guess for demand is 1400, they are only 80% confident that it will be between 1000 and 1800. \n",
        "\n",
        "The company is in trouble if we don’t make at least $10,000. \n"
      ]
    },
    {
      "cell_type": "markdown",
      "metadata": {},
      "source": [
        "### Import necessary libaries"
      ]
    },
    {
      "cell_type": "code",
      "execution_count": 8,
      "metadata": {},
      "outputs": [],
      "source": [
        "# Import libraries\n",
        "import numpy as np\n",
        "import matplotlib.pyplot as plt"
      ]
    },
    {
      "cell_type": "markdown",
      "metadata": {},
      "source": [
        "### Business Question 1\n",
        "Under this demand uncertainty, what’s the risk of us not hitting that $10,000 profit target? How can you best visualize this risk?"
      ]
    },
    {
      "cell_type": "code",
      "execution_count": null,
      "metadata": {},
      "outputs": [],
      "source": [
        "# Setup random inputs (range = 1000 - 1800, n = 1000)\n",
        "demand_random_inputs = np.random.uniform(1000, 1800, 1000)\n",
        "#print(demand_random_inputs)\n",
        "profit_outputs = [profit(demand = i) for i in demand_random_inputs]\n",
        "#print(profit_outputs)"
      ]
    },
    {
      "cell_type": "code",
      "execution_count": 13,
      "metadata": {},
      "outputs": [
        {
          "data": {
            "image/png": "[encoded data removed]",
            "text/plain": [
              "<Figure size 640x480 with 1 Axes>"
            ]
          },
          "metadata": {},
          "output_type": "display_data"
        }
      ],
      "source": [
        "# Visualize the profit distribution\n",
        "plt.hist(profit_outputs, bins=30, edgecolor='black')\n",
        "plt.axvline(x=10000, color='red', linestyle='--', label='$10,000 Profit Target')\n",
        "plt.title('Profit Distribution with Demand Uncertainty')\n",
        "plt.xlabel('Profit')\n",
        "plt.ylabel('Frequency')\n",
        "plt.legend()\n",
        "plt.show()"
      ]
    },
    {
      "cell_type": "code",
      "execution_count": 15,
      "metadata": {},
      "outputs": [
        {
          "name": "stdout",
          "output_type": "stream",
          "text": [
            "Risk of not hitting $10,000 profit target: 19.50%\n"
          ]
        }
      ],
      "source": [
        "# Determine the risk of not hitting the $10,000 profit target\n",
        "risk = sum(p < 10000 for p in profit_outputs)\n",
        "\n",
        "print(f'Risk of not hitting $10,000 profit target: {risk/len(profit_outputs):.2%}')"
      ]
    },
    {
      "cell_type": "markdown",
      "metadata": {},
      "source": [
        "### Business Question 2\n",
        "The default order quantity in the model is 1600. How does the risk (a) change if we decide to order 1300 instead? How can you best visualize this comparison?"
      ]
    },
    {
      "cell_type": "code",
      "execution_count": 16,
      "metadata": {},
      "outputs": [],
      "source": [
        "# Caluclate the profit for and order quantity of 1600 and an order quantitiy of 1300.\n",
        "profit_1600 = [profit(demand = i, order = 1600) for i in demand_random_inputs]\n",
        "profit_1300 = [profit(demand = i, order = 1300) for i in demand_random_inputs]"
      ]
    },
    {
      "cell_type": "code",
      "execution_count": 23,
      "metadata": {},
      "outputs": [
        {
          "name": "stdout",
          "output_type": "stream",
          "text": [
            "Risk of not hitting $10,000 profit target with order 1600: 19.50%\n",
            "Risk of not hitting $10,000 profit target with order 1300: 13.10%\n"
          ]
        }
      ],
      "source": [
        "# Calculate the risk for both order quantities\n",
        "risk_1600 = sum(p < 10000 for p in profit_1600)\n",
        "risk_1300 = sum(p < 10000 for p in profit_1300)\n",
        "print(f'Risk of not hitting $10,000 profit target with order 1600: {risk_1600/len(profit_1600):.2%}')\n",
        "print(f'Risk of not hitting $10,000 profit target with order 1300: {risk_1300/len(profit_1300):.2%}')"
      ]
    },
    {
      "cell_type": "code",
      "execution_count": 26,
      "metadata": {},
      "outputs": [
        {
          "data": {
            "image/png": "[encoded data removed]",
            "text/plain": [
              "<Figure size 640x480 with 1 Axes>"
            ]
          },
          "metadata": {},
          "output_type": "display_data"
        }
      ],
      "source": [
        "# Calculate the risk percentages\n",
        "risk_1600_pct = risk_1600  / 10\n",
        "risk_1300_pct = risk_1300 / 10\n",
        "\n",
        "# Plot the comparison of risk between the two order quantities with a bar chart\n",
        "labels = ['Order Qty. 1600', 'Order Qty. 1300']\n",
        "risks = [risk_1600_pct, risk_1300_pct]\n",
        "x = np.arange(len(labels))\n",
        "plt.bar(x, risks, color=['blue', 'orange'])\n",
        "plt.xticks(x, labels)\n",
        "plt.ylabel('Risk of Not Hitting $10,000 Profit Target (%)')\n",
        "plt.title('Comparison of Risk Between Order Quantities')\n",
        "plt.ylim(0, max(risks) + 5)\n",
        "\n",
        "# Add value labels on top of the bars\n",
        "for i in range(len(risks)):\n",
        "    plt.text(i, risks[i] + 0.5, f'{risks[i]:.2f}%', ha='center')\n",
        "\n",
        "plt.show()"
      ]
    }
  ],
  "metadata": {
    "colab": {
      "provenance": []
    },
    "kernelspec": {
      "display_name": "Python 3",
      "name": "python3"
    },
    "language_info": {
      "codemirror_mode": {
        "name": "ipython",
        "version": 3
      },
      "file_extension": ".py",
      "mimetype": "text/x-python",
      "name": "python",
      "nbconvert_exporter": "python",
      "pygments_lexer": "ipython3",
      "version": "3.13.6"
    }
  },
  "nbformat": 4,
  "nbformat_minor": 0
}
