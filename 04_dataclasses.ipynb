{
  "nbformat": 4,
  "nbformat_minor": 0,
  "metadata": {
    "colab": {
      "provenance": []
    },
    "kernelspec": {
      "name": "python3",
      "display_name": "Python 3"
    },
    "language_info": {
      "name": "python"
    }
  },
  "cells": [
    {
      "cell_type": "code",
      "source": [
        "#input parameters\n",
        "planned_units = 20000\n",
        "selling_price = 15 #dollars\n",
        "variable_cost = 9 #dollars\n",
        "fixed_cost = 60000\n",
        "\n",
        "#cost calculations\n",
        "total_cost = variable_cost*planned_units + fixed_cost\n",
        "total_rev = selling_price*planned_units\n",
        "profit = total_rev-total_cost\n",
        "\n",
        "#print outputs\n",
        "print(\"profit = \", profit)"
      ],
      "metadata": {
        "colab": {
          "base_uri": "https://localhost:8080/"
        },
        "id": "DlwT3dFoqI6K",
        "outputId": "02f2f6fe-56a2-4cc1-9ff4-87f89e55903b"
      },
      "execution_count": null,
      "outputs": [
        {
          "output_type": "stream",
          "name": "stdout",
          "text": [
            "profit =  60000\n"
          ]
        }
      ]
    },
    {
      "cell_type": "code",
      "source": [
        "def profit_model(planned_units, selling_price, variable_cost, fixed_cost):\n",
        "    total_cost = variable_cost * planned_units + fixed_cost\n",
        "    total_rev = selling_price * planned_units\n",
        "    profit = total_rev - total_cost\n",
        "    return profit"
      ],
      "metadata": {
        "id": "s7jRwQSDqJQi"
      },
      "execution_count": null,
      "outputs": []
    },
    {
      "cell_type": "markdown",
      "source": [
        "What if the inputs are more complex?"
      ],
      "metadata": {
        "id": "VT6xgvej2KG6"
      }
    },
    {
      "cell_type": "code",
      "source": [
        "def profit_model(inputs):\n",
        "    total_cost = inputs.variable_cost*inputs.planned_units + inputs.fixed_cost\n",
        "    total_rev = inputs.selling_price*inputs.planned_units\n",
        "    profit = total_rev - total_cost\n",
        "    return profit"
      ],
      "metadata": {
        "id": "TEcAquTI2IsK"
      },
      "execution_count": null,
      "outputs": []
    },
    {
      "cell_type": "markdown",
      "source": [
        "Let's define an input dataclass"
      ],
      "metadata": {
        "id": "RCX2lHAcSgo7"
      }
    },
    {
      "cell_type": "code",
      "source": [
        "from dataclasses import dataclass\n",
        "\n",
        "#create an \"inputs\" class that has all the model inputs\n",
        "@dataclass\n",
        "class inputs:\n",
        "    planned_units: float\n",
        "    selling_price: float\n",
        "    variable_cost: float\n",
        "    fixed_cost: int"
      ],
      "metadata": {
        "id": "VooqYSPk2I36"
      },
      "execution_count": 1,
      "outputs": []
    },
    {
      "cell_type": "code",
      "source": [
        "input_instance1 = inputs(planned_units = 1, selling_price = 2,\n",
        "                         variable_cost = 3, fixed_cost = 4)\n",
        "input_instance1.planned_units"
      ],
      "metadata": {
        "colab": {
          "base_uri": "https://localhost:8080/",
          "height": 0
        },
        "id": "emFvcDgLSlYS",
        "outputId": "a5ca6952-44c4-43da-f16d-f9efb035c0dd"
      },
      "execution_count": 2,
      "outputs": [
        {
          "output_type": "execute_result",
          "data": {
            "text/plain": [
              "1"
            ]
          },
          "metadata": {},
          "execution_count": 2
        }
      ]
    },
    {
      "cell_type": "code",
      "source": [
        "inputs()"
      ],
      "metadata": {
        "colab": {
          "base_uri": "https://localhost:8080/",
          "height": 193
        },
        "id": "GO0-Zf06UH6Y",
        "outputId": "382589f0-fe45-45d9-eaa0-8df406fe3026"
      },
      "execution_count": 3,
      "outputs": [
        {
          "output_type": "error",
          "ename": "TypeError",
          "evalue": "inputs.__init__() missing 4 required positional arguments: 'planned_units', 'selling_price', 'variable_cost', and 'fixed_cost'",
          "traceback": [
            "\u001b[0;31m---------------------------------------------------------------------------\u001b[0m",
            "\u001b[0;31mTypeError\u001b[0m                                 Traceback (most recent call last)",
            "\u001b[0;32m/tmp/ipython-input-2943672371.py\u001b[0m in \u001b[0;36m<cell line: 0>\u001b[0;34m()\u001b[0m\n\u001b[0;32m----> 1\u001b[0;31m \u001b[0minputs\u001b[0m\u001b[0;34m(\u001b[0m\u001b[0;34m)\u001b[0m\u001b[0;34m\u001b[0m\u001b[0;34m\u001b[0m\u001b[0m\n\u001b[0m",
            "\u001b[0;31mTypeError\u001b[0m: inputs.__init__() missing 4 required positional arguments: 'planned_units', 'selling_price', 'variable_cost', and 'fixed_cost'"
          ]
        }
      ]
    },
    {
      "cell_type": "markdown",
      "source": [
        "Assigning default values"
      ],
      "metadata": {
        "id": "wLOBO4UWSp4V"
      }
    },
    {
      "cell_type": "code",
      "source": [
        "from dataclasses import dataclass\n",
        "\n",
        "#create an \"inputs\" class that has all the model inputs\n",
        "@dataclass\n",
        "class inputs:\n",
        "    planned_units: float = 20000\n",
        "    selling_price: float = 15\n",
        "    variable_cost: float = 9\n",
        "    fixed_cost: int = 60000"
      ],
      "metadata": {
        "id": "unrLh25FSpWu"
      },
      "execution_count": 4,
      "outputs": []
    },
    {
      "cell_type": "code",
      "source": [
        "input_instance2 = inputs()\n",
        "input_instance2"
      ],
      "metadata": {
        "colab": {
          "base_uri": "https://localhost:8080/",
          "height": 0
        },
        "id": "oqB5q5QTSmm9",
        "outputId": "73a0c3c1-a70e-4778-f581-17c8392dca9f"
      },
      "execution_count": 5,
      "outputs": [
        {
          "output_type": "execute_result",
          "data": {
            "text/plain": [
              "inputs(planned_units=20000, selling_price=15, variable_cost=9, fixed_cost=60000)"
            ]
          },
          "metadata": {},
          "execution_count": 5
        }
      ]
    },
    {
      "cell_type": "markdown",
      "source": [
        "Further separating the model function"
      ],
      "metadata": {
        "id": "7cCelyacSx3C"
      }
    },
    {
      "cell_type": "code",
      "source": [
        "def profit_model(inputs):\n",
        "    total_cost = inputs.variable_cost*inputs.planned_units + inputs.fixed_cost\n",
        "    total_rev = inputs.selling_price*inputs.planned_units\n",
        "    profit = total_rev - total_cost\n",
        "    return profit"
      ],
      "metadata": {
        "id": "BYfWMR9lS3EI"
      },
      "execution_count": null,
      "outputs": []
    },
    {
      "cell_type": "code",
      "source": [
        "def total_cost(inputs):\n",
        "    total_cost = inputs.variable_cost*inputs.planned_units + inputs.fixed_cost\n",
        "    return total_cost\n",
        "\n",
        "def total_rev(inputs):\n",
        "    total_rev = inputs.selling_price*inputs.planned_units\n",
        "    return total_rev\n",
        "\n",
        "def profit_model(inputs):\n",
        "    profit = total_rev(inputs) - total_cost(inputs)\n",
        "    return profit"
      ],
      "metadata": {
        "id": "3yKO2ejKSwjs"
      },
      "execution_count": null,
      "outputs": []
    }
  ]
}