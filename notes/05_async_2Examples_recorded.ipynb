{
  "nbformat": 4,
  "nbformat_minor": 0,
  "metadata": {
    "colab": {
      "provenance": [],
      "collapsed_sections": [
        "hL77L3Uei59o"
      ]
    },
    "kernelspec": {
      "name": "python3",
      "display_name": "Python 3"
    },
    "language_info": {
      "name": "python"
    }
  },
  "cells": [
    {
      "cell_type": "markdown",
      "source": [
        "#Set-Up"
      ],
      "metadata": {
        "id": "hL77L3Uei59o"
      }
    },
    {
      "cell_type": "code",
      "source": [
        "#Copy-and-paste the code below to use as \"set-up\" when your optimization model uses Pyomo and Coin-OR solvers.\n",
        "#for reference, see https://jckantor.github.io/ND-Pyomo-Cookbook/notebooks/01.02-Running-Pyomo-on-Google-Colab.html#installing-pyomo-and-solvers\n",
        "\n",
        "%%capture\n",
        "import sys\n",
        "import os\n",
        "\n",
        "if 'google.colab' in sys.modules:\n",
        "    !pip install idaes-pse --pre\n",
        "    !idaes get-extensions --to ./bin\n",
        "    os.environ['PATH'] += ':bin'\n",
        "\n",
        "from pyomo.environ import *"
      ],
      "metadata": {
        "id": "T3OEUrcJgiSR"
      },
      "execution_count": null,
      "outputs": []
    },
    {
      "cell_type": "markdown",
      "source": [
        "#Example 1\n",
        "Problem with constraints and bounds"
      ],
      "metadata": {
        "id": "FCGB00H5i9W2"
      }
    },
    {
      "cell_type": "code",
      "source": [
        "#Maximize 3*x + 2*y\n",
        "#such that\n",
        "#x + y <= 5\n",
        "#2x + y <= 3\n",
        "#x,y >= 0"
      ],
      "metadata": {
        "id": "PFqYRwxF2X7u"
      },
      "execution_count": null,
      "outputs": []
    },
    {
      "cell_type": "code",
      "source": [
        "#initialize a concrete model\n",
        "model = ConcreteModel()\n",
        "\n",
        "#define DVs\n",
        "model.x = Var(domain = NonNegativeReals)\n",
        "model.y = Var(domain = Reals, bounds = (0, None)) #this does the same as above\n",
        "\n",
        "#add objective\n",
        "model.obj = Objective(expr = 3*model.x + 2*model.y, sense = maximize)\n",
        "\n",
        "#add constraint 1\n",
        "model.c1 = Constraint(expr = model.x + model.y <= 5)\n",
        "\n",
        "#add constraint 2\n",
        "model.c2 = Constraint(expr = 2*model.x + model.y <= 3)\n",
        "\n",
        "#print model\n",
        "model.pprint()"
      ],
      "metadata": {
        "id": "8YwM_uPQ6fZT",
        "colab": {
          "base_uri": "https://localhost:8080/"
        },
        "outputId": "982a459c-c0b0-4528-e2ec-b40566e4a39a"
      },
      "execution_count": null,
      "outputs": [
        {
          "output_type": "stream",
          "name": "stdout",
          "text": [
            "2 Var Declarations\n",
            "    x : Size=1, Index=None\n",
            "        Key  : Lower : Value : Upper : Fixed : Stale : Domain\n",
            "        None :     0 :  None :  None : False :  True : NonNegativeReals\n",
            "    y : Size=1, Index=None\n",
            "        Key  : Lower : Value : Upper : Fixed : Stale : Domain\n",
            "        None :     0 :  None :  None : False :  True :  Reals\n",
            "\n",
            "1 Objective Declarations\n",
            "    obj : Size=1, Index=None, Active=True\n",
            "        Key  : Active : Sense    : Expression\n",
            "        None :   True : maximize : 3*x + 2*y\n",
            "\n",
            "2 Constraint Declarations\n",
            "    c1 : Size=1, Index=None, Active=True\n",
            "        Key  : Lower : Body  : Upper : Active\n",
            "        None :  -Inf : x + y :   5.0 :   True\n",
            "    c2 : Size=1, Index=None, Active=True\n",
            "        Key  : Lower : Body    : Upper : Active\n",
            "        None :  -Inf : 2*x + y :   3.0 :   True\n",
            "\n",
            "5 Declarations: x y obj c1 c2\n"
          ]
        }
      ]
    },
    {
      "cell_type": "code",
      "source": [
        "#solving model\n",
        "opt = SolverFactory('cbc')\n",
        "results = opt.solve(model, tee=False)"
      ],
      "metadata": {
        "id": "JEe1fnhK7i4r"
      },
      "execution_count": null,
      "outputs": []
    },
    {
      "cell_type": "code",
      "source": [
        "#print solution\n",
        "print(\"x* = \", model.x())\n",
        "print(\"y* = \", model.y())\n",
        "print(\"obj* = \", value(model.obj))"
      ],
      "metadata": {
        "colab": {
          "base_uri": "https://localhost:8080/"
        },
        "id": "I8WDJOYY7wNP",
        "outputId": "845906c1-1dd8-45df-de08-c8fb8d82a61c"
      },
      "execution_count": null,
      "outputs": [
        {
          "output_type": "stream",
          "name": "stdout",
          "text": [
            "x* =  0.0\n",
            "y* =  3.0\n",
            "obj* =  6.0\n"
          ]
        }
      ]
    },
    {
      "cell_type": "markdown",
      "source": [
        "#Example 2\n",
        "Dealing with a bigger one using lists"
      ],
      "metadata": {
        "id": "6tt6iWAAvsrB"
      }
    },
    {
      "cell_type": "code",
      "source": [
        "# Maximize 3*x1 + 2*x2 - 7*x3 + 3*x4 + 6*x5, such that\n",
        "# 4*x1 + 8*x2 - 3*x3 + 5*x4 + 9*x5 <= 17\n",
        "# 3*x1 + 4*x2 - 6*x3 + 1*x4 <= 19\n",
        "# x1, x2, x3, x4, x5 >= 0"
      ],
      "metadata": {
        "id": "ClfOoQsLvr50"
      },
      "execution_count": null,
      "outputs": []
    },
    {
      "cell_type": "code",
      "source": [
        "#utilizing lists to write the above info in a scalable way\n",
        "obj_coef = [3, 2, -7, 3, 6]\n",
        "c1_coef = [4, 8, -3, 5, 9]\n",
        "c2_coef = [3, 4, -6, 1, 0]\n",
        "c1_rhs = 17\n",
        "c2_rhs = 19\n",
        "n = 5"
      ],
      "metadata": {
        "id": "-1kyq4-y8SZ9"
      },
      "execution_count": null,
      "outputs": []
    },
    {
      "cell_type": "code",
      "source": [
        "#define another model2 using pyomo\n",
        "model2 = ConcreteModel()\n",
        "\n",
        "#define decision variables\n",
        "model2.x = Var(range(n), domain = NonNegativeReals) #creates 5 decision variables x[0], x[1], x[2], x[3] & x[4]\n",
        "\n",
        "#define objective\n",
        "model2.obj = Objective(expr = sum(obj_coef[i]*model2.x[i] for i in range(n)), sense = maximize)\n",
        "\n",
        "#define constraints\n",
        "model2.c1 = Constraint(expr = sum(c1_coef[i]*model2.x[i] for i in range(n)) <= c1_rhs)\n",
        "model2.c2 = Constraint(expr = sum(c2_coef[i]*model2.x[i] for i in range(n)) <= c2_rhs)\n",
        "\n",
        "model2.pprint()"
      ],
      "metadata": {
        "id": "iqXKWYjx8xNi"
      },
      "execution_count": null,
      "outputs": []
    },
    {
      "cell_type": "code",
      "source": [
        "#solve\n",
        "opt = SolverFactory('cbc')\n",
        "results = opt.solve(model2, tee=False)"
      ],
      "metadata": {
        "id": "LfTtVFSy-HYb"
      },
      "execution_count": null,
      "outputs": []
    },
    {
      "cell_type": "code",
      "source": [
        "#print results\n",
        "for i in range(n):\n",
        "  print(f\"x{i} is {value(model2.x[i])}\")\n",
        "\n",
        "print(\"obj* = \", model2.obj())"
      ],
      "metadata": {
        "colab": {
          "base_uri": "https://localhost:8080/"
        },
        "id": "76Euubn--R04",
        "outputId": "50e70fcc-5dbc-45d3-9a2a-22ee2c7dfc1f"
      },
      "execution_count": null,
      "outputs": [
        {
          "output_type": "stream",
          "name": "stdout",
          "text": [
            "x0 is 4.25\n",
            "x1 is 0.0\n",
            "x2 is 0.0\n",
            "x3 is 0.0\n",
            "x4 is 0.0\n",
            "obj* =  12.75\n"
          ]
        }
      ]
    }
  ]
}