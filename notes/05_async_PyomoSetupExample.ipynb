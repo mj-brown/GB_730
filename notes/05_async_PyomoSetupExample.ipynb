{
  "nbformat": 4,
  "nbformat_minor": 0,
  "metadata": {
    "colab": {
      "provenance": []
    },
    "kernelspec": {
      "name": "python3",
      "display_name": "Python 3"
    },
    "language_info": {
      "name": "python"
    }
  },
  "cells": [
    {
      "cell_type": "markdown",
      "source": [
        "#Set-up"
      ],
      "metadata": {
        "id": "9NPJumFKPl_z"
      }
    },
    {
      "cell_type": "code",
      "source": [
        "#Copy-and-paste the code below to use as \"set-up\" when your optimization model uses Pyomo and Coin-OR solvers.\n",
        "#for reference, see https://jckantor.github.io/ND-Pyomo-Cookbook/notebooks/01.02-Running-Pyomo-on-Google-Colab.html#installing-pyomo-and-solvers\n",
        "\n",
        "%%capture\n",
        "import sys\n",
        "import os\n",
        "\n",
        "if 'google.colab' in sys.modules:\n",
        "    !pip install idaes-pse --pre\n",
        "    !idaes get-extensions --to ./bin\n",
        "    os.environ['PATH'] += ':bin'\n",
        "\n",
        "from pyomo.environ import *"
      ],
      "metadata": {
        "id": "vIBlLGZIPjZu"
      },
      "execution_count": null,
      "outputs": []
    },
    {
      "cell_type": "markdown",
      "source": [
        "#Optimization Model"
      ],
      "metadata": {
        "id": "FCGB00H5i9W2"
      }
    },
    {
      "cell_type": "code",
      "execution_count": null,
      "metadata": {
        "colab": {
          "base_uri": "https://localhost:8080/"
        },
        "id": "IVmmsogZgcQp",
        "outputId": "d1203f1d-b65c-40c5-e1cc-6d978769f38c"
      },
      "outputs": [
        {
          "output_type": "stream",
          "name": "stdout",
          "text": [
            "2 Var Declarations\n",
            "    x : Size=1, Index=None\n",
            "        Key  : Lower : Value : Upper : Fixed : Stale : Domain\n",
            "        None :     0 :  None :  None : False :  True : NonNegativeReals\n",
            "    y : Size=1, Index=None\n",
            "        Key  : Lower : Value : Upper : Fixed : Stale : Domain\n",
            "        None :     0 :  None :  None : False :  True : NonNegativeReals\n",
            "\n",
            "1 Objective Declarations\n",
            "    profit : Size=1, Index=None, Active=True\n",
            "        Key  : Active : Sense    : Expression\n",
            "        None :   True : maximize : 40*x + 30*y\n",
            "\n",
            "3 Constraint Declarations\n",
            "    demand : Size=1, Index=None, Active=True\n",
            "        Key  : Lower : Body : Upper : Active\n",
            "        None :  -Inf :    x :  40.0 :   True\n",
            "    laborA : Size=1, Index=None, Active=True\n",
            "        Key  : Lower : Body  : Upper : Active\n",
            "        None :  -Inf : x + y :  80.0 :   True\n",
            "    laborB : Size=1, Index=None, Active=True\n",
            "        Key  : Lower : Body    : Upper : Active\n",
            "        None :  -Inf : 2*x + y : 100.0 :   True\n",
            "\n",
            "6 Declarations: x y profit demand laborA laborB\n"
          ]
        }
      ],
      "source": [
        "# create a model\n",
        "model = ConcreteModel()\n",
        "\n",
        "# declare decision variables\n",
        "model.x = Var(domain=NonNegativeReals)\n",
        "model.y = Var(domain=NonNegativeReals)\n",
        "\n",
        "# declare objective\n",
        "model.profit = Objective(expr = 40*model.x + 30*model.y, sense=maximize)\n",
        "\n",
        "# declare constraints\n",
        "model.demand = Constraint(expr = model.x <= 40)\n",
        "model.laborA = Constraint(expr = model.x + model.y <= 80)\n",
        "model.laborB = Constraint(expr = 2*model.x + model.y <= 100)\n",
        "\n",
        "model.pprint()"
      ]
    },
    {
      "cell_type": "code",
      "source": [
        "#solve model\n",
        "SolverFactory('cbc').solve(model, tee=True)"
      ],
      "metadata": {
        "colab": {
          "base_uri": "https://localhost:8080/"
        },
        "id": "BeTuEObZgmDw",
        "outputId": "510bd15c-6836-40b4-ba7d-4362b72b1dc1"
      },
      "execution_count": null,
      "outputs": [
        {
          "output_type": "stream",
          "name": "stdout",
          "text": [
            "Welcome to the CBC MILP Solver \n",
            "Version: 2.10.10 \n",
            "Build Date: Jun  7 2023 \n",
            "\n",
            "command line - /content/bin/cbc -printingOptions all -import /tmp/tmpnjvtzhqp.pyomo.lp -stat=1 -solve -solu /tmp/tmpnjvtzhqp.pyomo.soln (default strategy 1)\n",
            "Option for printingOptions changed from normal to all\n",
            " CoinLpIO::readLp(): Maximization problem reformulated as minimization\n",
            "Coin0009I Switching back to maximization to get correct duals etc\n",
            "Presolve 2 (-1) rows, 2 (0) columns and 4 (-1) elements\n",
            "Statistics for presolved model\n",
            "\n",
            "\n",
            "Problem has 2 rows, 2 columns (2 with objective) and 4 elements\n",
            "Column breakdown:\n",
            "1 of type 0.0->inf, 1 of type 0.0->up, 0 of type lo->inf, \n",
            "0 of type lo->up, 0 of type free, 0 of type fixed, \n",
            "0 of type -inf->0.0, 0 of type -inf->up, 0 of type 0.0->1.0 \n",
            "Row breakdown:\n",
            "0 of type E 0.0, 0 of type E 1.0, 0 of type E -1.0, \n",
            "0 of type E other, 0 of type G 0.0, 0 of type G 1.0, \n",
            "0 of type G other, 0 of type L 0.0, 0 of type L 1.0, \n",
            "2 of type L other, 0 of type Range 0.0->1.0, 0 of type Range other, \n",
            "0 of type Free \n",
            "Presolve 2 (-1) rows, 2 (0) columns and 4 (-1) elements\n",
            "0  Obj -0 Dual inf 69.999998 (2)\n",
            "2  Obj 2600\n",
            "Optimal - objective value 2600\n",
            "After Postsolve, objective 2600, infeasibilities - dual 0 (0), primal 0 (0)\n",
            "Optimal objective 2600 - 2 iterations time 0.002, Presolve 0.00\n",
            "Total time (CPU seconds):       0.00   (Wallclock seconds):       0.00\n",
            "\n"
          ]
        },
        {
          "output_type": "execute_result",
          "data": {
            "text/plain": [
              "{'Problem': [{'Name': 'unknown', 'Lower bound': 2600.0, 'Upper bound': 2600.0, 'Number of objectives': 1, 'Number of constraints': 3, 'Number of variables': 2, 'Number of nonzeros': 2, 'Sense': 'maximize'}], 'Solver': [{'Status': 'ok', 'User time': -1.0, 'System time': 0.0, 'Wallclock time': 0.0, 'Termination condition': 'optimal', 'Termination message': 'Model was solved to optimality (subject to tolerances), and an optimal solution is available.', 'Statistics': {'Branch and bound': {'Number of bounded subproblems': None, 'Number of created subproblems': None}, 'Black box': {'Number of iterations': 2}}, 'Error rc': 0, 'Time': 0.11496114730834961}], 'Solution': [OrderedDict([('number of solutions', 0), ('number of solutions displayed', 0)])]}"
            ]
          },
          "metadata": {},
          "execution_count": 3
        }
      ]
    },
    {
      "cell_type": "code",
      "source": [
        "# display solution\n",
        "print('Profit = ', model.profit())\n",
        "\n",
        "print('Optimal Decision Variables')\n",
        "print('x = ', model.x())\n",
        "print('y = ', model.y())"
      ],
      "metadata": {
        "colab": {
          "base_uri": "https://localhost:8080/"
        },
        "id": "FaaJDS0oh22y",
        "outputId": "f15ed975-0564-4f3e-f962-6e965b669497"
      },
      "execution_count": null,
      "outputs": [
        {
          "output_type": "stream",
          "name": "stdout",
          "text": [
            "Profit =  2600.0\n",
            "Optimal Decision Variables\n",
            "x =  20.0\n",
            "y =  60.0\n"
          ]
        }
      ]
    }
  ]
}