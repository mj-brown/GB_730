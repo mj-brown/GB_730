{
  "nbformat": 4,
  "nbformat_minor": 0,
  "metadata": {
    "colab": {
      "provenance": [],
      "collapsed_sections": [
        "hL77L3Uei59o"
      ]
    },
    "kernelspec": {
      "name": "python3",
      "display_name": "Python 3"
    },
    "language_info": {
      "name": "python"
    }
  },
  "cells": [
    {
      "cell_type": "markdown",
      "source": [
        "#Set-Up"
      ],
      "metadata": {
        "id": "hL77L3Uei59o"
      }
    },
    {
      "cell_type": "code",
      "source": [
        "#Copy-and-paste the code below to use as \"set-up\" when your optimization model uses Pyomo and Coin-OR solvers.\n",
        "#for reference, see https://jckantor.github.io/ND-Pyomo-Cookbook/notebooks/01.02-Running-Pyomo-on-Google-Colab.html#installing-pyomo-and-solvers\n",
        "\n",
        "%%capture\n",
        "import sys\n",
        "import os\n",
        "\n",
        "if 'google.colab' in sys.modules:\n",
        "    !pip install idaes-pse --pre\n",
        "    !idaes get-extensions --to ./bin\n",
        "    os.environ['PATH'] += ':bin'\n",
        "\n",
        "from pyomo.environ import *"
      ],
      "metadata": {
        "id": "T3OEUrcJgiSR"
      },
      "execution_count": null,
      "outputs": []
    },
    {
      "cell_type": "markdown",
      "source": [
        "#Simple Model Visual Intuition\n",
        "First, let's investigate a well-behaved minimization problem.\n",
        "\n",
        "Find the minimum of the function $f(x) = x^2 - 2x + 5$"
      ],
      "metadata": {
        "id": "FCGB00H5i9W2"
      }
    },
    {
      "cell_type": "code",
      "source": [
        "def my_function(x):\n",
        "  y = x**2 - 2*x + 5\n",
        "  return y"
      ],
      "metadata": {
        "id": "lv_QaM0Vr8Yy"
      },
      "execution_count": null,
      "outputs": []
    },
    {
      "cell_type": "code",
      "source": [
        "import numpy as np\n",
        "import matplotlib.pyplot as plt\n",
        "\n",
        "x = np.linspace(-10, 10, 1000)\n",
        "\n",
        "y = [my_function(x[i]) for i in range(1000)]\n",
        "\n",
        "plt.plot(x,y)"
      ],
      "metadata": {
        "id": "wxfNXW0lsGbk",
        "colab": {
          "base_uri": "https://localhost:8080/",
          "height": 447
        },
        "outputId": "9eb0f1d7-8120-4be0-c0da-21f127288349",
        "collapsed": true
      },
      "execution_count": null,
      "outputs": [
        {
          "output_type": "execute_result",
          "data": {
            "text/plain": [
              "[<matplotlib.lines.Line2D at 0x7a289accdeb0>]"
            ]
          },
          "metadata": {},
          "execution_count": 3
        },
        {
          "output_type": "display_data",
          "data": {
            "text/plain": [
              "<Figure size 640x480 with 1 Axes>"
            ],
            "image/png": "[encoded data removed]"
          },
          "metadata": {}
        }
      ]
    },
    {
      "cell_type": "markdown",
      "source": [
        "#Solve with Pyomo"
      ],
      "metadata": {
        "id": "6tt6iWAAvsrB"
      }
    },
    {
      "cell_type": "code",
      "source": [
        "#initialize a \"Concrete Model\"\n",
        "model = ConcreteModel()"
      ],
      "metadata": {
        "id": "6XZJQHUNwPa8"
      },
      "execution_count": null,
      "outputs": []
    },
    {
      "cell_type": "code",
      "source": [
        "#initialize your DVs\n",
        "model.x = Var(domain = Reals) #you can google \"pyomo domain sets\" for a list of several domains"
      ],
      "metadata": {
        "id": "mz2htaYhwP1s"
      },
      "execution_count": null,
      "outputs": []
    },
    {
      "cell_type": "code",
      "source": [
        "#define the objective function\n",
        "model.obj = Objective(expr = model.x**2 - 2*model.x + 5, sense = minimize)"
      ],
      "metadata": {
        "id": "jPiijH1swQ-V"
      },
      "execution_count": null,
      "outputs": []
    },
    {
      "cell_type": "code",
      "source": [
        "#solve the model\n",
        "opt = SolverFactory('ipopt') #ipopt is similar to GRGNonlinear in Excel\n",
        "results = opt.solve(model, tee = False) #setting tee = False will hide the diagnostic output"
      ],
      "metadata": {
        "id": "Y_nfkBXJt9d7",
        "collapsed": true
      },
      "execution_count": null,
      "outputs": []
    },
    {
      "cell_type": "code",
      "source": [
        "#print the solution\n",
        "print(\"optimal x* = \", value(model.x))\n",
        "print(\"optimal obj* = \", value(model.obj))"
      ],
      "metadata": {
        "colab": {
          "base_uri": "https://localhost:8080/"
        },
        "id": "NufAFaY3uf2M",
        "outputId": "1e63b595-8417-4d8a-a80a-35be2138890a",
        "collapsed": true
      },
      "execution_count": null,
      "outputs": [
        {
          "output_type": "stream",
          "name": "stdout",
          "text": [
            "optimal x* =  1.0\n",
            "optimal obj* =  4.0\n"
          ]
        }
      ]
    },
    {
      "cell_type": "markdown",
      "source": [
        "#Solving with Objective as a Function\n"
      ],
      "metadata": {
        "id": "TgCFj5DiyKN4"
      }
    },
    {
      "cell_type": "code",
      "source": [
        "def my_function(x):\n",
        "  y = x**2 - 2*x + 5\n",
        "  return y"
      ],
      "metadata": {
        "id": "XLSiz51cvUm8"
      },
      "execution_count": null,
      "outputs": []
    },
    {
      "cell_type": "code",
      "source": [
        "#initialize new model\n",
        "model2 = ConcreteModel()\n",
        "\n",
        "#declare DVs\n",
        "model2.x = Var(domain = Reals)\n",
        "\n",
        "#define objective\n",
        "model2.obj = Objective(expr = my_function(model2.x), sense = minimize)\n",
        "\n",
        "model2.pprint()"
      ],
      "metadata": {
        "id": "Z5lTLXHmvdj-",
        "colab": {
          "base_uri": "https://localhost:8080/"
        },
        "outputId": "62ca2880-62cc-4461-a4ef-2fbc2e1117d1",
        "collapsed": true
      },
      "execution_count": null,
      "outputs": [
        {
          "output_type": "stream",
          "name": "stdout",
          "text": [
            "1 Var Declarations\n",
            "    x : Size=1, Index=None\n",
            "        Key  : Lower : Value : Upper : Fixed : Stale : Domain\n",
            "        None :  None :  None :  None : False :  True :  Reals\n",
            "\n",
            "1 Objective Declarations\n",
            "    obj : Size=1, Index=None, Active=True\n",
            "        Key  : Active : Sense    : Expression\n",
            "        None :   True : minimize : x**2 - 2*x + 5\n",
            "\n",
            "2 Declarations: x obj\n"
          ]
        }
      ]
    },
    {
      "cell_type": "code",
      "source": [
        "#solve model2\n",
        "opt = SolverFactory('ipopt') #ipopt is similar to GRGNonlinear in Excel\n",
        "results = opt.solve(model2, tee = True) #setting tee = False will hide the diagnostic output"
      ],
      "metadata": {
        "id": "rEL5l8b6v_QS",
        "colab": {
          "base_uri": "https://localhost:8080/"
        },
        "outputId": "df01b541-3a11-43bf-8207-c0de52d597e8",
        "collapsed": true
      },
      "execution_count": null,
      "outputs": [
        {
          "output_type": "stream",
          "name": "stdout",
          "text": [
            "Ipopt 3.13.2: \n",
            "\n",
            "******************************************************************************\n",
            "This program contains Ipopt, a library for large-scale nonlinear optimization.\n",
            " Ipopt is released as open source code under the Eclipse Public License (EPL).\n",
            "         For more information visit http://projects.coin-or.org/Ipopt\n",
            "\n",
            "This version of Ipopt was compiled from source code available at\n",
            "    https://github.com/IDAES/Ipopt as part of the Institute for the Design of\n",
            "    Advanced Energy Systems Process Systems Engineering Framework (IDAES PSE\n",
            "    Framework) Copyright (c) 2018-2019. See https://github.com/IDAES/idaes-pse.\n",
            "\n",
            "This version of Ipopt was compiled using HSL, a collection of Fortran codes\n",
            "    for large-scale scientific computation.  All technical papers, sales and\n",
            "    publicity material resulting from use of the HSL codes within IPOPT must\n",
            "    contain the following acknowledgement:\n",
            "        HSL, a collection of Fortran codes for large-scale scientific\n",
            "        computation. See http://www.hsl.rl.ac.uk.\n",
            "******************************************************************************\n",
            "\n",
            "This is Ipopt version 3.13.2, running with linear solver ma27.\n",
            "\n",
            "Number of nonzeros in equality constraint Jacobian...:        0\n",
            "Number of nonzeros in inequality constraint Jacobian.:        0\n",
            "Number of nonzeros in Lagrangian Hessian.............:        1\n",
            "\n",
            "Total number of variables............................:        1\n",
            "                     variables with only lower bounds:        0\n",
            "                variables with lower and upper bounds:        0\n",
            "                     variables with only upper bounds:        0\n",
            "Total number of equality constraints.................:        0\n",
            "Total number of inequality constraints...............:        0\n",
            "        inequality constraints with only lower bounds:        0\n",
            "   inequality constraints with lower and upper bounds:        0\n",
            "        inequality constraints with only upper bounds:        0\n",
            "\n",
            "iter    objective    inf_pr   inf_du lg(mu)  ||d||  lg(rg) alpha_du alpha_pr  ls\n",
            "   0  5.0000000e+00 0.00e+00 2.00e+00  -1.0 0.00e+00    -  0.00e+00 0.00e+00   0\n",
            "   1  4.0000000e+00 0.00e+00 0.00e+00  -1.0 1.00e+00    -  1.00e+00 1.00e+00f  1\n",
            "\n",
            "Number of Iterations....: 1\n",
            "\n",
            "                                   (scaled)                 (unscaled)\n",
            "Objective...............:   4.0000000000000000e+00    4.0000000000000000e+00\n",
            "Dual infeasibility......:   0.0000000000000000e+00    0.0000000000000000e+00\n",
            "Constraint violation....:   0.0000000000000000e+00    0.0000000000000000e+00\n",
            "Complementarity.........:   0.0000000000000000e+00    0.0000000000000000e+00\n",
            "Overall NLP error.......:   0.0000000000000000e+00    0.0000000000000000e+00\n",
            "\n",
            "\n",
            "Number of objective function evaluations             = 2\n",
            "Number of objective gradient evaluations             = 2\n",
            "Number of equality constraint evaluations            = 0\n",
            "Number of inequality constraint evaluations          = 0\n",
            "Number of equality constraint Jacobian evaluations   = 0\n",
            "Number of inequality constraint Jacobian evaluations = 0\n",
            "Number of Lagrangian Hessian evaluations             = 1\n",
            "Total CPU secs in IPOPT (w/o function evaluations)   =      0.000\n",
            "Total CPU secs in NLP function evaluations           =      0.000\n",
            "\n",
            "EXIT: Optimal Solution Found.\n",
            "\b\b\b\b\b\b\b\b\b\b\b\b\b\b"
          ]
        }
      ]
    },
    {
      "cell_type": "code",
      "source": [
        "#print the solution\n",
        "print(\"optimal x* = \", value(model2.x))\n",
        "print(\"optimal obj* = \", value(model2.obj))"
      ],
      "metadata": {
        "colab": {
          "base_uri": "https://localhost:8080/"
        },
        "id": "lk4NWebPwFBC",
        "outputId": "8e13f09f-5875-4886-85d8-fffd74d8f0cc",
        "collapsed": true
      },
      "execution_count": null,
      "outputs": [
        {
          "output_type": "stream",
          "name": "stdout",
          "text": [
            "optimal x* =  1.0\n",
            "optimal obj* =  4.0\n"
          ]
        }
      ]
    }
  ]
}