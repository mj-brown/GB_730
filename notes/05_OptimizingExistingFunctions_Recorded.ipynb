{
  "nbformat": 4,
  "nbformat_minor": 0,
  "metadata": {
    "colab": {
      "provenance": [],
      "collapsed_sections": [
        "hL77L3Uei59o",
        "FCGB00H5i9W2",
        "TgCFj5DiyKN4",
        "rmvUM4g8P1kl",
        "A8gzMJrpGX6y",
        "UTp7i-5iSgHA"
      ]
    },
    "kernelspec": {
      "name": "python3",
      "display_name": "Python 3"
    },
    "language_info": {
      "name": "python"
    }
  },
  "cells": [
    {
      "cell_type": "markdown",
      "source": [
        "#Set-Up"
      ],
      "metadata": {
        "id": "hL77L3Uei59o"
      }
    },
    {
      "cell_type": "code",
      "source": [
        "#Copy-and-paste the code below to use as \"set-up\" when your optimization model uses Pyomo and Coin-OR solvers.\n",
        "#for reference, see https://jckantor.github.io/ND-Pyomo-Cookbook/notebooks/01.02-Running-Pyomo-on-Google-Colab.html#installing-pyomo-and-solvers\n",
        "\n",
        "%%capture\n",
        "import sys\n",
        "import os\n",
        "\n",
        "if 'google.colab' in sys.modules:\n",
        "    !pip install idaes-pse --pre\n",
        "    !idaes get-extensions --to ./bin\n",
        "    os.environ['PATH'] += ':bin'\n",
        "\n",
        "from pyomo.environ import *"
      ],
      "metadata": {
        "id": "T3OEUrcJgiSR"
      },
      "execution_count": null,
      "outputs": []
    },
    {
      "cell_type": "markdown",
      "source": [
        "#Review: A Simple Optimization Problem\n",
        "minimize f(x) = 4x^4 - 3x^3 - 9x + 20"
      ],
      "metadata": {
        "id": "FCGB00H5i9W2"
      }
    },
    {
      "cell_type": "code",
      "source": [
        "#initialize a \"Concrete Model\"\n",
        "model = ConcreteModel()\n",
        "\n",
        "#initialize DVs\n",
        "model.x = Var(domain = Reals) #You can google \"pyomo domain sets\" to see several domain examples\n",
        "\n",
        "#define the objective\n",
        "model.Objective = Objective(expr = 4*model.x**4 - 3*model.x**3 - 9*model.x + 20, sense = minimize)\n",
        "\n",
        "#(Optional) You can use model.pprint() to see what you've done so far\n",
        "model.pprint()"
      ],
      "metadata": {
        "id": "ClfOoQsLvr50",
        "colab": {
          "base_uri": "https://localhost:8080/"
        },
        "outputId": "7e702441-b770-40ed-9a94-796e45520bd0"
      },
      "execution_count": null,
      "outputs": [
        {
          "output_type": "stream",
          "name": "stdout",
          "text": [
            "1 Var Declarations\n",
            "    x : Size=1, Index=None\n",
            "        Key  : Lower : Value : Upper : Fixed : Stale : Domain\n",
            "        None :  None :  None :  None : False :  True :  Reals\n",
            "\n",
            "1 Objective Declarations\n",
            "    Objective : Size=1, Index=None, Active=True\n",
            "        Key  : Active : Sense    : Expression\n",
            "        None :   True : minimize : 4*x**4 - 3*x**3 - 9*x + 20\n",
            "\n",
            "2 Declarations: x Objective\n"
          ]
        }
      ]
    },
    {
      "cell_type": "code",
      "source": [
        "#solve model\n",
        "opt = SolverFactory('ipopt')\n",
        "\n",
        "results = opt.solve(model, tee = True) #setting tee = False hides the diagnostic outputs"
      ],
      "metadata": {
        "id": "zec5TD0Lw3ap",
        "colab": {
          "base_uri": "https://localhost:8080/"
        },
        "outputId": "2fce5d78-fb62-452c-abe9-36a977cf681f"
      },
      "execution_count": null,
      "outputs": [
        {
          "output_type": "stream",
          "name": "stdout",
          "text": [
            "Ipopt 3.13.2: \n",
            "\n",
            "******************************************************************************\n",
            "This program contains Ipopt, a library for large-scale nonlinear optimization.\n",
            " Ipopt is released as open source code under the Eclipse Public License (EPL).\n",
            "         For more information visit http://projects.coin-or.org/Ipopt\n",
            "\n",
            "This version of Ipopt was compiled from source code available at\n",
            "    https://github.com/IDAES/Ipopt as part of the Institute for the Design of\n",
            "    Advanced Energy Systems Process Systems Engineering Framework (IDAES PSE\n",
            "    Framework) Copyright (c) 2018-2019. See https://github.com/IDAES/idaes-pse.\n",
            "\n",
            "This version of Ipopt was compiled using HSL, a collection of Fortran codes\n",
            "    for large-scale scientific computation.  All technical papers, sales and\n",
            "    publicity material resulting from use of the HSL codes within IPOPT must\n",
            "    contain the following acknowledgement:\n",
            "        HSL, a collection of Fortran codes for large-scale scientific\n",
            "        computation. See http://www.hsl.rl.ac.uk.\n",
            "******************************************************************************\n",
            "\n",
            "This is Ipopt version 3.13.2, running with linear solver ma27.\n",
            "\n",
            "Number of nonzeros in equality constraint Jacobian...:        0\n",
            "Number of nonzeros in inequality constraint Jacobian.:        0\n",
            "Number of nonzeros in Lagrangian Hessian.............:        1\n",
            "\n",
            "Total number of variables............................:        1\n",
            "                     variables with only lower bounds:        0\n",
            "                variables with lower and upper bounds:        0\n",
            "                     variables with only upper bounds:        0\n",
            "Total number of equality constraints.................:        0\n",
            "Total number of inequality constraints...............:        0\n",
            "        inequality constraints with only lower bounds:        0\n",
            "   inequality constraints with lower and upper bounds:        0\n",
            "        inequality constraints with only upper bounds:        0\n",
            "\n",
            "iter    objective    inf_pr   inf_du lg(mu)  ||d||  lg(rg) alpha_du alpha_pr  ls\n",
            "   0  2.0000000e+01 0.00e+00 9.00e+00  -1.0 0.00e+00    -  0.00e+00 0.00e+00   0\n",
            "   1  1.4097497e+01 0.00e+00 1.55e+01  -1.0 9.00e+04  -4.0 1.00e+00 1.53e-05f 17\n",
            "   2  1.2046073e+01 0.00e+00 2.94e+00  -1.0 2.35e-01    -  1.00e+00 1.00e+00f  1\n",
            "   3  1.1937503e+01 0.00e+00 2.21e-01  -1.0 7.04e-02    -  1.00e+00 1.00e+00f  1\n",
            "   4  1.1936815e+01 0.00e+00 1.63e-03  -1.7 6.21e-03    -  1.00e+00 1.00e+00f  1\n",
            "   5  1.1936815e+01 0.00e+00 9.07e-08  -3.8 4.65e-05    -  1.00e+00 1.00e+00f  1\n",
            "   6  1.1936815e+01 0.00e+00 3.55e-15  -8.6 2.59e-09    -  1.00e+00 1.00e+00f  1\n",
            "\n",
            "Number of Iterations....: 6\n",
            "\n",
            "                                   (scaled)                 (unscaled)\n",
            "Objective...............:   1.1936814677331192e+01    1.1936814677331192e+01\n",
            "Dual infeasibility......:   3.5527136788005009e-15    3.5527136788005009e-15\n",
            "Constraint violation....:   0.0000000000000000e+00    0.0000000000000000e+00\n",
            "Complementarity.........:   0.0000000000000000e+00    0.0000000000000000e+00\n",
            "Overall NLP error.......:   3.5527136788005009e-15    3.5527136788005009e-15\n",
            "\n",
            "\n",
            "Number of objective function evaluations             = 27\n",
            "Number of objective gradient evaluations             = 7\n",
            "Number of equality constraint evaluations            = 0\n",
            "Number of inequality constraint evaluations          = 0\n",
            "Number of equality constraint Jacobian evaluations   = 0\n",
            "Number of inequality constraint Jacobian evaluations = 0\n",
            "Number of Lagrangian Hessian evaluations             = 6\n",
            "Total CPU secs in IPOPT (w/o function evaluations)   =      0.005\n",
            "Total CPU secs in NLP function evaluations           =      0.000\n",
            "\n",
            "EXIT: Optimal Solution Found.\n",
            "\b\b\b\b\b\b\b\b\b\b\b\b\b\b"
          ]
        }
      ]
    },
    {
      "cell_type": "code",
      "source": [
        "#print relevant values\n",
        "print(\"x* = \", model.x()) #alternatively you can use value(model.x)\n",
        "print(\"obj* = \", model.Objective()) #alternatively you can use value(model.Objective)"
      ],
      "metadata": {
        "id": "9k8bPtPVxgMw",
        "colab": {
          "base_uri": "https://localhost:8080/"
        },
        "outputId": "1e64647c-dcc0-463d-b3a2-6c0557f69044"
      },
      "execution_count": null,
      "outputs": [
        {
          "output_type": "stream",
          "name": "stdout",
          "text": [
            "x* =  1.0616077811644107\n",
            "obj* =  11.936814677331192\n"
          ]
        }
      ]
    },
    {
      "cell_type": "markdown",
      "source": [
        "##Repeating with Objective as a Function\n"
      ],
      "metadata": {
        "id": "TgCFj5DiyKN4"
      }
    },
    {
      "cell_type": "code",
      "source": [
        "#define the objective function\n",
        "def obj_function(x):\n",
        "  output = 4*x**4 - 3*x**3 - 9*x + 20\n",
        "  return output"
      ],
      "metadata": {
        "id": "O20nA4mbyYKI"
      },
      "execution_count": null,
      "outputs": []
    },
    {
      "cell_type": "code",
      "source": [
        "#initialize a \"Concrete Model\"\n",
        "model2 = ConcreteModel()\n",
        "\n",
        "#initialize DVs\n",
        "model2.x = Var(domain = Reals) #You can google \"pyomo domain sets\" to see several domain examples\n",
        "\n",
        "#define the objective\n",
        "model2.Objective = Objective(expr = obj_function(model2.x), sense = minimize)\n",
        "\n",
        "#(Optional) You can use model.pprint() to see what you've done so far\n",
        "model2.pprint()"
      ],
      "metadata": {
        "colab": {
          "base_uri": "https://localhost:8080/"
        },
        "id": "eq06SRjct4sF",
        "outputId": "9482037c-fe5d-40a1-fb4e-3bbabda5433b"
      },
      "execution_count": null,
      "outputs": [
        {
          "output_type": "stream",
          "name": "stdout",
          "text": [
            "1 Var Declarations\n",
            "    x : Size=1, Index=None\n",
            "        Key  : Lower : Value : Upper : Fixed : Stale : Domain\n",
            "        None :  None :  None :  None : False :  True :  Reals\n",
            "\n",
            "1 Objective Declarations\n",
            "    Objective : Size=1, Index=None, Active=True\n",
            "        Key  : Active : Sense    : Expression\n",
            "        None :   True : minimize : 4*x**4 - 3*x**3 - 9*x + 20\n",
            "\n",
            "2 Declarations: x Objective\n"
          ]
        }
      ]
    },
    {
      "cell_type": "code",
      "source": [
        "#solve model & print relevant values\n",
        "opt = SolverFactory('ipopt')\n",
        "\n",
        "results = opt.solve(model2, tee = False) #setting tee = False hides the diagnostic outputs\n",
        "\n",
        "#print relevant values\n",
        "print(\"x* = \", model2.x()) #alternatively you can use value(model.x)\n",
        "print(\"obj* = \", model2.Objective()) #alternatively you can use value(model.Objective)"
      ],
      "metadata": {
        "id": "XAZCzUzfF517",
        "colab": {
          "base_uri": "https://localhost:8080/"
        },
        "outputId": "c1035277-e253-4cfd-8794-dbce04cf2ca7"
      },
      "execution_count": null,
      "outputs": [
        {
          "output_type": "stream",
          "name": "stdout",
          "text": [
            "x* =  1.0616077811644107\n",
            "obj* =  11.936814677331192\n"
          ]
        }
      ]
    },
    {
      "cell_type": "markdown",
      "source": [
        "#Demo: Optimizing Existing Models (Adbudget)\n",
        "We created the below model in the previous module. Use ipopt in Pyomo to find the optimal price."
      ],
      "metadata": {
        "id": "rmvUM4g8P1kl"
      }
    },
    {
      "cell_type": "code",
      "source": [
        "def ad_profit(unit_cost = 25,\n",
        "              sales_price = 40,\n",
        "              seasonality_factor = [.9, 1.1, .8, 1.2],\n",
        "              salesforce_cost = [8000, 8000, 9000, 9000],\n",
        "              overhead_rate = .15,\n",
        "              k = 35,\n",
        "              b = 3000,\n",
        "              ad_spend = [10000, 10000, 10000, 10000],\n",
        "              num_quarters = 4):\n",
        "  #Gross profit calculations\n",
        "  sales_quantity = [k*seasonality_factor[i]*((b + ad_spend[i])**.5) for i in range(num_quarters)]\n",
        "  cogs = [unit_cost*sales_quantity[i] for i in range(num_quarters)]\n",
        "  sales_rev = [sales_price*sales_quantity[i] for i in range(num_quarters)]\n",
        "  gross_profit = [sales_rev[i] - cogs[i] for i in range(num_quarters)]\n",
        "  total_gross_profit = sum(gross_profit)\n",
        "  #operating expense calculation\n",
        "  overhead = [overhead_rate*sales_rev[i] for i in range(num_quarters)]\n",
        "  operating_expenses = [overhead[i] + salesforce_cost[i] + ad_spend[i] for i in range(num_quarters)]\n",
        "  total_operating_expenses = sum(operating_expenses)\n",
        "  #operating profit\n",
        "  operating_profit = total_gross_profit - total_operating_expenses\n",
        "  return operating_profit"
      ],
      "metadata": {
        "id": "6z9aeS8iQxBc"
      },
      "execution_count": null,
      "outputs": []
    },
    {
      "cell_type": "code",
      "source": [
        "#initialize a concrete model\n",
        "ad_model = ConcreteModel()\n",
        "\n",
        "#initialize DVs\n",
        "ad_model.ad_spend_dv = Var(range(4), domain=NonNegativeReals)\n",
        "\n",
        "#define the objective\n",
        "ad_model.obj = Objective(expr = ad_profit(ad_spend = ad_model.ad_spend_dv), sense = maximize)\n",
        "\n",
        "#model pprint\n",
        "ad_model.pprint()"
      ],
      "metadata": {
        "id": "MlpVfW9HQ1ZC",
        "colab": {
          "base_uri": "https://localhost:8080/"
        },
        "outputId": "fbbfe58b-57e7-4acc-d642-171cecf9f562"
      },
      "execution_count": null,
      "outputs": [
        {
          "output_type": "stream",
          "name": "stdout",
          "text": [
            "1 Var Declarations\n",
            "    ad_spend_dv : Size=4, Index={0, 1, 2, 3}\n",
            "        Key : Lower : Value : Upper : Fixed : Stale : Domain\n",
            "          0 :     0 :  None :  None : False :  True : NonNegativeReals\n",
            "          1 :     0 :  None :  None : False :  True : NonNegativeReals\n",
            "          2 :     0 :  None :  None : False :  True : NonNegativeReals\n",
            "          3 :     0 :  None :  None : False :  True : NonNegativeReals\n",
            "\n",
            "1 Objective Declarations\n",
            "    obj : Size=1, Index=None, Active=True\n",
            "        Key  : Active : Sense    : Expression\n",
            "        None :   True : maximize : 40*(31.5*(3000 + ad_spend_dv[0])**0.5) - 25*(31.5*(3000 + ad_spend_dv[0])**0.5) + 40*(38.5*(3000 + ad_spend_dv[1])**0.5) - 25*(38.5*(3000 + ad_spend_dv[1])**0.5) + 40*(28.0*(3000 + ad_spend_dv[2])**0.5) - 25*(28.0*(3000 + ad_spend_dv[2])**0.5) + 40*(42.0*(3000 + ad_spend_dv[3])**0.5) - 25*(42.0*(3000 + ad_spend_dv[3])**0.5) - (0.15*(40*(31.5*(3000 + ad_spend_dv[0])**0.5)) + 8000 + ad_spend_dv[0] + 0.15*(40*(38.5*(3000 + ad_spend_dv[1])**0.5)) + 8000 + ad_spend_dv[1] + 0.15*(40*(28.0*(3000 + ad_spend_dv[2])**0.5)) + 9000 + ad_spend_dv[2] + 0.15*(40*(42.0*(3000 + ad_spend_dv[3])**0.5)) + 9000 + ad_spend_dv[3])\n",
            "\n",
            "2 Declarations: ad_spend_dv obj\n"
          ]
        }
      ]
    },
    {
      "cell_type": "code",
      "source": [
        "#solve model\n",
        "opt = SolverFactory('ipopt')\n",
        "\n",
        "results = opt.solve(ad_model, tee = True) #setting tee = False hides the diagnostic outputs"
      ],
      "metadata": {
        "id": "IVZ4ZXubRTsm",
        "colab": {
          "base_uri": "https://localhost:8080/"
        },
        "collapsed": true,
        "outputId": "61174a48-de28-4204-bd32-1311359faf09"
      },
      "execution_count": null,
      "outputs": [
        {
          "output_type": "stream",
          "name": "stdout",
          "text": [
            "Ipopt 3.13.2: \n",
            "\n",
            "******************************************************************************\n",
            "This program contains Ipopt, a library for large-scale nonlinear optimization.\n",
            " Ipopt is released as open source code under the Eclipse Public License (EPL).\n",
            "         For more information visit http://projects.coin-or.org/Ipopt\n",
            "\n",
            "This version of Ipopt was compiled from source code available at\n",
            "    https://github.com/IDAES/Ipopt as part of the Institute for the Design of\n",
            "    Advanced Energy Systems Process Systems Engineering Framework (IDAES PSE\n",
            "    Framework) Copyright (c) 2018-2019. See https://github.com/IDAES/idaes-pse.\n",
            "\n",
            "This version of Ipopt was compiled using HSL, a collection of Fortran codes\n",
            "    for large-scale scientific computation.  All technical papers, sales and\n",
            "    publicity material resulting from use of the HSL codes within IPOPT must\n",
            "    contain the following acknowledgement:\n",
            "        HSL, a collection of Fortran codes for large-scale scientific\n",
            "        computation. See http://www.hsl.rl.ac.uk.\n",
            "******************************************************************************\n",
            "\n",
            "This is Ipopt version 3.13.2, running with linear solver ma27.\n",
            "\n",
            "Number of nonzeros in equality constraint Jacobian...:        0\n",
            "Number of nonzeros in inequality constraint Jacobian.:        0\n",
            "Number of nonzeros in Lagrangian Hessian.............:        4\n",
            "\n",
            "Total number of variables............................:        4\n",
            "                     variables with only lower bounds:        4\n",
            "                variables with lower and upper bounds:        0\n",
            "                     variables with only upper bounds:        0\n",
            "Total number of equality constraints.................:        0\n",
            "Total number of inequality constraints...............:        0\n",
            "        inequality constraints with only lower bounds:        0\n",
            "   inequality constraints with lower and upper bounds:        0\n",
            "        inequality constraints with only upper bounds:        0\n",
            "\n",
            "iter    objective    inf_pr   inf_du lg(mu)  ||d||  lg(rg) alpha_du alpha_pr  ls\n",
            "   0 -3.5013117e+04 0.00e+00 3.45e+00  -1.0 0.00e+00    -  0.00e+00 0.00e+00   0\n",
            "   1 -3.5014016e+04 0.00e+00 2.46e+00  -1.0 1.25e-01    -  2.87e-01 1.00e+00f  1\n",
            "   2 -3.5129798e+04 0.00e+00 2.43e+00  -1.0 4.26e+01    -  4.06e-03 1.00e+00f  1\n",
            "   3 -4.2616277e+04 0.00e+00 2.16e+00  -1.0 4.30e+03    -  1.27e-02 1.00e+00f  1\n",
            "   4 -5.2823770e+04 0.00e+00 1.69e+00  -1.0 8.02e+03    -  5.02e-02 1.00e+00f  1\n",
            "   5 -6.3166041e+04 0.00e+00 1.33e+00  -1.0 1.06e+04    -  9.74e-02 1.00e+00f  1\n",
            "   6 -7.2495727e+04 0.00e+00 8.81e-01  -1.0 8.74e+03    -  1.02e-01 1.00e+00f  1\n",
            "   7 -7.8011955e+04 0.00e+00 3.52e-01  -1.0 7.31e+03    -  2.65e-01 1.00e+00f  1\n",
            "   8 -7.9553993e+04 0.00e+00 9.65e-02  -1.0 4.64e+03    -  7.17e-01 1.00e+00f  1\n",
            "   9 -7.9703622e+04 0.00e+00 1.11e-02  -1.7 2.32e+03    -  9.58e-01 1.00e+00f  1\n",
            "iter    objective    inf_pr   inf_du lg(mu)  ||d||  lg(rg) alpha_du alpha_pr  ls\n",
            "  10 -7.9705624e+04 0.00e+00 1.80e-04  -2.5 3.41e+02    -  1.00e+00 1.00e+00f  1\n",
            "  11 -7.9705625e+04 0.00e+00 4.99e-08  -3.8 5.70e+00    -  1.00e+00 1.00e+00f  1\n",
            "  12 -7.9705625e+04 0.00e+00 1.85e-11  -5.7 1.22e-03    -  1.00e+00 1.00e+00f  1\n",
            "  13 -7.9705625e+04 0.00e+00 2.53e-14  -8.6 3.96e-06    -  1.00e+00 1.00e+00f  1\n",
            "\n",
            "Number of Iterations....: 13\n",
            "\n",
            "                                   (scaled)                 (unscaled)\n",
            "Objective...............:  -7.9705625000000058e+04   -7.9705625000000058e+04\n",
            "Dual infeasibility......:   2.5256191186862792e-14    2.5256191186862792e-14\n",
            "Constraint violation....:   0.0000000000000000e+00    0.0000000000000000e+00\n",
            "Complementarity.........:   2.5059041260543590e-09    2.5059041260543590e-09\n",
            "Overall NLP error.......:   2.5059041260543590e-09    2.5059041260543590e-09\n",
            "\n",
            "\n",
            "Number of objective function evaluations             = 14\n",
            "Number of objective gradient evaluations             = 14\n",
            "Number of equality constraint evaluations            = 0\n",
            "Number of inequality constraint evaluations          = 0\n",
            "Number of equality constraint Jacobian evaluations   = 0\n",
            "Number of inequality constraint Jacobian evaluations = 0\n",
            "Number of Lagrangian Hessian evaluations             = 13\n",
            "Total CPU secs in IPOPT (w/o function evaluations)   =      0.005\n",
            "Total CPU secs in NLP function evaluations           =      0.000\n",
            "\n",
            "EXIT: Optimal Solution Found.\n",
            "\b\b\b\b\b\b\b\b\b\b\b\b\b\b"
          ]
        }
      ]
    },
    {
      "cell_type": "code",
      "source": [
        "#print relevant values\n",
        "print(f\"Optimal operating profit is {ad_model.obj()}\")\n",
        "print(f\"Optimal ad_spend in Q1 is {ad_model.ad_spend_dv[0]()}\")\n",
        "print(f\"Optimal ad_spend in Q2 is {ad_model.ad_spend_dv[1]()}\")\n",
        "print(f\"Optimal ad_spend in Q3 is {ad_model.ad_spend_dv[2]()}\")\n",
        "print(f\"Optimal ad_spend in Q4 is {ad_model.ad_spend_dv[3]()}\")\n"
      ],
      "metadata": {
        "id": "8UkhPGPWRX7p",
        "colab": {
          "base_uri": "https://localhost:8080/"
        },
        "outputId": "8d913516-4ca9-47b4-8b3f-9003d03eabe6"
      },
      "execution_count": null,
      "outputs": [
        {
          "output_type": "stream",
          "name": "stdout",
          "text": [
            "Optimal operating profit is 79705.62500000003\n",
            "Optimal ad_spend in Q1 is 17093.06250000487\n",
            "Optimal ad_spend in Q2 is 27015.562500004056\n",
            "Optimal ad_spend in Q3 is 12876.00000000539\n",
            "Optimal ad_spend in Q4 is 32721.00000000369\n"
          ]
        }
      ]
    }
  ]
}