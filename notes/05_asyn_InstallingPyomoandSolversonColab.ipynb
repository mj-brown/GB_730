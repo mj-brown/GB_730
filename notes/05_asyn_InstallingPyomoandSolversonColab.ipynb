{
  "cells": [
    {
      "cell_type": "markdown",
      "metadata": {
        "id": "mCiyV79btUPu"
      },
      "source": [
        "#Copy-and-Paste Set-up Code for Pyomo w/ Solvers\n"
      ]
    },
    {
      "cell_type": "code",
      "execution_count": null,
      "metadata": {
        "id": "Q81gD3GOtgJD"
      },
      "outputs": [
        {
          "name": "stdout",
          "output_type": "stream",
          "text": [
            "Defaulting to user installation because normal site-packages is not writeable\n",
            "Requirement already satisfied: idaes-pse in c:\\users\\brown\\appdata\\roaming\\python\\python313\\site-packages (2.8.0)\n",
            "Requirement already satisfied: pyomo>=6.9.1 in c:\\users\\brown\\appdata\\roaming\\python\\python313\\site-packages (from idaes-pse) (6.9.4)\n",
            "Requirement already satisfied: pint>=0.24.1 in c:\\users\\brown\\appdata\\roaming\\python\\python313\\site-packages (from idaes-pse) (0.25)\n",
            "Requirement already satisfied: networkx in c:\\users\\brown\\appdata\\roaming\\python\\python313\\site-packages (from idaes-pse) (3.5)\n",
            "Requirement already satisfied: numpy<3,>=1 in c:\\users\\brown\\appdata\\roaming\\python\\python313\\site-packages (from idaes-pse) (2.3.2)\n",
            "Requirement already satisfied: pandas!=2.1.0,<3 in c:\\users\\brown\\appdata\\roaming\\python\\python313\\site-packages (from idaes-pse) (2.3.1)\n",
            "Requirement already satisfied: scipy in c:\\users\\brown\\appdata\\roaming\\python\\python313\\site-packages (from idaes-pse) (1.16.1)\n",
            "Requirement already satisfied: sympy in c:\\users\\brown\\appdata\\roaming\\python\\python313\\site-packages (from idaes-pse) (1.14.0)\n",
            "Requirement already satisfied: matplotlib in c:\\users\\brown\\appdata\\roaming\\python\\python313\\site-packages (from idaes-pse) (3.10.5)\n",
            "Requirement already satisfied: click>=8 in c:\\users\\brown\\appdata\\roaming\\python\\python313\\site-packages (from idaes-pse) (8.3.0)\n",
            "Requirement already satisfied: python-dateutil>=2.8.2 in c:\\users\\brown\\appdata\\roaming\\python\\python313\\site-packages (from pandas!=2.1.0,<3->idaes-pse) (2.9.0.post0)\n",
            "Requirement already satisfied: pytz>=2020.1 in c:\\users\\brown\\appdata\\roaming\\python\\python313\\site-packages (from pandas!=2.1.0,<3->idaes-pse) (2025.2)\n",
            "Requirement already satisfied: tzdata>=2022.7 in c:\\users\\brown\\appdata\\roaming\\python\\python313\\site-packages (from pandas!=2.1.0,<3->idaes-pse) (2025.2)\n",
            "Requirement already satisfied: colorama in c:\\users\\brown\\appdata\\roaming\\python\\python313\\site-packages (from click>=8->idaes-pse) (0.4.6)\n",
            "Requirement already satisfied: flexcache>=0.3 in c:\\users\\brown\\appdata\\roaming\\python\\python313\\site-packages (from pint>=0.24.1->idaes-pse) (0.3)\n",
            "Requirement already satisfied: flexparser>=0.4 in c:\\users\\brown\\appdata\\roaming\\python\\python313\\site-packages (from pint>=0.24.1->idaes-pse) (0.4)\n",
            "Requirement already satisfied: platformdirs>=2.1.0 in c:\\users\\brown\\appdata\\roaming\\python\\python313\\site-packages (from pint>=0.24.1->idaes-pse) (4.3.8)\n",
            "Requirement already satisfied: typing-extensions>=4.0.0 in c:\\users\\brown\\appdata\\roaming\\python\\python313\\site-packages (from pint>=0.24.1->idaes-pse) (4.14.1)\n",
            "Requirement already satisfied: ply in c:\\users\\brown\\appdata\\roaming\\python\\python313\\site-packages (from pyomo>=6.9.1->idaes-pse) (3.11)\n",
            "Requirement already satisfied: six>=1.5 in c:\\users\\brown\\appdata\\roaming\\python\\python313\\site-packages (from python-dateutil>=2.8.2->pandas!=2.1.0,<3->idaes-pse) (1.17.0)\n",
            "Requirement already satisfied: contourpy>=1.0.1 in c:\\users\\brown\\appdata\\roaming\\python\\python313\\site-packages (from matplotlib->idaes-pse) (1.3.3)\n",
            "Requirement already satisfied: cycler>=0.10 in c:\\users\\brown\\appdata\\roaming\\python\\python313\\site-packages (from matplotlib->idaes-pse) (0.12.1)\n",
            "Requirement already satisfied: fonttools>=4.22.0 in c:\\users\\brown\\appdata\\roaming\\python\\python313\\site-packages (from matplotlib->idaes-pse) (4.59.0)\n",
            "Requirement already satisfied: kiwisolver>=1.3.1 in c:\\users\\brown\\appdata\\roaming\\python\\python313\\site-packages (from matplotlib->idaes-pse) (1.4.9)\n",
            "Requirement already satisfied: packaging>=20.0 in c:\\users\\brown\\appdata\\roaming\\python\\python313\\site-packages (from matplotlib->idaes-pse) (25.0)\n",
            "Requirement already satisfied: pillow>=8 in c:\\users\\brown\\appdata\\roaming\\python\\python313\\site-packages (from matplotlib->idaes-pse) (11.3.0)\n",
            "Requirement already satisfied: pyparsing>=2.3.1 in c:\\users\\brown\\appdata\\roaming\\python\\python313\\site-packages (from matplotlib->idaes-pse) (3.2.3)\n",
            "Requirement already satisfied: mpmath<1.4,>=1.1.0 in c:\\users\\brown\\appdata\\roaming\\python\\python313\\site-packages (from sympy->idaes-pse) (1.3.0)\n",
            "Note: you may need to restart the kernel to use updated packages.\n"
          ]
        },
        {
          "name": "stderr",
          "output_type": "stream",
          "text": [
            "C:\\Users\\brown\\AppData\\Roaming\\Python\\Python313\\site-packages\\idaes\\core\\util\\env_info.py:22: UserWarning: pkg_resources is deprecated as an API. See https://setuptools.pypa.io/en/latest/pkg_resources.html. The pkg_resources package is slated for removal as early as 2025-11-30. Refrain from using this package or pin to Setuptools<81.\n",
            "  import pkg_resources\n"
          ]
        },
        {
          "name": "stdout",
          "output_type": "stream",
          "text": [
            "Getting files...\n",
            "Done\n",
            "-----------------------------------------------------------------\n",
            "IDAES Extensions Build Versions\n",
            "=================================================================\n",
            "Solvers:  v3.4.2 20240811 windows-x86_64\n",
            "Library:  v3.4.2 20240811 windows-x86_64\n",
            "\n",
            "=================================================================\n"
          ]
        }
      ],
      "source": [
        "#Copy-and-paste the code below to use as \"set-up\" when your optimization model uses Pyomo and Coin-OR solvers.\n",
        "#for reference, see https://jckantor.github.io/ND-Pyomo-Cookbook/notebooks/01.02-Running-Pyomo-on-Google-Colab.html#installing-pyomo-and-solvers\n",
        "\n",
        "#%%capture\n",
        "import sys\n",
        "import os\n",
        "\n",
        "# If this is being run in VS Code, install the necessary packages\n",
        "%pip install idaes-pse --pre\n",
        "os.environ['PATH'] += ':bin'\n",
        "!idaes get-extensions --to ./bin\n",
        "\n",
        "# If this is being run in Google Colab, install the necessary packages\n",
        "if 'google.colab' in sys.modules:\n",
        "    !pip install idaes-pse --pre\n",
        "    !idaes get-extensions --to ./bin\n",
        "    os.environ['PATH'] += ':bin'\n",
        "\n",
        "from pyomo.environ import *"
      ]
    },
    {
      "cell_type": "markdown",
      "metadata": {
        "id": "GxSxNDFYuq6n",
        "pycharm": {}
      },
      "source": [
        "# Testing and Solving with Different Solvers\n",
        "\n",
        "This notebook contains codes for installing Pyomo and various open-source solvers that we'll leverage, including:\n",
        "\n",
        "* COIN-OR CBC\n",
        "* COIN-OR Ipopt\n",
        "* COIN-OR Bonmin\n",
        "* COIN-OR Couenne\n",
        "\n",
        "It then demonstrates the use of various solvers with an example.\n",
        "\n",
        "You need not memorize or understand the code. Simply copy and paste the relevant pieces when needed."
      ]
    },
    {
      "cell_type": "markdown",
      "metadata": {
        "id": "jJrxAaqcuzFw",
        "pycharm": {}
      },
      "source": [
        "## Testing Pyomo\n",
        "\n",
        "The installation of pyomo can be verified by entering a simple model. This model is used in subsequent cells to demonstrate the installation and operation of the solvers."
      ]
    },
    {
      "cell_type": "code",
      "execution_count": null,
      "metadata": {
        "colab": {
          "base_uri": "https://localhost:8080/"
        },
        "id": "LkpGUtiS60lD",
        "outputId": "3f69ca5b-c4ae-4e6c-9e52-76f04fe80e47",
        "pycharm": {}
      },
      "outputs": [
        {
          "name": "stdout",
          "output_type": "stream",
          "text": [
            "2 Var Declarations\n",
            "    x : Size=1, Index=None\n",
            "        Key  : Lower : Value : Upper : Fixed : Stale : Domain\n",
            "        None :     0 :  None :  None : False :  True : NonNegativeReals\n",
            "    y : Size=1, Index=None\n",
            "        Key  : Lower : Value : Upper : Fixed : Stale : Domain\n",
            "        None :     0 :  None :  None : False :  True : NonNegativeReals\n",
            "\n",
            "1 Objective Declarations\n",
            "    profit : Size=1, Index=None, Active=True\n",
            "        Key  : Active : Sense    : Expression\n",
            "        None :   True : maximize : 40*x + 30*y\n",
            "\n",
            "3 Constraint Declarations\n",
            "    demand : Size=1, Index=None, Active=True\n",
            "        Key  : Lower : Body : Upper : Active\n",
            "        None :  -Inf :    x :  40.0 :   True\n",
            "    laborA : Size=1, Index=None, Active=True\n",
            "        Key  : Lower : Body  : Upper : Active\n",
            "        None :  -Inf : x + y :  80.0 :   True\n",
            "    laborB : Size=1, Index=None, Active=True\n",
            "        Key  : Lower : Body    : Upper : Active\n",
            "        None :  -Inf : 2*x + y : 100.0 :   True\n",
            "\n",
            "6 Declarations: x y profit demand laborA laborB\n"
          ]
        }
      ],
      "source": [
        "# create a model\n",
        "model = ConcreteModel()\n",
        "\n",
        "# declare decision variables\n",
        "model.x = Var(domain=NonNegativeReals)\n",
        "model.y = Var(domain=NonNegativeReals)\n",
        "\n",
        "# declare objective\n",
        "model.profit = Objective(expr = 40*model.x + 30*model.y, sense=maximize)\n",
        "\n",
        "# declare constraints\n",
        "model.demand = Constraint(expr = model.x <= 40)\n",
        "model.laborA = Constraint(expr = model.x + model.y <= 80)\n",
        "model.laborB = Constraint(expr = 2*model.x + model.y <= 100)\n",
        "\n",
        "model.pprint()\n",
        "\n",
        "def display_solution(model):\n",
        "\n",
        "    # display solution\n",
        "    print('\\nProfit = ', model.profit())\n",
        "\n",
        "    print('\\nDecision Variables')\n",
        "    print('x = ', model.x.value)\n",
        "    print('y = ', model.y())\n",
        "\n",
        "    print('\\nConstraints')\n",
        "    print('Demand  = ', model.demand())\n",
        "    print('Labor A = ', model.laborA())\n",
        "    print('Labor B = ', model.laborB())"
      ]
    },
    {
      "cell_type": "markdown",
      "metadata": {
        "id": "4bV-uLVe8yu0",
        "pycharm": {}
      },
      "source": [
        "## COIN-OR CBC\n",
        "\n",
        "[COIN-OR CBC](https://github.com/coin-or/Cbc) is a multi-threaded open-source **C**oin-or **b**ranch and **c**ut mixed-integer linear programming solver written in C++ under the Eclipse Public License (EPL). CBC is generally a good choice for a general purpose MILP solver for medium to large scale problems."
      ]
    },
    {
      "cell_type": "code",
      "execution_count": null,
      "metadata": {
        "colab": {
          "base_uri": "https://localhost:8080/"
        },
        "id": "SgtBao9G9K2R",
        "outputId": "8b770610-db34-4e34-90c3-14d350e8da5b",
        "pycharm": {}
      },
      "outputs": [
        {
          "name": "stdout",
          "output_type": "stream",
          "text": [
            "# ==========================================================\n",
            "# = Solver Results                                         =\n",
            "# ==========================================================\n",
            "# ----------------------------------------------------------\n",
            "#   Problem Information\n",
            "# ----------------------------------------------------------\n",
            "Problem: \n",
            "- Name: unknown\n",
            "  Lower bound: 2600.0\n",
            "  Upper bound: 2600.0\n",
            "  Number of objectives: 1\n",
            "  Number of constraints: 3\n",
            "  Number of variables: 2\n",
            "  Number of nonzeros: 2\n",
            "  Sense: maximize\n",
            "# ----------------------------------------------------------\n",
            "#   Solver Information\n",
            "# ----------------------------------------------------------\n",
            "Solver: \n",
            "- Status: ok\n",
            "  User time: -1.0\n",
            "  System time: 0.0\n",
            "  Wallclock time: 0.0\n",
            "  Termination condition: optimal\n",
            "  Termination message: Model was solved to optimality (subject to tolerances), and an optimal solution is available.\n",
            "  Statistics: \n",
            "    Branch and bound: \n",
            "      Number of bounded subproblems: None\n",
            "      Number of created subproblems: None\n",
            "    Black box: \n",
            "      Number of iterations: 2\n",
            "  Error rc: 0\n",
            "  Time: 0.07541680335998535\n",
            "# ----------------------------------------------------------\n",
            "#   Solution Information\n",
            "# ----------------------------------------------------------\n",
            "Solution: \n",
            "- number of solutions: 0\n",
            "  number of solutions displayed: 0\n",
            "\n",
            "Profit =  2600.0\n",
            "\n",
            "Decision Variables\n",
            "x =  20.0\n",
            "y =  60.0\n",
            "\n",
            "Constraints\n",
            "Demand  =  20.0\n",
            "Labor A =  80.0\n",
            "Labor B =  100.0\n"
          ]
        }
      ],
      "source": [
        "SolverFactory('cbc').solve(model).write()\n",
        "\n",
        "# display solution\n",
        "display_solution(model)"
      ]
    },
    {
      "cell_type": "markdown",
      "metadata": {
        "id": "OdcuIo9yvA7E",
        "pycharm": {}
      },
      "source": [
        "## COIN-OR Ipopt\n",
        "\n",
        "[COIN-OR Ipopt](https://github.com/coin-or/Ipopt) is an open-source **I**nterior **P**oint **Opt**imizer for large-scale nonlinear optimization available under the Eclipse Public License (EPL). It is well-suited to solving nonlinear programming problems without integer or binary constraints."
      ]
    },
    {
      "cell_type": "code",
      "execution_count": null,
      "metadata": {
        "colab": {
          "base_uri": "https://localhost:8080/"
        },
        "id": "LvFczDKg96aX",
        "outputId": "ee2b2500-dad9-4cba-c5bd-d836feeebcb7",
        "pycharm": {}
      },
      "outputs": [
        {
          "name": "stdout",
          "output_type": "stream",
          "text": [
            "# ==========================================================\n",
            "# = Solver Results                                         =\n",
            "# ==========================================================\n",
            "# ----------------------------------------------------------\n",
            "#   Problem Information\n",
            "# ----------------------------------------------------------\n",
            "Problem: \n",
            "- Lower bound: -inf\n",
            "  Upper bound: inf\n",
            "  Number of objectives: 1\n",
            "  Number of constraints: 3\n",
            "  Number of variables: 2\n",
            "  Sense: unknown\n",
            "# ----------------------------------------------------------\n",
            "#   Solver Information\n",
            "# ----------------------------------------------------------\n",
            "Solver: \n",
            "- Status: ok\n",
            "  Message: Ipopt 3.13.2\\x3a Optimal Solution Found\n",
            "  Termination condition: optimal\n",
            "  Id: 0\n",
            "  Error rc: 0\n",
            "  Time: 0.023174285888671875\n",
            "# ----------------------------------------------------------\n",
            "#   Solution Information\n",
            "# ----------------------------------------------------------\n",
            "Solution: \n",
            "- number of solutions: 0\n",
            "  number of solutions displayed: 0\n",
            "\n",
            "Profit =  2600.000025994988\n",
            "\n",
            "Decision Variables\n",
            "x =  20.0000001998747\n",
            "y =  60.0000006\n",
            "\n",
            "Constraints\n",
            "Demand  =  20.0000001998747\n",
            "Labor A =  80.0000007998747\n",
            "Labor B =  100.0000009997494\n"
          ]
        }
      ],
      "source": [
        "SolverFactory('ipopt').solve(model).write()\n",
        "\n",
        "# display solution\n",
        "display_solution(model)"
      ]
    },
    {
      "cell_type": "markdown",
      "metadata": {
        "id": "Q1ru4X2kuxdl",
        "pycharm": {}
      },
      "source": [
        "## COIN-OR Bonmin\n",
        "\n",
        "[COIN-OR Bonmin](https://www.coin-or.org/Bonmin/Intro.html) is a **b**asic **o**pen-source solver for **n**onlinear **m**ixed-**in**teger programming problems (MINLP). It utilizes CBC and Ipopt for solving relaxed subproblems."
      ]
    },
    {
      "cell_type": "code",
      "execution_count": null,
      "metadata": {
        "colab": {
          "base_uri": "https://localhost:8080/"
        },
        "id": "BO_KJVUs-bwS",
        "outputId": "d9ed8d86-022f-4ad6-f09f-ae8dc4c274eb",
        "pycharm": {}
      },
      "outputs": [
        {
          "name": "stdout",
          "output_type": "stream",
          "text": [
            "# ==========================================================\n",
            "# = Solver Results                                         =\n",
            "# ==========================================================\n",
            "# ----------------------------------------------------------\n",
            "#   Problem Information\n",
            "# ----------------------------------------------------------\n",
            "Problem: \n",
            "- Lower bound: -inf\n",
            "  Upper bound: inf\n",
            "  Number of objectives: 1\n",
            "  Number of constraints: 0\n",
            "  Number of variables: 2\n",
            "  Sense: unknown\n",
            "# ----------------------------------------------------------\n",
            "#   Solver Information\n",
            "# ----------------------------------------------------------\n",
            "Solver: \n",
            "- Status: ok\n",
            "  Message: bonmin\\x3a Optimal\n",
            "  Termination condition: optimal\n",
            "  Id: 3\n",
            "  Error rc: 0\n",
            "  Time: 0.016574859619140625\n",
            "# ----------------------------------------------------------\n",
            "#   Solution Information\n",
            "# ----------------------------------------------------------\n",
            "Solution: \n",
            "- number of solutions: 0\n",
            "  number of solutions displayed: 0\n",
            "\n",
            "Profit =  2600.0000259999797\n",
            "\n",
            "Decision Variables\n",
            "x =  20.000000199999512\n",
            "y =  60.00000059999998\n",
            "\n",
            "Constraints\n",
            "Demand  =  20.000000199999512\n",
            "Labor A =  80.0000007999995\n",
            "Labor B =  100.000000999999\n"
          ]
        }
      ],
      "source": [
        "SolverFactory('bonmin').solve(model).write()\n",
        "\n",
        "# display solution\n",
        "display_solution(model)"
      ]
    },
    {
      "cell_type": "markdown",
      "metadata": {
        "id": "TWi6TZIN_RFh",
        "pycharm": {}
      },
      "source": [
        "## COIN-OR Couenne\n",
        "\n",
        "COIN-OR Couenne](https://www.coin-or.org/Couenne/)  is attempts to find global optima for mixed-integer nonlinear programming problems (MINLP)."
      ]
    },
    {
      "cell_type": "code",
      "execution_count": null,
      "metadata": {
        "colab": {
          "base_uri": "https://localhost:8080/"
        },
        "id": "rysHICYQ_RFl",
        "outputId": "99f6e7bf-cfd9-489b-8700-6610aa1019aa",
        "pycharm": {}
      },
      "outputs": [
        {
          "name": "stdout",
          "output_type": "stream",
          "text": [
            "# ==========================================================\n",
            "# = Solver Results                                         =\n",
            "# ==========================================================\n",
            "# ----------------------------------------------------------\n",
            "#   Problem Information\n",
            "# ----------------------------------------------------------\n",
            "Problem: \n",
            "- Lower bound: -inf\n",
            "  Upper bound: inf\n",
            "  Number of objectives: 1\n",
            "  Number of constraints: 0\n",
            "  Number of variables: 2\n",
            "  Sense: unknown\n",
            "# ----------------------------------------------------------\n",
            "#   Solver Information\n",
            "# ----------------------------------------------------------\n",
            "Solver: \n",
            "- Status: ok\n",
            "  Message: couenne\\x3a Optimal\n",
            "  Termination condition: optimal\n",
            "  Id: 3\n",
            "  Error rc: 0\n",
            "  Time: 0.01709890365600586\n",
            "# ----------------------------------------------------------\n",
            "#   Solution Information\n",
            "# ----------------------------------------------------------\n",
            "Solution: \n",
            "- number of solutions: 0\n",
            "  number of solutions displayed: 0\n",
            "\n",
            "Profit =  2600.00002599998\n",
            "\n",
            "Decision Variables\n",
            "x =  20.000000199999516\n",
            "y =  60.000000599999986\n",
            "\n",
            "Constraints\n",
            "Demand  =  20.000000199999516\n",
            "Labor A =  80.0000007999995\n",
            "Labor B =  100.00000099999902\n"
          ]
        }
      ],
      "source": [
        "SolverFactory('couenne').solve(model).write()\n",
        "\n",
        "# display solution\n",
        "display_solution(model)"
      ]
    }
  ],
  "metadata": {
    "colab": {
      "provenance": []
    },
    "kernelspec": {
      "display_name": "Python 3",
      "language": "python",
      "name": "python3"
    },
    "language_info": {
      "codemirror_mode": {
        "name": "ipython",
        "version": 3
      },
      "file_extension": ".py",
      "mimetype": "text/x-python",
      "name": "python",
      "nbconvert_exporter": "python",
      "pygments_lexer": "ipython3",
      "version": "3.13.6"
    }
  },
  "nbformat": 4,
  "nbformat_minor": 0
}
