{
  "cells": [
    {
      "cell_type": "markdown",
      "metadata": {
        "id": "mCiyV79btUPu"
      },
      "source": [
        "#Copy-and-Paste Set-up Code for Pyomo w/ Solvers\n"
      ]
    },
    {
      "cell_type": "code",
      "execution_count": 1,
      "metadata": {},
      "outputs": [
        {
          "name": "stdout",
          "output_type": "stream",
          "text": [
            "Defaulting to user installation because normal site-packages is not writeable\n",
            "Requirement already satisfied: pyomo in c:\\users\\brown\\appdata\\roaming\\python\\python313\\site-packages (6.9.4)\n",
            "Requirement already satisfied: ply in c:\\users\\brown\\appdata\\roaming\\python\\python313\\site-packages (from pyomo) (3.11)\n",
            "Note: you may need to restart the kernel to use updated packages.\n"
          ]
        }
      ],
      "source": [
        "# Install pyomo\n",
        "%pip install pyomo"
      ]
    },
    {
      "cell_type": "code",
      "execution_count": 10,
      "metadata": {
        "id": "Q81gD3GOtgJD"
      },
      "outputs": [
        {
          "name": "stdout",
          "output_type": "stream",
          "text": [
            "ipopt available?  True\n",
            "cbc   available?  True\n"
          ]
        }
      ],
      "source": [
        "#Copy-and-paste the code below to use as \"set-up\" when your optimization model uses Pyomo and Coin-OR solvers.\n",
        "#for reference, see https://jckantor.github.io/ND-Pyomo-Cookbook/notebooks/01.02-Running-Pyomo-on-Google-Colab.html#installing-pyomo-and-solvers\n",
        "\n",
        "#%%capture\n",
        "#import sys\n",
        "#import os\n",
        "\n",
        "# If this is being run in VS Code, install the necessary packages\n",
        "#if 'vscode' in os.environ.get('TERM_PROGRAM', ''):\n",
        "#    !pip install pyomo\n",
        "#    !pip install idaes-pse --pre\n",
        "#    !python -m idaes get-extensions --to ./bin\n",
        "#    !setx PATH \"%PATH%;%cd%\\bin\"\n",
        "\n",
        "# If this is being run in Google Colab, install the necessary packages\n",
        "#if 'google.colab' in sys.modules:\n",
        "#    !pip install idaes-pse --pre\n",
        "#    !idaes get-extensions --to ./bin\n",
        "#    os.environ['PATH'] += ':bin'\n",
        "\n",
        "#from pyomo.environ import *\n",
        "#SolverFactory('ipopt').available()\n",
        "#SolverFactory('cbc').available()\n",
        "\n",
        "# Copy-and-paste the code below to use as \"set-up\" when your optimization model uses Pyomo and Coin-OR solvers.\n",
        "# for reference, see https://jckantor.github.io/ND-Pyomo-Cookbook/notebooks/01.02-Running-Pyomo-on-Google-Colab.html#installing-pyomo-and-solvers\n",
        "\n",
        "# %%capture\n",
        "import sys\n",
        "import os\n",
        "import platform\n",
        "\n",
        "# Where we'll drop solver binaries\n",
        "BIN_DIR = os.path.abspath(\"./bin\")\n",
        "\n",
        "# If this is being run in VS Code, install the necessary packages\n",
        "# (TERM_PROGRAM contains \"vscode\" in VS Code terminals; in VS Code Jupyter we also have JPY_PARENT_PID)\n",
        "if ('vscode' in os.environ.get('TERM_PROGRAM', '').lower()) or ('JPY_PARENT_PID' in os.environ):\n",
        "    # Use pip via the current interpreter for reliability\n",
        "    !{sys.executable} -m pip install -q pyomo\n",
        "    !{sys.executable} -m pip install -q idaes-pse --pre\n",
        "    # Use python -m idaes so it runs in the same env\n",
        "    !{sys.executable} -m idaes get-extensions --to \"{BIN_DIR}\"\n",
        "    # Make solvers visible **now** in this kernel/session\n",
        "    os.environ['PATH'] = BIN_DIR + os.pathsep + os.environ.get('PATH', '')\n",
        "\n",
        "# If this is being run in Google Colab, install the necessary packages\n",
        "if 'google.colab' in sys.modules:\n",
        "    !pip install -q idaes-pse --pre\n",
        "    !idaes get-extensions --to \"{BIN_DIR}\"\n",
        "    # Make solvers visible **now** in this kernel/session\n",
        "    os.environ['PATH'] = BIN_DIR + os.pathsep + os.environ.get('PATH', '')\n",
        "\n",
        "from pyomo.environ import *\n",
        "\n",
        "# Helper to build the solver executable path, cross-platform\n",
        "def _solver_exec(name: str) -> str:\n",
        "    exe = name + (\".exe\" if platform.system().lower().startswith(\"win\") else \"\")\n",
        "    path = os.path.join(BIN_DIR, exe)\n",
        "    return path if os.path.exists(path) else name  # fall back to PATH if needed\n",
        "\n",
        "# Show availability\n",
        "print(\"ipopt available? \", SolverFactory('ipopt', executable=_solver_exec('ipopt')).available(False))\n",
        "print(\"cbc   available? \", SolverFactory('cbc',   executable=_solver_exec('cbc')).available(False))\n"
      ]
    },
    {
      "cell_type": "markdown",
      "metadata": {
        "id": "GxSxNDFYuq6n",
        "pycharm": {}
      },
      "source": [
        "# Testing and Solving with Different Solvers\n",
        "\n",
        "This notebook contains codes for installing Pyomo and various open-source solvers that we'll leverage, including:\n",
        "\n",
        "* COIN-OR CBC\n",
        "* COIN-OR Ipopt\n",
        "* COIN-OR Bonmin\n",
        "* COIN-OR Couenne\n",
        "\n",
        "It then demonstrates the use of various solvers with an example.\n",
        "\n",
        "You need not memorize or understand the code. Simply copy and paste the relevant pieces when needed."
      ]
    },
    {
      "cell_type": "markdown",
      "metadata": {
        "id": "jJrxAaqcuzFw",
        "pycharm": {}
      },
      "source": [
        "## Testing Pyomo\n",
        "\n",
        "The installation of pyomo can be verified by entering a simple model. This model is used in subsequent cells to demonstrate the installation and operation of the solvers."
      ]
    },
    {
      "cell_type": "code",
      "execution_count": 11,
      "metadata": {
        "colab": {
          "base_uri": "https://localhost:8080/"
        },
        "id": "LkpGUtiS60lD",
        "outputId": "3f69ca5b-c4ae-4e6c-9e52-76f04fe80e47",
        "pycharm": {}
      },
      "outputs": [
        {
          "name": "stdout",
          "output_type": "stream",
          "text": [
            "2 Var Declarations\n",
            "    x : Size=1, Index=None\n",
            "        Key  : Lower : Value : Upper : Fixed : Stale : Domain\n",
            "        None :     0 :  None :  None : False :  True : NonNegativeReals\n",
            "    y : Size=1, Index=None\n",
            "        Key  : Lower : Value : Upper : Fixed : Stale : Domain\n",
            "        None :     0 :  None :  None : False :  True : NonNegativeReals\n",
            "\n",
            "1 Objective Declarations\n",
            "    profit : Size=1, Index=None, Active=True\n",
            "        Key  : Active : Sense    : Expression\n",
            "        None :   True : maximize : 40*x + 30*y\n",
            "\n",
            "3 Constraint Declarations\n",
            "    demand : Size=1, Index=None, Active=True\n",
            "        Key  : Lower : Body : Upper : Active\n",
            "        None :  -Inf :    x :  40.0 :   True\n",
            "    laborA : Size=1, Index=None, Active=True\n",
            "        Key  : Lower : Body  : Upper : Active\n",
            "        None :  -Inf : x + y :  80.0 :   True\n",
            "    laborB : Size=1, Index=None, Active=True\n",
            "        Key  : Lower : Body    : Upper : Active\n",
            "        None :  -Inf : 2*x + y : 100.0 :   True\n",
            "\n",
            "6 Declarations: x y profit demand laborA laborB\n"
          ]
        }
      ],
      "source": [
        "# create a model\n",
        "model = ConcreteModel()\n",
        "\n",
        "# declare decision variables\n",
        "model.x = Var(domain=NonNegativeReals)\n",
        "model.y = Var(domain=NonNegativeReals)\n",
        "\n",
        "# declare objective\n",
        "model.profit = Objective(expr = 40*model.x + 30*model.y, sense=maximize)\n",
        "\n",
        "# declare constraints\n",
        "model.demand = Constraint(expr = model.x <= 40)\n",
        "model.laborA = Constraint(expr = model.x + model.y <= 80)\n",
        "model.laborB = Constraint(expr = 2*model.x + model.y <= 100)\n",
        "\n",
        "model.pprint()\n",
        "\n",
        "def display_solution(model):\n",
        "\n",
        "    # display solution\n",
        "    print('\\nProfit = ', model.profit())\n",
        "\n",
        "    print('\\nDecision Variables')\n",
        "    print('x = ', model.x.value)\n",
        "    print('y = ', model.y())\n",
        "\n",
        "    print('\\nConstraints')\n",
        "    print('Demand  = ', model.demand())\n",
        "    print('Labor A = ', model.laborA())\n",
        "    print('Labor B = ', model.laborB())"
      ]
    },
    {
      "cell_type": "markdown",
      "metadata": {
        "id": "4bV-uLVe8yu0",
        "pycharm": {}
      },
      "source": [
        "## COIN-OR CBC\n",
        "\n",
        "[COIN-OR CBC](https://github.com/coin-or/Cbc) is a multi-threaded open-source **C**oin-or **b**ranch and **c**ut mixed-integer linear programming solver written in C++ under the Eclipse Public License (EPL). CBC is generally a good choice for a general purpose MILP solver for medium to large scale problems."
      ]
    },
    {
      "cell_type": "code",
      "execution_count": 12,
      "metadata": {
        "colab": {
          "base_uri": "https://localhost:8080/"
        },
        "id": "SgtBao9G9K2R",
        "outputId": "8b770610-db34-4e34-90c3-14d350e8da5b",
        "pycharm": {}
      },
      "outputs": [
        {
          "name": "stdout",
          "output_type": "stream",
          "text": [
            "WARNING: Could not locate the 'cbc' executable, which is required for solver\n",
            "cbc\n"
          ]
        },
        {
          "ename": "ApplicationError",
          "evalue": "No executable found for solver 'cbc'",
          "output_type": "error",
          "traceback": [
            "\u001b[31m---------------------------------------------------------------------------\u001b[39m",
            "\u001b[31mApplicationError\u001b[39m                          Traceback (most recent call last)",
            "\u001b[36mCell\u001b[39m\u001b[36m \u001b[39m\u001b[32mIn[12]\u001b[39m\u001b[32m, line 1\u001b[39m\n\u001b[32m----> \u001b[39m\u001b[32m1\u001b[39m \u001b[43mSolverFactory\u001b[49m\u001b[43m(\u001b[49m\u001b[33;43m'\u001b[39;49m\u001b[33;43mcbc\u001b[39;49m\u001b[33;43m'\u001b[39;49m\u001b[43m)\u001b[49m\u001b[43m.\u001b[49m\u001b[43msolve\u001b[49m\u001b[43m(\u001b[49m\u001b[43mmodel\u001b[49m\u001b[43m)\u001b[49m.write()\n\u001b[32m      3\u001b[39m \u001b[38;5;66;03m# display solution\u001b[39;00m\n\u001b[32m      4\u001b[39m display_solution(model)\n",
            "\u001b[36mFile \u001b[39m\u001b[32m~\\AppData\\Roaming\\Python\\Python313\\site-packages\\pyomo\\opt\\base\\solvers.py:560\u001b[39m, in \u001b[36mOptSolver.solve\u001b[39m\u001b[34m(self, *args, **kwds)\u001b[39m\n\u001b[32m    557\u001b[39m \u001b[38;5;28;01mdef\u001b[39;00m\u001b[38;5;250m \u001b[39m\u001b[34msolve\u001b[39m(\u001b[38;5;28mself\u001b[39m, *args, **kwds):\n\u001b[32m    558\u001b[39m \u001b[38;5;250m    \u001b[39m\u001b[33;03m\"\"\"Solve the problem\"\"\"\u001b[39;00m\n\u001b[32m--> \u001b[39m\u001b[32m560\u001b[39m     \u001b[38;5;28;43mself\u001b[39;49m\u001b[43m.\u001b[49m\u001b[43mavailable\u001b[49m\u001b[43m(\u001b[49m\u001b[43mexception_flag\u001b[49m\u001b[43m=\u001b[49m\u001b[38;5;28;43;01mTrue\u001b[39;49;00m\u001b[43m)\u001b[49m\n\u001b[32m    561\u001b[39m     \u001b[38;5;66;03m#\u001b[39;00m\n\u001b[32m    562\u001b[39m     \u001b[38;5;66;03m# If the inputs are models, then validate that they have been\u001b[39;00m\n\u001b[32m    563\u001b[39m     \u001b[38;5;66;03m# constructed! Collect suffix names to try and import from solution.\u001b[39;00m\n\u001b[32m    564\u001b[39m     \u001b[38;5;66;03m#\u001b[39;00m\n\u001b[32m    565\u001b[39m     \u001b[38;5;28;01mfrom\u001b[39;00m\u001b[38;5;250m \u001b[39m\u001b[34;01mpyomo\u001b[39;00m\u001b[34;01m.\u001b[39;00m\u001b[34;01mcore\u001b[39;00m\u001b[34;01m.\u001b[39;00m\u001b[34;01mbase\u001b[39;00m\u001b[34;01m.\u001b[39;00m\u001b[34;01mblock\u001b[39;00m\u001b[38;5;250m \u001b[39m\u001b[38;5;28;01mimport\u001b[39;00m BlockData\n",
            "\u001b[36mFile \u001b[39m\u001b[32m~\\AppData\\Roaming\\Python\\Python313\\site-packages\\pyomo\\opt\\solver\\shellcmd.py:140\u001b[39m, in \u001b[36mSystemCallSolver.available\u001b[39m\u001b[34m(self, exception_flag)\u001b[39m\n\u001b[32m    138\u001b[39m     \u001b[38;5;28;01mif\u001b[39;00m exception_flag:\n\u001b[32m    139\u001b[39m         msg = \u001b[33m\"\u001b[39m\u001b[33mNo executable found for solver \u001b[39m\u001b[33m'\u001b[39m\u001b[38;5;132;01m%s\u001b[39;00m\u001b[33m'\u001b[39m\u001b[33m\"\u001b[39m\n\u001b[32m--> \u001b[39m\u001b[32m140\u001b[39m         \u001b[38;5;28;01mraise\u001b[39;00m ApplicationError(msg % \u001b[38;5;28mself\u001b[39m.name)\n\u001b[32m    141\u001b[39m     \u001b[38;5;28;01mreturn\u001b[39;00m \u001b[38;5;28;01mFalse\u001b[39;00m\n\u001b[32m    142\u001b[39m \u001b[38;5;28;01mreturn\u001b[39;00m \u001b[38;5;28;01mTrue\u001b[39;00m\n",
            "\u001b[31mApplicationError\u001b[39m: No executable found for solver 'cbc'"
          ]
        }
      ],
      "source": [
        "SolverFactory('cbc').solve(model).write()\n",
        "\n",
        "# display solution\n",
        "display_solution(model)"
      ]
    },
    {
      "cell_type": "markdown",
      "metadata": {
        "id": "OdcuIo9yvA7E",
        "pycharm": {}
      },
      "source": [
        "## COIN-OR Ipopt\n",
        "\n",
        "[COIN-OR Ipopt](https://github.com/coin-or/Ipopt) is an open-source **I**nterior **P**oint **Opt**imizer for large-scale nonlinear optimization available under the Eclipse Public License (EPL). It is well-suited to solving nonlinear programming problems without integer or binary constraints."
      ]
    },
    {
      "cell_type": "code",
      "execution_count": 3,
      "metadata": {
        "colab": {
          "base_uri": "https://localhost:8080/"
        },
        "id": "LvFczDKg96aX",
        "outputId": "ee2b2500-dad9-4cba-c5bd-d836feeebcb7",
        "pycharm": {}
      },
      "outputs": [
        {
          "name": "stdout",
          "output_type": "stream",
          "text": [
            "WARNING: Could not locate the 'ipopt' executable, which is required for solver\n",
            "ipopt\n"
          ]
        },
        {
          "ename": "ApplicationError",
          "evalue": "No executable found for solver 'ipopt'",
          "output_type": "error",
          "traceback": [
            "\u001b[31m---------------------------------------------------------------------------\u001b[39m",
            "\u001b[31mApplicationError\u001b[39m                          Traceback (most recent call last)",
            "\u001b[36mCell\u001b[39m\u001b[36m \u001b[39m\u001b[32mIn[3]\u001b[39m\u001b[32m, line 1\u001b[39m\n\u001b[32m----> \u001b[39m\u001b[32m1\u001b[39m \u001b[43mSolverFactory\u001b[49m\u001b[43m(\u001b[49m\u001b[33;43m'\u001b[39;49m\u001b[33;43mipopt\u001b[39;49m\u001b[33;43m'\u001b[39;49m\u001b[43m)\u001b[49m\u001b[43m.\u001b[49m\u001b[43msolve\u001b[49m\u001b[43m(\u001b[49m\u001b[43mmodel\u001b[49m\u001b[43m)\u001b[49m.write()\n\u001b[32m      3\u001b[39m \u001b[38;5;66;03m# display solution\u001b[39;00m\n\u001b[32m      4\u001b[39m display_solution(model)\n",
            "\u001b[36mFile \u001b[39m\u001b[32m~\\AppData\\Roaming\\Python\\Python313\\site-packages\\pyomo\\opt\\base\\solvers.py:560\u001b[39m, in \u001b[36mOptSolver.solve\u001b[39m\u001b[34m(self, *args, **kwds)\u001b[39m\n\u001b[32m    557\u001b[39m \u001b[38;5;28;01mdef\u001b[39;00m\u001b[38;5;250m \u001b[39m\u001b[34msolve\u001b[39m(\u001b[38;5;28mself\u001b[39m, *args, **kwds):\n\u001b[32m    558\u001b[39m \u001b[38;5;250m    \u001b[39m\u001b[33;03m\"\"\"Solve the problem\"\"\"\u001b[39;00m\n\u001b[32m--> \u001b[39m\u001b[32m560\u001b[39m     \u001b[38;5;28;43mself\u001b[39;49m\u001b[43m.\u001b[49m\u001b[43mavailable\u001b[49m\u001b[43m(\u001b[49m\u001b[43mexception_flag\u001b[49m\u001b[43m=\u001b[49m\u001b[38;5;28;43;01mTrue\u001b[39;49;00m\u001b[43m)\u001b[49m\n\u001b[32m    561\u001b[39m     \u001b[38;5;66;03m#\u001b[39;00m\n\u001b[32m    562\u001b[39m     \u001b[38;5;66;03m# If the inputs are models, then validate that they have been\u001b[39;00m\n\u001b[32m    563\u001b[39m     \u001b[38;5;66;03m# constructed! Collect suffix names to try and import from solution.\u001b[39;00m\n\u001b[32m    564\u001b[39m     \u001b[38;5;66;03m#\u001b[39;00m\n\u001b[32m    565\u001b[39m     \u001b[38;5;28;01mfrom\u001b[39;00m\u001b[38;5;250m \u001b[39m\u001b[34;01mpyomo\u001b[39;00m\u001b[34;01m.\u001b[39;00m\u001b[34;01mcore\u001b[39;00m\u001b[34;01m.\u001b[39;00m\u001b[34;01mbase\u001b[39;00m\u001b[34;01m.\u001b[39;00m\u001b[34;01mblock\u001b[39;00m\u001b[38;5;250m \u001b[39m\u001b[38;5;28;01mimport\u001b[39;00m BlockData\n",
            "\u001b[36mFile \u001b[39m\u001b[32m~\\AppData\\Roaming\\Python\\Python313\\site-packages\\pyomo\\opt\\solver\\shellcmd.py:140\u001b[39m, in \u001b[36mSystemCallSolver.available\u001b[39m\u001b[34m(self, exception_flag)\u001b[39m\n\u001b[32m    138\u001b[39m     \u001b[38;5;28;01mif\u001b[39;00m exception_flag:\n\u001b[32m    139\u001b[39m         msg = \u001b[33m\"\u001b[39m\u001b[33mNo executable found for solver \u001b[39m\u001b[33m'\u001b[39m\u001b[38;5;132;01m%s\u001b[39;00m\u001b[33m'\u001b[39m\u001b[33m\"\u001b[39m\n\u001b[32m--> \u001b[39m\u001b[32m140\u001b[39m         \u001b[38;5;28;01mraise\u001b[39;00m ApplicationError(msg % \u001b[38;5;28mself\u001b[39m.name)\n\u001b[32m    141\u001b[39m     \u001b[38;5;28;01mreturn\u001b[39;00m \u001b[38;5;28;01mFalse\u001b[39;00m\n\u001b[32m    142\u001b[39m \u001b[38;5;28;01mreturn\u001b[39;00m \u001b[38;5;28;01mTrue\u001b[39;00m\n",
            "\u001b[31mApplicationError\u001b[39m: No executable found for solver 'ipopt'"
          ]
        }
      ],
      "source": [
        "SolverFactory('ipopt').solve(model).write()\n",
        "\n",
        "# display solution\n",
        "display_solution(model)"
      ]
    },
    {
      "cell_type": "markdown",
      "metadata": {
        "id": "Q1ru4X2kuxdl",
        "pycharm": {}
      },
      "source": [
        "## COIN-OR Bonmin\n",
        "\n",
        "[COIN-OR Bonmin](https://www.coin-or.org/Bonmin/Intro.html) is a **b**asic **o**pen-source solver for **n**onlinear **m**ixed-**in**teger programming problems (MINLP). It utilizes CBC and Ipopt for solving relaxed subproblems."
      ]
    },
    {
      "cell_type": "code",
      "execution_count": null,
      "metadata": {
        "colab": {
          "base_uri": "https://localhost:8080/"
        },
        "id": "BO_KJVUs-bwS",
        "outputId": "d9ed8d86-022f-4ad6-f09f-ae8dc4c274eb",
        "pycharm": {}
      },
      "outputs": [
        {
          "name": "stdout",
          "output_type": "stream",
          "text": [
            "# ==========================================================\n",
            "# = Solver Results                                         =\n",
            "# ==========================================================\n",
            "# ----------------------------------------------------------\n",
            "#   Problem Information\n",
            "# ----------------------------------------------------------\n",
            "Problem: \n",
            "- Lower bound: -inf\n",
            "  Upper bound: inf\n",
            "  Number of objectives: 1\n",
            "  Number of constraints: 0\n",
            "  Number of variables: 2\n",
            "  Sense: unknown\n",
            "# ----------------------------------------------------------\n",
            "#   Solver Information\n",
            "# ----------------------------------------------------------\n",
            "Solver: \n",
            "- Status: ok\n",
            "  Message: bonmin\\x3a Optimal\n",
            "  Termination condition: optimal\n",
            "  Id: 3\n",
            "  Error rc: 0\n",
            "  Time: 0.016574859619140625\n",
            "# ----------------------------------------------------------\n",
            "#   Solution Information\n",
            "# ----------------------------------------------------------\n",
            "Solution: \n",
            "- number of solutions: 0\n",
            "  number of solutions displayed: 0\n",
            "\n",
            "Profit =  2600.0000259999797\n",
            "\n",
            "Decision Variables\n",
            "x =  20.000000199999512\n",
            "y =  60.00000059999998\n",
            "\n",
            "Constraints\n",
            "Demand  =  20.000000199999512\n",
            "Labor A =  80.0000007999995\n",
            "Labor B =  100.000000999999\n"
          ]
        }
      ],
      "source": [
        "SolverFactory('bonmin').solve(model).write()\n",
        "\n",
        "# display solution\n",
        "display_solution(model)"
      ]
    },
    {
      "cell_type": "markdown",
      "metadata": {
        "id": "TWi6TZIN_RFh",
        "pycharm": {}
      },
      "source": [
        "## COIN-OR Couenne\n",
        "\n",
        "COIN-OR Couenne](https://www.coin-or.org/Couenne/)  is attempts to find global optima for mixed-integer nonlinear programming problems (MINLP)."
      ]
    },
    {
      "cell_type": "code",
      "execution_count": null,
      "metadata": {
        "colab": {
          "base_uri": "https://localhost:8080/"
        },
        "id": "rysHICYQ_RFl",
        "outputId": "99f6e7bf-cfd9-489b-8700-6610aa1019aa",
        "pycharm": {}
      },
      "outputs": [
        {
          "name": "stdout",
          "output_type": "stream",
          "text": [
            "# ==========================================================\n",
            "# = Solver Results                                         =\n",
            "# ==========================================================\n",
            "# ----------------------------------------------------------\n",
            "#   Problem Information\n",
            "# ----------------------------------------------------------\n",
            "Problem: \n",
            "- Lower bound: -inf\n",
            "  Upper bound: inf\n",
            "  Number of objectives: 1\n",
            "  Number of constraints: 0\n",
            "  Number of variables: 2\n",
            "  Sense: unknown\n",
            "# ----------------------------------------------------------\n",
            "#   Solver Information\n",
            "# ----------------------------------------------------------\n",
            "Solver: \n",
            "- Status: ok\n",
            "  Message: couenne\\x3a Optimal\n",
            "  Termination condition: optimal\n",
            "  Id: 3\n",
            "  Error rc: 0\n",
            "  Time: 0.01709890365600586\n",
            "# ----------------------------------------------------------\n",
            "#   Solution Information\n",
            "# ----------------------------------------------------------\n",
            "Solution: \n",
            "- number of solutions: 0\n",
            "  number of solutions displayed: 0\n",
            "\n",
            "Profit =  2600.00002599998\n",
            "\n",
            "Decision Variables\n",
            "x =  20.000000199999516\n",
            "y =  60.000000599999986\n",
            "\n",
            "Constraints\n",
            "Demand  =  20.000000199999516\n",
            "Labor A =  80.0000007999995\n",
            "Labor B =  100.00000099999902\n"
          ]
        }
      ],
      "source": [
        "SolverFactory('couenne').solve(model).write()\n",
        "\n",
        "# display solution\n",
        "display_solution(model)"
      ]
    }
  ],
  "metadata": {
    "colab": {
      "provenance": []
    },
    "kernelspec": {
      "display_name": "Python 3",
      "language": "python",
      "name": "python3"
    },
    "language_info": {
      "codemirror_mode": {
        "name": "ipython",
        "version": 3
      },
      "file_extension": ".py",
      "mimetype": "text/x-python",
      "name": "python",
      "nbconvert_exporter": "python",
      "pygments_lexer": "ipython3",
      "version": "3.13.6"
    }
  },
  "nbformat": 4,
  "nbformat_minor": 0
}
