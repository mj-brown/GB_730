{
  "nbformat": 4,
  "nbformat_minor": 0,
  "metadata": {
    "colab": {
      "provenance": [],
      "collapsed_sections": [
        "hL77L3Uei59o",
        "DXYJtv62Evcx",
        "Es1WJgGQBt3D",
        "yP5jgxO8C2ba"
      ]
    },
    "kernelspec": {
      "name": "python3",
      "display_name": "Python 3"
    },
    "language_info": {
      "name": "python"
    }
  },
  "cells": [
    {
      "cell_type": "markdown",
      "source": [
        "#Set-Up"
      ],
      "metadata": {
        "id": "hL77L3Uei59o"
      }
    },
    {
      "cell_type": "code",
      "source": [
        "#Copy-and-paste the code below to use as \"set-up\" when your optimization model uses Pyomo and Coin-OR solvers.\n",
        "#for reference, see https://jckantor.github.io/ND-Pyomo-Cookbook/notebooks/01.02-Running-Pyomo-on-Google-Colab.html#installing-pyomo-and-solvers\n",
        "\n",
        "%%capture\n",
        "import sys\n",
        "import os\n",
        "\n",
        "if 'google.colab' in sys.modules:\n",
        "    !pip install idaes-pse --pre\n",
        "    !idaes get-extensions --to ./bin\n",
        "    os.environ['PATH'] += ':bin'\n",
        "\n",
        "from pyomo.environ import *"
      ],
      "metadata": {
        "id": "T3OEUrcJgiSR"
      },
      "execution_count": null,
      "outputs": []
    },
    {
      "cell_type": "code",
      "source": [
        "import pandas as pd"
      ],
      "metadata": {
        "id": "J4lPdDkN49x3"
      },
      "execution_count": null,
      "outputs": []
    },
    {
      "cell_type": "markdown",
      "source": [
        "#Input Lists Example (No Constraint Lists)\n",
        "Below, I review a problem that writes the input parameters in a way that is scalable for a large number of decision variables utilizing lists.\n"
      ],
      "metadata": {
        "id": "Es1WJgGQBt3D"
      }
    },
    {
      "cell_type": "code",
      "source": [
        "#Minimize 5*x1 + 2*x2 + 8*x3 + 7x4\n",
        "#such that\n",
        "#          x2 + 2*x3 + 3*x4  >= 4\n",
        "# 4*x1 + 2*x2 - 3*x3 + 9*x4  >= 7\n",
        "# 2*x1 - 1*x2 + 2*x3 + 1*x4  >= 4\n",
        "# x1, x2, x3, x4 >= 0\n",
        "# x1, x2, x3, x4 <= 20\n"
      ],
      "metadata": {
        "id": "88Wa1vkDBt3I"
      },
      "execution_count": null,
      "outputs": []
    },
    {
      "cell_type": "code",
      "source": [
        "#utilize lists to write inputs in a more scalable way\n",
        "num_dvs = 4\n",
        "obj_coef = [5, 2, 8, 7]\n",
        "c1_coef = [0, 1, 2, 3]\n",
        "c2_coef = [4, 2, -3, 9]\n",
        "c3_coef = [2, -1, 2, 1]\n",
        "c1_rhs = 4\n",
        "c2_rhs = 7\n",
        "c3_rhs = 4"
      ],
      "metadata": {
        "id": "Cs-n4ICp7bFP"
      },
      "execution_count": null,
      "outputs": []
    },
    {
      "cell_type": "code",
      "source": [
        "#initialize a \"Concrete Model\"\n",
        "model = ConcreteModel()\n",
        "\n",
        "#initialize DVs\n",
        "model.x = Var(range(num_dvs), bounds = (0,20))\n",
        "\n",
        "#define the objective\n",
        "model.Objective = Objective(expr = sum(obj_coef[i]*model.x[i] for i in range(num_dvs)), sense = minimize)\n",
        "\n",
        "#specify the constraints\n",
        "model.Constraint1 = Constraint(expr = sum(c1_coef[i]*model.x[i] for i in range(num_dvs)) >= c1_rhs)\n",
        "model.Constraint2 = Constraint(expr = sum(c2_coef[i]*model.x[i] for i in range(num_dvs)) >= c2_rhs)\n",
        "model.Constraint3 = Constraint(expr = sum(c3_coef[i]*model.x[i] for i in range(num_dvs)) >= c3_rhs)\n",
        "\n",
        "#(Optional) You can use model.pprint() to see what you've done so far\n",
        "model.pprint()"
      ],
      "metadata": {
        "id": "nrnPfECgBt3I",
        "colab": {
          "base_uri": "https://localhost:8080/"
        },
        "outputId": "3672a6bf-114b-43b7-bcdf-887080da8229"
      },
      "execution_count": null,
      "outputs": [
        {
          "output_type": "stream",
          "name": "stdout",
          "text": [
            "1 Var Declarations\n",
            "    x : Size=4, Index={0, 1, 2, 3}\n",
            "        Key : Lower : Value : Upper : Fixed : Stale : Domain\n",
            "          0 :     0 :  None :    20 : False :  True :  Reals\n",
            "          1 :     0 :  None :    20 : False :  True :  Reals\n",
            "          2 :     0 :  None :    20 : False :  True :  Reals\n",
            "          3 :     0 :  None :    20 : False :  True :  Reals\n",
            "\n",
            "1 Objective Declarations\n",
            "    Objective : Size=1, Index=None, Active=True\n",
            "        Key  : Active : Sense    : Expression\n",
            "        None :   True : minimize : 5*x[0] + 2*x[1] + 8*x[2] + 7*x[3]\n",
            "\n",
            "3 Constraint Declarations\n",
            "    Constraint1 : Size=1, Index=None, Active=True\n",
            "        Key  : Lower : Body                            : Upper : Active\n",
            "        None :   4.0 : 0*x[0] + x[1] + 2*x[2] + 3*x[3] :  +Inf :   True\n",
            "    Constraint2 : Size=1, Index=None, Active=True\n",
            "        Key  : Lower : Body                              : Upper : Active\n",
            "        None :   7.0 : 4*x[0] + 2*x[1] - 3*x[2] + 9*x[3] :  +Inf :   True\n",
            "    Constraint3 : Size=1, Index=None, Active=True\n",
            "        Key  : Lower : Body                          : Upper : Active\n",
            "        None :   4.0 : 2*x[0] - x[1] + 2*x[2] + x[3] :  +Inf :   True\n",
            "\n",
            "5 Declarations: x Objective Constraint1 Constraint2 Constraint3\n"
          ]
        }
      ]
    },
    {
      "cell_type": "code",
      "source": [
        "#solve model\n",
        "opt = SolverFactory('cbc')\n",
        "\n",
        "results = opt.solve(model, tee = True)"
      ],
      "metadata": {
        "id": "bK1kz-U0Bt3J",
        "colab": {
          "base_uri": "https://localhost:8080/"
        },
        "outputId": "77c4857d-9ac9-4106-f543-e0e376390a03"
      },
      "execution_count": null,
      "outputs": [
        {
          "output_type": "stream",
          "name": "stdout",
          "text": [
            "Welcome to the CBC MILP Solver \n",
            "Version: 2.10.10 \n",
            "Build Date: Jun  7 2023 \n",
            "\n",
            "command line - /content/bin/cbc -printingOptions all -import /tmp/tmpd0gtbgow.pyomo.lp -stat=1 -solve -solu /tmp/tmpd0gtbgow.pyomo.soln (default strategy 1)\n",
            "Option for printingOptions changed from normal to all\n",
            "Presolve 3 (0) rows, 4 (0) columns and 11 (0) elements\n",
            "Statistics for presolved model\n",
            "\n",
            "\n",
            "Problem has 3 rows, 4 columns (4 with objective) and 11 elements\n",
            "Column breakdown:\n",
            "0 of type 0.0->inf, 4 of type 0.0->up, 0 of type lo->inf, \n",
            "0 of type lo->up, 0 of type free, 0 of type fixed, \n",
            "0 of type -inf->0.0, 0 of type -inf->up, 0 of type 0.0->1.0 \n",
            "Row breakdown:\n",
            "0 of type E 0.0, 0 of type E 1.0, 0 of type E -1.0, \n",
            "0 of type E other, 0 of type G 0.0, 0 of type G 1.0, \n",
            "3 of type G other, 0 of type L 0.0, 0 of type L 1.0, \n",
            "0 of type L other, 0 of type Range 0.0->1.0, 0 of type Range other, \n",
            "0 of type Free \n",
            "Presolve 3 (0) rows, 4 (0) columns and 11 (0) elements\n",
            "0  Obj 0 Primal inf 4.1111108 (3)\n",
            "2  Obj 16\n",
            "Optimal - objective value 16\n",
            "Optimal objective 16 - 2 iterations time 0.002\n",
            "Total time (CPU seconds):       0.00   (Wallclock seconds):       0.00\n",
            "\n"
          ]
        }
      ]
    },
    {
      "cell_type": "code",
      "source": [
        "#print relevant values\n",
        "for i in range(num_dvs):\n",
        "  print(f\"x{i} = {model.x[i]()}\")\n",
        "print(\"obj* = \", model.Objective())"
      ],
      "metadata": {
        "id": "BKeYGi2MBt3J",
        "colab": {
          "base_uri": "https://localhost:8080/"
        },
        "outputId": "3886ca94-7e2b-4662-c4dc-0a375d67a1fe"
      },
      "execution_count": null,
      "outputs": [
        {
          "output_type": "stream",
          "name": "stdout",
          "text": [
            "x0 = 1.3333333\n",
            "x1 = 0.0\n",
            "x2 = 0.0\n",
            "x3 = 1.3333333\n",
            "obj* =  15.9999996\n"
          ]
        }
      ]
    },
    {
      "cell_type": "markdown",
      "source": [
        "##Example with Input Lists and Constraint Lists\n",
        "Below, I reprogram the exact same problem as above, but I organize the coefficients into lists and use ConstraintLists() in Pyomo together with a for loop. Writing optimization models in this way makes them scalable to large numbers of constraints.\n"
      ],
      "metadata": {
        "id": "x3nRXlyACQ1x"
      }
    },
    {
      "cell_type": "code",
      "source": [
        "#Minimize 5*x1 + 2*x2 + 8*x3 + 7x4\n",
        "#such that\n",
        "#          x2 + 2*x3 + 3*x4  >= 4\n",
        "# 4*x1 + 2*x2 - 3*x3 + 9*x4  >= 7\n",
        "# 2*x1 - 1*x2 + 2*x3 + 1*x4  >= 4\n",
        "# x1, x2, x3, x4 >= 0\n",
        "# x1, x2, x3, x4 <= 20\n"
      ],
      "metadata": {
        "id": "OBtEiaDFCQ1x"
      },
      "execution_count": null,
      "outputs": []
    },
    {
      "cell_type": "code",
      "source": [
        "#utilize lists to write things in a more scalable way\n",
        "num_dvs = 4 #indexed by i\n",
        "num_constraints = 3 #indexed by j\n",
        "obj_coef = [5, 2, 8, 7] #so obj_coef[i] is for dv i\n",
        "c_coef = [[0, 1, 2, 3],[4, 2, -3, 9],[2, -1, 2, 1]] #so c_coef[j][i] is the coefficient for constraint j dv i\n",
        "c_rhs = [4, 7, 4] #so c_rhs[j] is for constraint j\n"
      ],
      "metadata": {
        "id": "_OtdlxyZCQ1x"
      },
      "execution_count": null,
      "outputs": []
    },
    {
      "cell_type": "code",
      "source": [
        "#initialize a \"Concrete Model\"\n",
        "model2 = ConcreteModel()\n",
        "\n",
        "#initialize DVs\n",
        "model2.x = Var(range(num_dvs), bounds = (0,20))\n",
        "\n",
        "#define the objective\n",
        "model2.Objective = Objective(expr = sum(obj_coef[i]*model2.x[i] for i in range(num_dvs)), sense = minimize)\n",
        "\n",
        "#specify the constraints\n",
        "model2.Constraints = ConstraintList()\n",
        "for j in range(num_constraints):\n",
        "  model2.Constraints.add(expr = sum(c_coef[j][i]*model2.x[i] for i in range(num_dvs)) >= c_rhs[j])\n",
        "\n",
        "#(Optional) You can use model.pprint() to see what you've done so far\n",
        "model2.pprint()"
      ],
      "metadata": {
        "id": "LbDLzg2cCQ1x",
        "colab": {
          "base_uri": "https://localhost:8080/"
        },
        "outputId": "2e83ec6f-f276-4e28-8cb2-15e62db5ac10"
      },
      "execution_count": null,
      "outputs": [
        {
          "output_type": "stream",
          "name": "stdout",
          "text": [
            "1 Var Declarations\n",
            "    x : Size=4, Index={0, 1, 2, 3}\n",
            "        Key : Lower : Value : Upper : Fixed : Stale : Domain\n",
            "          0 :     0 :  None :    20 : False :  True :  Reals\n",
            "          1 :     0 :  None :    20 : False :  True :  Reals\n",
            "          2 :     0 :  None :    20 : False :  True :  Reals\n",
            "          3 :     0 :  None :    20 : False :  True :  Reals\n",
            "\n",
            "1 Objective Declarations\n",
            "    Objective : Size=1, Index=None, Active=True\n",
            "        Key  : Active : Sense    : Expression\n",
            "        None :   True : minimize : 5*x[0] + 2*x[1] + 8*x[2] + 7*x[3]\n",
            "\n",
            "1 Constraint Declarations\n",
            "    Constraints : Size=3, Index={1, 2, 3}, Active=True\n",
            "        Key : Lower : Body                              : Upper : Active\n",
            "          1 :   4.0 :   0*x[0] + x[1] + 2*x[2] + 3*x[3] :  +Inf :   True\n",
            "          2 :   7.0 : 4*x[0] + 2*x[1] - 3*x[2] + 9*x[3] :  +Inf :   True\n",
            "          3 :   4.0 :     2*x[0] - x[1] + 2*x[2] + x[3] :  +Inf :   True\n",
            "\n",
            "3 Declarations: x Objective Constraints\n"
          ]
        }
      ]
    },
    {
      "cell_type": "code",
      "source": [
        "#solve model\n",
        "opt = SolverFactory('cbc')\n",
        "\n",
        "results = opt.solve(model2, tee = True)"
      ],
      "metadata": {
        "id": "i2XIGYgxCQ1x",
        "colab": {
          "base_uri": "https://localhost:8080/"
        },
        "outputId": "c169d97d-bba1-46e8-f305-12a13ec4ecc1",
        "collapsed": true
      },
      "execution_count": null,
      "outputs": [
        {
          "output_type": "stream",
          "name": "stdout",
          "text": [
            "Welcome to the CBC MILP Solver \n",
            "Version: 2.10.10 \n",
            "Build Date: Jun  7 2023 \n",
            "\n",
            "command line - /content/bin/cbc -printingOptions all -import /tmp/tmphwj37yiy.pyomo.lp -stat=1 -solve -solu /tmp/tmphwj37yiy.pyomo.soln (default strategy 1)\n",
            "Option for printingOptions changed from normal to all\n",
            "Presolve 3 (0) rows, 4 (0) columns and 11 (0) elements\n",
            "Statistics for presolved model\n",
            "\n",
            "\n",
            "Problem has 3 rows, 4 columns (4 with objective) and 11 elements\n",
            "Column breakdown:\n",
            "0 of type 0.0->inf, 4 of type 0.0->up, 0 of type lo->inf, \n",
            "0 of type lo->up, 0 of type free, 0 of type fixed, \n",
            "0 of type -inf->0.0, 0 of type -inf->up, 0 of type 0.0->1.0 \n",
            "Row breakdown:\n",
            "0 of type E 0.0, 0 of type E 1.0, 0 of type E -1.0, \n",
            "0 of type E other, 0 of type G 0.0, 0 of type G 1.0, \n",
            "3 of type G other, 0 of type L 0.0, 0 of type L 1.0, \n",
            "0 of type L other, 0 of type Range 0.0->1.0, 0 of type Range other, \n",
            "0 of type Free \n",
            "Presolve 3 (0) rows, 4 (0) columns and 11 (0) elements\n",
            "0  Obj 0 Primal inf 4.1111108 (3)\n",
            "2  Obj 16\n",
            "Optimal - objective value 16\n",
            "Optimal objective 16 - 2 iterations time 0.002\n",
            "Total time (CPU seconds):       0.00   (Wallclock seconds):       0.00\n",
            "\n"
          ]
        }
      ]
    },
    {
      "cell_type": "code",
      "source": [
        "#print relevant values\n",
        "for i in range(num_dvs):\n",
        "  print(f\"x{i} = {model2.x[i]()}\")\n",
        "print(\"obj* = \", model2.Objective())"
      ],
      "metadata": {
        "id": "DEACd0rrCQ1x",
        "colab": {
          "base_uri": "https://localhost:8080/"
        },
        "outputId": "94ac2d03-a3d7-4972-e945-4cd6790b8399"
      },
      "execution_count": null,
      "outputs": [
        {
          "output_type": "stream",
          "name": "stdout",
          "text": [
            "x0 = 1.3333333\n",
            "x1 = 0.0\n",
            "x2 = 0.0\n",
            "x3 = 1.3333333\n",
            "obj* =  15.9999996\n"
          ]
        }
      ]
    }
  ]
}